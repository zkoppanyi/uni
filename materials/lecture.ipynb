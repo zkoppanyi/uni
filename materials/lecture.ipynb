{
 "cells": [
  {
   "cell_type": "code",
   "execution_count": 1,
   "id": "fcb1c09b",
   "metadata": {},
   "outputs": [],
   "source": [
    "#%matplotlib widget\n",
    "import os\n",
    "import sys\n",
    "import numpy as np\n",
    "from scipy.spatial.transform import Rotation\n",
    "import matplotlib.pyplot as plt\n",
    "import math\n",
    "\n",
    "# Helper function for 'axis equal' in matplotlib's 3d view \n",
    "def set_3d_axes_equal(ax):\n",
    "    x_limits = ax.get_xlim3d()\n",
    "    y_limits = ax.get_ylim3d()\n",
    "    z_limits = ax.get_zlim3d()\n",
    "    x_range = abs(x_limits[1] - x_limits[0])\n",
    "    x_middle = np.mean(x_limits)\n",
    "    y_range = abs(y_limits[1] - y_limits[0])\n",
    "    y_middle = np.mean(y_limits)\n",
    "    z_range = abs(z_limits[1] - z_limits[0])\n",
    "    z_middle = np.mean(z_limits)\n",
    "    plot_radius = 0.5*max([x_range, y_range, z_range])\n",
    "    ax.set_xlim3d([x_middle - plot_radius, x_middle + plot_radius])\n",
    "    ax.set_ylim3d([y_middle - plot_radius, y_middle + plot_radius])\n",
    "    ax.set_zlim3d([z_middle - plot_radius, z_middle + plot_radius])    "
   ]
  },
  {
   "cell_type": "markdown",
   "id": "2a4fef9e",
   "metadata": {},
   "source": [
    "# Content\n",
    "\n",
    "- General introduction (problem definiations, loss function, least-squares and connection to statistics).\n",
    "- Non-linear iterative optimization: Newton's method, Gauss-Newton, Levenberg-Marquardt method\n",
    "- Exact Jacobians: symbolic computation vs. automatic differentation\n",
    "- Rotation representations, constraints and optimization on manifolds\n",
    "- Exploiting sparsity for faster convergence\n"
   ]
  },
  {
   "cell_type": "markdown",
   "id": "a042f421",
   "metadata": {},
   "source": [
    "# Introduction"
   ]
  },
  {
   "cell_type": "markdown",
   "id": "dcfa73e5",
   "metadata": {},
   "source": [
    "Let's start with motivation. Let's look at the following linear system:\n",
    "\n",
    "$ Ax = b $\n",
    "\n",
    "where $A$ is the so called coefficient matrix, $x$ is the vector of unknowns and $b$ is the right hand side vector.\n",
    "\n",
    "In practice there is no $x$ vector that would satisfy the above equation: $Ax \\neq b$. This typically happens due to the system is overdetermined, such as in case of leveling network adjustment, or in regression problems. The situation is not lost to find an appropriate $x$ value: we need to impose additional condition to find a solution. First we define the the vector of residuals:\n",
    "\n",
    "$ r(x) = Ax - b $,\n",
    "\n",
    "and then,\n",
    "\n",
    "$ \\min_{x} l(r(x))$\n",
    "\n",
    "is an optimization problem, where $l \\in \\mathbb{R}^n \\rightarrow \\mathbb{R}$ is called the loss function. The choice of loss function might depend on the underlying stochastic properties of the problem:\n",
    "\n",
    "- $l(x) = x^Tx$, is the widely used least-squares estimation. This estimation is so called best linear unbiased estimator (BLUE) if the $r$ vector as stochastic variable follows normal distribution\n",
    "- $l(x) = \\sum_i ||x_i||$ L1 norm\n",
    "- Huber loss, which is used in the presence of gross errors.\n",
    "\n",
    "However our model is typically non-linear, and thus \n",
    "\n",
    "$r(x) = F(x) - b $.\n",
    "\n",
    "Therefore the above presented optimization problem should be solved with some non-linear optimization technique.\n"
   ]
  },
  {
   "cell_type": "markdown",
   "id": "bc9c37c9",
   "metadata": {},
   "source": [
    "# Problem definition"
   ]
  },
  {
   "cell_type": "markdown",
   "id": "c88bd7f0",
   "metadata": {},
   "source": [
    "Applications:\n",
    "- Iterative closest point algorithm for point cloud registration\n",
    "- Robot navigation\n",
    "- Optimal transformation between two trajectories\n",
    "- [Comparing moluecular structures](https://cnx.org/contents/HV-RsdwL@23/Molecular-Distance-Measures)"
   ]
  },
  {
   "cell_type": "markdown",
   "id": "560963bc",
   "metadata": {},
   "source": [
    "We wish to solve the following non-linear least squares problem:\n",
    "$$ \n",
    "\\min_{R,\\mathbf{t}} \\sum_{i=1}^{N} \\lVert(R\\mathbf{p}_i + \\mathbf{t}) - \\mathbf{q}_i\\lVert_2,\n",
    "$$\n",
    "where $R \\in SO(3)$ is the rotation matrix, $\\mathbf{t}\\in \\mathbb{R}^3$ is the translation vector and $\\mathbf{p}_i, \\mathbf{q}_i \\in \\mathbb{R}^3$ are the model and target points, respectively. With $\\mathbf{r}(R, \\mathbf{t}) = (R\\mathbf{p}_i + \\mathbf{t}) - \\mathbf{q}_i$ residual vector function, the problem can be written as:\n",
    "$$ \n",
    "\\min_{R,\\mathbf{t}} \\sum_{i=1}^{N} \\mathbf{r}(R,\\mathbf{t})^2,\n",
    "$$\n",
    "or in vector form:\n",
    "$$ \n",
    "\\min_{R,\\mathbf{t}} \\mathbf{r}^\\mathsf{T}(R,\\mathbf{t}) \\mathbf{r}(R,\\mathbf{t}).\n",
    "$$\n"
   ]
  },
  {
   "cell_type": "markdown",
   "id": "3d099274",
   "metadata": {},
   "source": [
    "To work with some data, we generate random points:"
   ]
  },
  {
   "cell_type": "code",
   "execution_count": 2,
   "id": "ffdec074",
   "metadata": {},
   "outputs": [],
   "source": [
    "np.random.seed(10)\n",
    "pts_model = np.random.rand(10, 3) + np.array([1, 2, 3]) # so the point are not around the origin"
   ]
  },
  {
   "cell_type": "markdown",
   "id": "0864947e",
   "metadata": {},
   "source": [
    "Then we need the ground truth rotation and translation values. I parametrize the rotation vector via Euler angles: $R(\\gamma, \\beta, \\alpha)$, where $\\gamma$ is the yaw, $\\beta$ is the pitch and $\\alpha$ is the roll angle. "
   ]
  },
  {
   "cell_type": "code",
   "execution_count": 3,
   "id": "3b2d243f",
   "metadata": {},
   "outputs": [],
   "source": [
    "ypr_gt = [45/180.0*math.pi, -15/180.0*math.pi, 20/180.0*math.pi]\n",
    "t_gt = [1, -2, 3]\n",
    "x_gt = np.append(ypr_gt, t_gt)"
   ]
  },
  {
   "cell_type": "markdown",
   "id": "e236abdb",
   "metadata": {},
   "source": [
    "The Euler angles are intrepreted as intrinsic rotations around the Z, Y and final the X axis."
   ]
  },
  {
   "cell_type": "code",
   "execution_count": 4,
   "id": "e08dce1a",
   "metadata": {},
   "outputs": [],
   "source": [
    "R_gt = Rotation.from_euler('ZYX', ypr_gt, degrees=False).as_matrix()"
   ]
  },
  {
   "cell_type": "markdown",
   "id": "bf2fbb13",
   "metadata": {},
   "source": [
    " Note that this is the same rotation as defining the extrinsic rotation in X, Y, Z axis order, but roll, pitch, yaw angle order."
   ]
  },
  {
   "cell_type": "code",
   "execution_count": 5,
   "id": "9b8c42de",
   "metadata": {},
   "outputs": [
    {
     "data": {
      "text/plain": [
       "8.326672684688674e-17"
      ]
     },
     "execution_count": 5,
     "metadata": {},
     "output_type": "execute_result"
    }
   ],
   "source": [
    "R_int = Rotation.from_euler('ZYX', ypr_gt, degrees=False).as_matrix()\n",
    "R_ext = Rotation.from_euler('xyz', [ypr_gt[2], ypr_gt[1], ypr_gt[0]], degrees=False).as_matrix()\n",
    "np.linalg.norm(R_ext - R_int)"
   ]
  },
  {
   "cell_type": "markdown",
   "id": "49b3c32e",
   "metadata": {},
   "source": [
    "Finally we apply the rotation on our synthetic data:"
   ]
  },
  {
   "cell_type": "code",
   "execution_count": 6,
   "id": "c879618e",
   "metadata": {},
   "outputs": [],
   "source": [
    "pts_target = (R_gt @ pts_model.T).T + t_gt"
   ]
  },
  {
   "cell_type": "markdown",
   "id": "6a7c161f",
   "metadata": {},
   "source": [
    "The random model points and the transformet target points look like this in 2D:"
   ]
  },
  {
   "cell_type": "code",
   "execution_count": 7,
   "id": "03853cf8",
   "metadata": {},
   "outputs": [
    {
     "data": {
      "text/plain": [
       "<matplotlib.collections.PathCollection at 0x7fb17840a460>"
      ]
     },
     "execution_count": 7,
     "metadata": {},
     "output_type": "execute_result"
    },
    {
     "data": {
      "image/png": "[encoded data removed]",
      "text/plain": [
       "<Figure size 600x500 with 1 Axes>"
      ]
     },
     "metadata": {},
     "output_type": "display_data"
    }
   ],
   "source": [
    "plt.figure(figsize=(6,5))\n",
    "plt.scatter(pts_model[:, 0], pts_model[:, 1])\n",
    "plt.scatter(pts_target[:, 0], pts_target[:, 1])"
   ]
  },
  {
   "cell_type": "markdown",
   "id": "e39c96c4",
   "metadata": {},
   "source": [
    "... and in 3D:"
   ]
  },
  {
   "cell_type": "code",
   "execution_count": 8,
   "id": "422bfe5b",
   "metadata": {},
   "outputs": [
    {
     "data": {
      "image/png": "[encoded data removed]",
      "text/plain": [
       "<Figure size 600x500 with 1 Axes>"
      ]
     },
     "metadata": {},
     "output_type": "display_data"
    }
   ],
   "source": [
    "def viz_solution(pts_model, pts_target, pts_model_hat=None):\n",
    "    plt.figure(figsize=(6,5))\n",
    "    ax = plt.axes(projection='3d')\n",
    "    ax.scatter3D(pts_model[:,0], pts_model[:,1], pts_model[:,2], c='r', s=10)\n",
    "    ax.scatter3D(pts_target[:,0], pts_target[:,1], pts_target[:,2], c='b', s=10)\n",
    "    if pts_model_hat is not None:\n",
    "        ax.scatter3D(pts_model_hat[:,0], pts_model_hat[:,1], pts_model_hat[:,2], c='g', s=10)\n",
    "\n",
    "viz_solution(pts_model, pts_target)"
   ]
  },
  {
   "cell_type": "markdown",
   "id": "76b8eb0e",
   "metadata": {},
   "source": [
    "# Solution #1: Singular value decomposition ([Kabsch-Umeyama algorithm](https://en.wikipedia.org/wiki/Kabsch_algorithm))"
   ]
  },
  {
   "cell_type": "markdown",
   "id": "95592d65",
   "metadata": {},
   "source": [
    "In his 1978 paper, titled [\"A discussion of the solution for the best rotation to relate two sets of vectors\"](https://onlinelibrary.wiley.com/doi/abs/10.1107/S0567739478001680), Wolfgang Kabsch gave a closed form solution for the least squares estimate of the rotation, i.e. when $\\mathbf{t} = \\mathbf{0}$.  However obtaining the translation is somewhat trivial, Umeyama completes Kabsch algorithm in his 1991 paper titled [\"Least-squares estimation of transformation parameters between two point patterns\"](https://web.stanford.edu/class/cs273/refs/umeyama.pdf). For a more recent derivation, as it appears in modern computer vision courses, see the [lecture notes from ETH Zurich](https://igl.ethz.ch/projects/ARAP/svd_rot.pdf). Note that this is the standard way to solve the problem of finding the optimial transform between two sets of points in least squares sense."
   ]
  },
  {
   "cell_type": "markdown",
   "id": "cf757b6e",
   "metadata": {},
   "source": [
    "SVD decomposition is the standard and most efficient way to find the rigid body transformation between two point sets."
   ]
  },
  {
   "cell_type": "markdown",
   "id": "ec276349",
   "metadata": {},
   "source": [
    "First we need to compute the center of gravity (or the means) of the two point sets:\n",
    "$$\n",
    "\\bar{\\mathbf{p}} = \\frac{\\sum_{i=1}^N \\mathbf{p}_i}{N}, \n",
    "$$\n",
    "$$\n",
    "\\bar{\\mathbf{q}} = \\frac{\\sum_{i=1}^N \\mathbf{q}_i}{N},\n",
    "$$\n",
    "and then, move the point sets to their respective center of gravities:\n",
    "$$\n",
    "\\tilde{\\mathbf{p}} = \\mathbf{p} - \\bar{\\mathbf{p}},  \n",
    "$$\n",
    "$$\n",
    "\\tilde{\\mathbf{q}} = \\mathbf{q} - \\bar{\\mathbf{q}} .\n",
    "$$"
   ]
  },
  {
   "cell_type": "code",
   "execution_count": 9,
   "id": "2e672b4c",
   "metadata": {},
   "outputs": [],
   "source": [
    "cog_model = np.mean(pts_model, axis=0)\n",
    "cog_target = np.mean(pts_target, axis=0)\n",
    "\n",
    "pts_model_cog = pts_model - cog_model\n",
    "pts_target_cog = pts_target - cog_target"
   ]
  },
  {
   "cell_type": "code",
   "execution_count": 10,
   "id": "e5a63d1a",
   "metadata": {},
   "outputs": [],
   "source": [
    "C = pts_model_cog.T @ pts_target_cog"
   ]
  },
  {
   "cell_type": "code",
   "execution_count": 11,
   "id": "773d875d",
   "metadata": {},
   "outputs": [
    {
     "name": "stdout",
     "output_type": "stream",
     "text": [
      "Check decomposition ( =0):  8.587626973376621e-16\n"
     ]
    }
   ],
   "source": [
    "# %% SVD decomposition\n",
    "[U, S, V] = np.linalg.svd(C)\n",
    "V = V.T\n",
    "C_chk = U @ np.diag(S) @ V.T\n",
    "print('Check decomposition ( =0): ', np.linalg.norm(C_chk - C))"
   ]
  },
  {
   "cell_type": "code",
   "execution_count": 12,
   "id": "08188039",
   "metadata": {},
   "outputs": [
    {
     "name": "stdout",
     "output_type": "stream",
     "text": [
      "Check R ( =0):  1.0153572273985581e-15\n",
      "Check t ( =0): 3.1165445441279525e-15\n"
     ]
    }
   ],
   "source": [
    "R_svd = V @ U.T\n",
    "t_svd = cog_target - R_svd @ cog_model\n",
    "\n",
    "print('Check R ( =0): ', np.linalg.norm(R_svd - R_gt))\n",
    "print('Check t ( =0):', np.linalg.norm(t_svd - t_gt))"
   ]
  },
  {
   "cell_type": "code",
   "execution_count": 13,
   "id": "57d3b947",
   "metadata": {},
   "outputs": [],
   "source": [
    "pts_model_hat = (R_svd @ pts_model.T).T + t_svd"
   ]
  },
  {
   "cell_type": "code",
   "execution_count": 14,
   "id": "38125359",
   "metadata": {},
   "outputs": [
    {
     "name": "stdout",
     "output_type": "stream",
     "text": [
      "Check transformation ( =0) 1.5895974606912448e-15\n"
     ]
    }
   ],
   "source": [
    "res_svd = np.linalg.norm(pts_model_hat - pts_target, axis=1)\n",
    "print('Check transformation ( =0)', np.linalg.norm(res_svd))"
   ]
  },
  {
   "cell_type": "code",
   "execution_count": 15,
   "id": "3f8a134b",
   "metadata": {},
   "outputs": [
    {
     "data": {
      "image/png": "[encoded data removed]",
      "text/plain": [
       "<Figure size 600x500 with 1 Axes>"
      ]
     },
     "metadata": {},
     "output_type": "display_data"
    }
   ],
   "source": [
    "viz_solution(pts_model, pts_target, pts_model_hat)"
   ]
  },
  {
   "cell_type": "markdown",
   "id": "6d8c755b",
   "metadata": {},
   "source": [
    "Computation time of SVD can be found here: https://www.cs.utexas.edu/users/inderjit/public_papers/HLA_SVD.pdf"
   ]
  },
  {
   "cell_type": "markdown",
   "id": "74a6868e",
   "metadata": {},
   "source": [
    "# Solution #2: with solving matrix inverse"
   ]
  },
  {
   "cell_type": "code",
   "execution_count": 16,
   "id": "dce89818",
   "metadata": {},
   "outputs": [],
   "source": [
    "from scipy.linalg import sqrtm"
   ]
  },
  {
   "cell_type": "markdown",
   "id": "b51ae4d4",
   "metadata": {},
   "source": [
    "We can also obtain the solution using following [formula](https://en.wikipedia.org/wiki/Kabsch_algorithm):\n",
    "$$\n",
    "R = (C^\\mathsf{T}C)^{1/2}C^{-1}\n",
    "$$"
   ]
  },
  {
   "cell_type": "code",
   "execution_count": 17,
   "id": "2671332a",
   "metadata": {},
   "outputs": [
    {
     "name": "stdout",
     "output_type": "stream",
     "text": [
      "2.5931789359437717e-15\n"
     ]
    }
   ],
   "source": [
    "R_minv = sqrtm(C.transpose() @ C) @ np.linalg.inv(C)\n",
    "print(np.linalg.norm(R_gt - R_minv))"
   ]
  },
  {
   "cell_type": "markdown",
   "id": "24591870",
   "metadata": {},
   "source": [
    "# Solution #3: using derivative-free *scipy* optimizer"
   ]
  },
  {
   "cell_type": "code",
   "execution_count": 18,
   "id": "79bcb6a9",
   "metadata": {},
   "outputs": [],
   "source": [
    "from scipy.optimize import minimize"
   ]
  },
  {
   "cell_type": "code",
   "execution_count": 19,
   "id": "5290e70a",
   "metadata": {},
   "outputs": [
    {
     "name": "stdout",
     "output_type": "stream",
     "text": [
      "Check residual function ( =0):  0.0\n"
     ]
    }
   ],
   "source": [
    "R_x =  lambda x0: Rotation.from_euler('ZYX', x0[:3], degrees=False).as_matrix()\n",
    "r_x = lambda x0: ((R_x(x0) @ pts_model.T).T + np.array([x0[3:6]]) - pts_target).ravel()\n",
    "print('Check residual function ( =0): ', np.linalg.norm(r_x(x_gt)))"
   ]
  },
  {
   "cell_type": "markdown",
   "id": "06f7e903",
   "metadata": {},
   "source": [
    "We will use the derivative free simplex method."
   ]
  },
  {
   "cell_type": "code",
   "execution_count": 20,
   "id": "f76009a3",
   "metadata": {},
   "outputs": [
    {
     "name": "stdout",
     "output_type": "stream",
     "text": [
      "Optimization terminated successfully.\n",
      "         Current function value: 0.000000\n",
      "         Iterations: 914\n",
      "         Function evaluations: 1434\n",
      "Check solution ( =0):  3.1873147736009076e-07\n"
     ]
    }
   ],
   "source": [
    "x0 = np.array([45.0-15.0, -15.0+25.0, 20.0+25.0, 1.0+1.5, -2.0+1.8, 3.0-1.2]) # converges to the solution in 914 iterations\n",
    "x0[:3] *= 1.0/180.0*math.pi\n",
    "#x0 = np.array([0, 0, 0, 0, 0, 0]) # converges to local minumum\n",
    "    \n",
    "res = minimize(lambda x: np.linalg.norm(r_x(x)), x0, method='nelder-mead',\n",
    "               options={'xatol': 1e-6, 'disp': True, 'maxiter': 2000})\n",
    "\n",
    "print('Check solution ( =0): ', np.linalg.norm(res.x - x_gt))"
   ]
  },
  {
   "cell_type": "markdown",
   "id": "289a1c96",
   "metadata": {},
   "source": [
    "As we can see this method is relatively sensitive to the choosen initial guess."
   ]
  },
  {
   "cell_type": "markdown",
   "id": "dbade45e",
   "metadata": {},
   "source": [
    "However, we can find another derivative-free algorithm that provides the solution even with extreme initial guess. See the example with [BFGS](https://docs.scipy.org/doc/scipy/tutorial/optimize.html#broyden-fletcher-goldfarb-shanno-algorithm-method-bfgs)."
   ]
  },
  {
   "cell_type": "code",
   "execution_count": 21,
   "id": "b4e98608",
   "metadata": {},
   "outputs": [
    {
     "name": "stdout",
     "output_type": "stream",
     "text": [
      "Warning: Desired error not necessarily achieved due to precision loss.\n",
      "         Current function value: 0.000001\n",
      "         Iterations: 49\n",
      "         Function evaluations: 887\n",
      "         Gradient evaluations: 125\n",
      "Check solution ( =0):  1.6784754678364918e-06\n"
     ]
    }
   ],
   "source": [
    "x0 = np.array([0, 0, 0, 0, 0, 0]) # converges to the solution in 49 iterations\n",
    "res = minimize(lambda x: np.linalg.norm(r_x(x)), x0, method='BFGS',\n",
    "               options={'disp': True, 'maxiter': 2000})\n",
    "\n",
    "print('Check solution ( =0): ', np.linalg.norm(res.x - x_gt))"
   ]
  },
  {
   "cell_type": "markdown",
   "id": "03e8219c",
   "metadata": {},
   "source": [
    "# Solution #4: Newton's method & algebraic gradient and Hessian"
   ]
  },
  {
   "cell_type": "markdown",
   "id": "28c3af53",
   "metadata": {},
   "source": [
    "Non linear iterative optimizors can be described with the following general form:\n",
    "\n",
    "$ x_{k+1} = x_{k} + \\Delta x $\n",
    "\n",
    "where $k$ is the iteration number, $ \\Delta x $ is called the update step. $x_0$ is the initial guess and needs to be provided. The iteration is terminated if some stopping criteria is reached, for instance:\n",
    "\n",
    "- the update step reaches a threshold, e.g. $ ||\\Delta x|| < \\epsilon $; this is often refered as step tolerance, and\n",
    "\n",
    "- the difference of the function values at the consecutive unknowns meets a predifined value, e.g. $ ||f(x_k) - f(x_{k-1})|| < \\epsilon $; this is often refered as function tolerance.\n",
    "\n",
    "Different optimizors define the update step differently. For instance the gradient descent mehtod uses the gradient of the function and a predefinied or heuristically updated step size:\n",
    "\n",
    "$ \\Delta x_{k+1} = \\alpha_k \\nabla f(x_k) $\n",
    "\n",
    "Gradient descent exhibits robust convergence properties (can find the solution) but slow convergence rate in general (finding the solution can take many iterations).\n",
    "\n",
    "Newton's method is a general optimization technique typically shows faster convergence rate than gradient descent. The Newton's update step, also called newton step is as follows:\n",
    "\n",
    "$ \\Delta x_{k+1} = H_{f(x_k)}^{-1}(x_k) \\nabla f(x_k) $\n",
    "\n",
    "The connetion between the descent and Newton's method is clear: $ \\alpha_k = H_{f(x_k)}^{-1}(x_k) $.\n",
    "\n",
    "The Hessian can be interpreted many ways:\n",
    "\n",
    "- Second order approximator\n",
    "- Steepest decent direction in Hessian norm"
   ]
  },
  {
   "attachments": {
    "image.png": {
     "image/png": "[encoded data removed]"
    }
   },
   "cell_type": "markdown",
   "id": "9f591da4",
   "metadata": {},
   "source": [
    "![image.png](attachment:image.png)\n",
    "Source: https://stanford.edu/~boyd/cvxbook/bv_cvxbook.pdf#page=498&zoom=100,214,410"
   ]
  },
  {
   "cell_type": "markdown",
   "id": "03c073fc",
   "metadata": {},
   "source": [
    "In the 2000s, a special problem class, the so called convex functions and their optimization become the interst of many research. The reason that researchers found many ways to convert problems to convex problems. It's relatively easy to see that Newton's method can provide globally optimal solution for complex problems. "
   ]
  },
  {
   "cell_type": "code",
   "execution_count": 22,
   "id": "aaf2543b",
   "metadata": {},
   "outputs": [],
   "source": [
    "import sympy as sym\n",
    "from math import cos, sin, pi"
   ]
  },
  {
   "cell_type": "markdown",
   "id": "8876ecd7",
   "metadata": {},
   "source": [
    "In order to improve on the convergence rate and hopefully improve on the sensitivity of the initial guess, let's try to use analytical derivatives."
   ]
  },
  {
   "cell_type": "code",
   "execution_count": 23,
   "id": "4f2ef57a",
   "metadata": {},
   "outputs": [],
   "source": [
    "o, p, k, x, y, z = sym.symbols('o p k x y z')"
   ]
  },
  {
   "cell_type": "code",
   "execution_count": 24,
   "id": "e21c74ee",
   "metadata": {},
   "outputs": [],
   "source": [
    "def Rx_s(theta):\n",
    "  return sym.Matrix([[ 1, 0           , 0           ],\n",
    "                   [ 0, sym.cos(theta),-sym.sin(theta)],\n",
    "                   [ 0, sym.sin(theta), sym.cos(theta)]])\n",
    "  \n",
    "def Ry_s(theta):\n",
    "  return sym.Matrix([[sym.cos(theta), 0, sym.sin(theta)],\n",
    "                   [ 0           , 1, 0           ],\n",
    "                   [-sym.sin(theta), 0, sym.cos(theta)]])\n",
    "  \n",
    "def Rz_s(theta):\n",
    "  return sym.Matrix([[sym.cos(theta), -sym.sin(theta), 0 ],\n",
    "                   [ sym.sin(theta), sym.cos(theta) , 0 ],\n",
    "                   [ 0           , 0            , 1 ]])\n",
    "\n",
    "ypr2rot_sym = lambda k, p, o: Rz_s(k) @ Ry_s(p) @ Rx_s(o)\n",
    "#print('Check rotation composition ( =0)', np.linalg.norm(R_fn(ypr_gt[0], ypr_gt[1], ypr_gt[2]) - R_gt))"
   ]
  },
  {
   "cell_type": "code",
   "execution_count": 25,
   "id": "3a7c8ef6",
   "metadata": {},
   "outputs": [
    {
     "name": "stdout",
     "output_type": "stream",
     "text": [
      "Check rotation composition ( =0):  5.028663855320258e-16\n"
     ]
    }
   ],
   "source": [
    "R_sym = ypr2rot_sym(k, p, o)\n",
    "R_sym_sub = R_sym.subs({k: float(ypr_gt[0]), p: float(ypr_gt[1]), o: float(ypr_gt[2])})\n",
    "R_sym_sub_np = np.array(R_sym_sub.tolist()).astype('float')\n",
    "print('Check rotation composition ( =0): ', np.linalg.norm(R_sym_sub_np - R_gt))"
   ]
  },
  {
   "cell_type": "markdown",
   "id": "1ac39b7f",
   "metadata": {},
   "source": [
    "Define cost function:"
   ]
  },
  {
   "cell_type": "code",
   "execution_count": 26,
   "id": "6f01775e",
   "metadata": {},
   "outputs": [
    {
     "name": "stdout",
     "output_type": "stream",
     "text": [
      "Number of chars of cost function : 5651    5.651 kB\n"
     ]
    }
   ],
   "source": [
    "dt_sym = np.tile(np.array([x, y, z]), (pts_model.shape[0], 1))\n",
    "res_sym_vec = (R_sym @ pts_model.T).T + dt_sym - pts_target\n",
    "res_sym_vec = res_sym_vec.reshape(pts_model.shape[0]*3, 1) # reshape it from (N x 3) -> (M x 1)\n",
    "cost_fn_sym = res_sym_vec.T @ res_sym_vec\n",
    "\n",
    "print('Number of chars of cost function :', len(str(cost_fn_sym)), '  ', len(str(cost_fn_sym))/1000, 'kB')"
   ]
  },
  {
   "cell_type": "code",
   "execution_count": 27,
   "id": "4861e403",
   "metadata": {},
   "outputs": [
    {
     "name": "stdout",
     "output_type": "stream",
     "text": [
      "Number of chars of cost function : 1053    1.053 kB\n"
     ]
    }
   ],
   "source": [
    "cost_fn_sym = sym.simplify(cost_fn_sym) # this might take a bit of time\n",
    "print('Number of chars of cost function :', len(str(cost_fn_sym)), '  ', len(str(cost_fn_sym))/1000, 'kB')"
   ]
  },
  {
   "cell_type": "markdown",
   "id": "e125ac11",
   "metadata": {},
   "source": [
    "Define & lambdify gradient function: "
   ]
  },
  {
   "cell_type": "code",
   "execution_count": 28,
   "id": "5aaa3e67",
   "metadata": {},
   "outputs": [
    {
     "name": "stdout",
     "output_type": "stream",
     "text": [
      "Check gradient (= 0):  8.35454444562689e-14\n",
      "Number of chars of gradient function : 2675    2.675 kB\n"
     ]
    }
   ],
   "source": [
    "g = sym.Matrix([cost_fn_sym.diff(var) for var in [k, p, o, x, y, z]])\n",
    "# g = g.applyfunc(sym.simplify) # does not change anything\n",
    "\n",
    "g_x_sym = lambda x0: g.subs({k: float(x0[0]), p: float(x0[1]), o: float(x0[2]), \n",
    "                             x: float(x0[3]), y: float(x0[4]), z: float(x0[5])})\n",
    "g_x = lambda x0: np.array(g_x_sym(x0).tolist()).astype('float')\n",
    "print('Check gradient (= 0): ', np.linalg.norm(g_x(x_gt)))\n",
    "print('Number of chars of gradient function :', len(str(g)), '  ', len(str(g))/1000, 'kB')"
   ]
  },
  {
   "cell_type": "markdown",
   "id": "14d5a62b",
   "metadata": {},
   "source": [
    "Define & lambdify Hessian matrix: "
   ]
  },
  {
   "cell_type": "code",
   "execution_count": 29,
   "id": "d12d5dda",
   "metadata": {},
   "outputs": [
    {
     "name": "stdout",
     "output_type": "stream",
     "text": [
      "Shape of Hessian (= (6,6)) :  (6, 6)\n",
      "Min value of Eigenvalues (> 0):  0.07609313347492395\n",
      "Number of chars of Hessian function : 7338    7.338 kB\n"
     ]
    }
   ],
   "source": [
    "H = sym.hessian(cost_fn_sym, [k, p, o, x, y, z])\n",
    "#H = H.applyfunc(sym.simplify) # only small imporvement: 7280 vs. 7338 chars\n",
    "\n",
    "H_x_sym = lambda x0: H.subs({k: float(x0[0]), p: float(x0[1]), o: float(x0[2]), \n",
    "                             x: float(x0[3]), y: float(x0[4]), z: float(x0[5])})\n",
    "H_x = lambda x0: np.array(H_x_sym(x0).tolist()).astype('float')\n",
    "\n",
    "print('Shape of Hessian (= (6,6)) : ', H_x(x_gt).shape)\n",
    "print('Min value of Eigenvalues (> 0): ', np.min(np.linalg.eigvals(H_x(x_gt))))\n",
    "print('Number of chars of Hessian function :', len(str(H)), '  ', len(str(H))/1000, 'kB')"
   ]
  },
  {
   "cell_type": "markdown",
   "id": "cb2e5f34",
   "metadata": {},
   "source": [
    "Solve the problem with Newton's method. The method should exhibit quadratic convergence if x0 is \"good enough\"."
   ]
  },
  {
   "cell_type": "code",
   "execution_count": 30,
   "id": "062d4f81",
   "metadata": {},
   "outputs": [],
   "source": [
    "def optimizer_framework(step_function, x0, x_gt, iter_callback=None):\n",
    "    print('Iteration # {:6s} {:18s} {:15s} {:20s}'.format('', 'delta gt', 'dx', 'dr'))\n",
    "    print('----------------------------------------------------------------')\n",
    "    def print_iter(iter_num, chk, dx, dr):\n",
    "        print('Iteration #{:d} {:15.8f} {:15.8f} {:15.8f}'.format(iter_num, chk, dx, dr))\n",
    "\n",
    "    dx = np.inf\n",
    "    iter_num = 0\n",
    "\n",
    "    print_iter(iter_num, np.linalg.norm(x0 - x_gt), np.nan, np.linalg.norm(g_x(x0)))\n",
    "    while np.linalg.norm(dx) > 1e-6 and iter_num < 100:\n",
    "        iter_num += 1\n",
    "        dx = step_function(x0)\n",
    "        x0 = x0 - dx\n",
    "\n",
    "        if iter_callback is not None:\n",
    "            iter_callback(x0)\n",
    "        print_iter(iter_num, np.linalg.norm(x0 - x_gt), np.linalg.norm(dx), np.linalg.norm(r_x(x0)))\n",
    "        \n",
    "    print('Check solution ( =0): ', np.linalg.norm(x0 - x_gt))"
   ]
  },
  {
   "cell_type": "code",
   "execution_count": 31,
   "id": "59d7960d",
   "metadata": {},
   "outputs": [
    {
     "name": "stdout",
     "output_type": "stream",
     "text": [
      "Iteration #        delta gt           dx              dr                  \n",
      "----------------------------------------------------------------\n",
      "Iteration #0     15.12545241             nan   1259.95476705\n",
      "Iteration #1      3.01958731     14.40831646      0.75899083\n",
      "Iteration #2      2.25179108      4.86883458      8.30270134\n",
      "Iteration #3      1.79218099      2.59172528      0.54922379\n",
      "Iteration #4      0.47753007      1.74003506      1.50710882\n",
      "Iteration #5      0.06017238      0.47710095      0.01266341\n",
      "Iteration #6      0.00039927      0.06013586      0.00126521\n",
      "Iteration #7      0.00000020      0.00039930      0.00000004\n",
      "Iteration #8      0.00000000      0.00000020      0.00000000\n",
      "Check solution ( =0):  7.808759780034745e-14\n"
     ]
    }
   ],
   "source": [
    "x0 = np.array([45.0-15.0, -15.0+25.0, 20.0-25.0, 1.0+10.5, -2.0-10.8, 3.0-1.2]) # converging to the solution in 8 iterations\n",
    "#x0 = np.array([0.0, 0.0, 0.0, 0.0, 0.0, 0.0]) # converging to a local minimum in 20 iteration\n",
    "x0[:3] *= 1.0/180.0*pi\n",
    "\n",
    "def newton_step(x):\n",
    "    dx = np.linalg.inv(H_x(x)) @ g_x(x)\n",
    "    return dx.reshape(-1)\n",
    "\n",
    "optimizer_framework(newton_step, x0, x_gt)"
   ]
  },
  {
   "cell_type": "markdown",
   "id": "3a6af307",
   "metadata": {},
   "source": [
    "It seems this solution is also sensitive for the initial guess."
   ]
  },
  {
   "cell_type": "code",
   "execution_count": 32,
   "id": "07bab247",
   "metadata": {},
   "outputs": [
    {
     "name": "stdout",
     "output_type": "stream",
     "text": [
      "Iteration #        delta gt           dx              dr                  \n",
      "----------------------------------------------------------------\n",
      "Iteration #0     15.12545241             nan   1259.95476705\n",
      "Iteration #1      3.01958731     14.40831646      0.75899083\n",
      "Iteration #2      2.25179108      4.86883458      8.30270134\n",
      "Iteration #3      1.79218099      2.59172528      0.54922379\n",
      "Iteration #4      0.47753007      1.74003506      1.50710882\n",
      "Iteration #5      0.06017238      0.47710095      0.01266341\n",
      "Iteration #6      0.00039927      0.06013586      0.00126521\n",
      "Iteration #7      0.00000020      0.00039930      0.00000004\n",
      "Iteration #8      0.00000000      0.00000020      0.00000000\n",
      "Check solution ( =0):  7.808759780034745e-14\n"
     ]
    }
   ],
   "source": [
    "x0 = np.array([45.0-15.0, -15.0+25.0, 20.0-25.0, 1.0+10.5, -2.0-10.8, 3.0-1.2]) # converging to the solution in 8 iterations\n",
    "x0[:3] *= 1.0/180.0*pi\n",
    "\n",
    "cost_per_iter = []\n",
    "def iter_callback(xk):\n",
    "    dx_gt = np.linalg.norm(xk - x_gt)\n",
    "    cost_per_iter.append(dx_gt)\n",
    "    \n",
    "def newton_step(x):\n",
    "    dx = np.linalg.inv(H_x(x)) @ g_x(x)\n",
    "    return dx.reshape(-1)\n",
    "\n",
    "optimizer_framework(newton_step, x0, x_gt, iter_callback=iter_callback)"
   ]
  },
  {
   "cell_type": "code",
   "execution_count": 33,
   "id": "ef654293",
   "metadata": {},
   "outputs": [
    {
     "data": {
      "text/plain": [
       "Text(0.5, 1.0, \"Convergence of Newton's method\")"
      ]
     },
     "execution_count": 33,
     "metadata": {},
     "output_type": "execute_result"
    },
    {
     "data": {
      "image/png": "[encoded data removed]",
      "text/plain": [
       "<Figure size 640x480 with 1 Axes>"
      ]
     },
     "metadata": {},
     "output_type": "display_data"
    }
   ],
   "source": [
    "plt.figure()\n",
    "plt.plot(range(len(cost_per_iter)), cost_per_iter, '.-')\n",
    "plt.yscale('log')\n",
    "plt.grid(True,which=\"both\", linestyle='-.')\n",
    "plt.ylabel('log(norm(x_hat - x_gt))')\n",
    "plt.xlabel('iteration #')\n",
    "plt.title(\"Convergence of Newton's method\")"
   ]
  },
  {
   "cell_type": "markdown",
   "id": "25c6fac9",
   "metadata": {},
   "source": [
    "# Solution #5: Newton's method with *scipy* optimizer"
   ]
  },
  {
   "cell_type": "code",
   "execution_count": 34,
   "id": "0c0bda83",
   "metadata": {},
   "outputs": [],
   "source": [
    "from scipy.optimize import minimize"
   ]
  },
  {
   "cell_type": "markdown",
   "id": "ed59fe31",
   "metadata": {},
   "source": [
    "For better convergence properties, we can do line search with the Hessian. In the next we will use [built-in](https://docs.scipy.org/doc/scipy/tutorial/optimize.html#newton-conjugate-gradient-algorithm-method-newton-cg) function that utilizes this technique. "
   ]
  },
  {
   "cell_type": "code",
   "execution_count": 35,
   "id": "ec85fc8b",
   "metadata": {},
   "outputs": [
    {
     "name": "stdout",
     "output_type": "stream",
     "text": [
      "Norm from GT:  3.7041334871323515\n",
      "Norm from GT:  3.62944233756627\n",
      "Norm from GT:  3.226214699361739\n",
      "Norm from GT:  2.950638441802581\n",
      "Norm from GT:  2.7276973985275763\n",
      "Norm from GT:  2.5158539381998377\n",
      "Norm from GT:  2.276835351748999\n",
      "Norm from GT:  2.19763874122218\n",
      "Norm from GT:  2.164089650025141\n",
      "Norm from GT:  2.087460697274565\n",
      "Norm from GT:  2.0412219657155033\n",
      "Norm from GT:  2.0052894556731995\n",
      "Norm from GT:  1.9697939285204098\n",
      "Norm from GT:  1.9052790074311088\n",
      "Norm from GT:  1.868769120081035\n",
      "Norm from GT:  1.8089542337670592\n",
      "Norm from GT:  1.8085551304490441\n",
      "Norm from GT:  1.3103473838635593\n",
      "Norm from GT:  1.3098042968294696\n",
      "Norm from GT:  1.303384474040952\n",
      "Norm from GT:  1.0836778423909463\n",
      "Norm from GT:  1.0764688758789729\n",
      "Norm from GT:  0.6282515191734298\n",
      "Norm from GT:  0.6279927998000695\n",
      "Norm from GT:  0.6237173997739611\n",
      "Norm from GT:  0.3614343944950499\n",
      "Norm from GT:  0.36132852693696377\n",
      "Norm from GT:  0.3593894470815389\n",
      "Norm from GT:  0.11828585335615903\n",
      "Norm from GT:  0.11823875274785114\n",
      "Norm from GT:  0.11756824459367211\n",
      "Norm from GT:  0.0020078685348988074\n",
      "Norm from GT:  0.0014138849233501236\n",
      "Norm from GT:  0.0014129754504655398\n",
      "Norm from GT:  6.759917994214175e-05\n",
      "Norm from GT:  8.66973883974362e-10\n",
      "Norm from GT:  7.256200570617873e-10\n",
      "Optimization terminated successfully.\n",
      "         Current function value: 0.000000\n",
      "         Iterations: 37\n",
      "         Function evaluations: 49\n",
      "         Gradient evaluations: 49\n",
      "         Hessian evaluations: 37\n"
     ]
    }
   ],
   "source": [
    "cost_per_iter = []\n",
    "def iter_callback(xk):\n",
    "    dx_gt = np.linalg.norm(xk - x_gt)\n",
    "    cost_per_iter.append(dx_gt)\n",
    "    print('Norm from GT: ', dx_gt)\n",
    "\n",
    "x0 = np.array([0.0, 0.0, 0.0, 0.0, 0.0, 0.0]) # converging to the solution in 37 iterations\n",
    "res = minimize(lambda x: np.linalg.norm(r_x(x)), x0, method='Newton-CG',\n",
    "               jac=lambda x: g_x(x).reshape(-1),  hess=H_x,\n",
    "               options={'xtol': 1e-6, 'disp': True, 'maxiter': 50}, callback=iter_callback)"
   ]
  },
  {
   "cell_type": "code",
   "execution_count": 36,
   "id": "058870ce",
   "metadata": {
    "scrolled": true
   },
   "outputs": [
    {
     "data": {
      "text/plain": [
       "Text(0.5, 1.0, 'Convergence of Newton-CG method')"
      ]
     },
     "execution_count": 36,
     "metadata": {},
     "output_type": "execute_result"
    },
    {
     "data": {
      "image/png": "[encoded data removed]",
      "text/plain": [
       "<Figure size 640x480 with 1 Axes>"
      ]
     },
     "metadata": {},
     "output_type": "display_data"
    }
   ],
   "source": [
    "plt.figure()\n",
    "plt.plot(range(len(cost_per_iter)), cost_per_iter, '.-')\n",
    "plt.yscale('log')\n",
    "plt.grid(True,which=\"both\", linestyle='-.')\n",
    "plt.ylabel('log(norm(x_hat - x_gt))')\n",
    "plt.xlabel('iteration #')\n",
    "plt.title(\"Convergence of Newton-CG method\")"
   ]
  },
  {
   "cell_type": "markdown",
   "id": "b597169d",
   "metadata": {},
   "source": [
    "# Solution #6: Gauss-Newton method with algebraic Jacobian"
   ]
  },
  {
   "cell_type": "markdown",
   "id": "f1924062",
   "metadata": {},
   "source": [
    "We should take advantage of the fact that the problem is least squares. This will allow us to use more stable algorithms with faster convergence rate and with less sensitivity to the initial guess."
   ]
  },
  {
   "cell_type": "markdown",
   "id": "067575a6",
   "metadata": {},
   "source": [
    "If we apply the following approximation, see [details](https://math.stackexchange.com/questions/1105214/difference-between-newtons-method-and-gauss-newton-method):\n",
    "\n",
    "$ H(x) \\approx J^T(x) J(x),$\n",
    "\n",
    "$ \\nabla f(x) = J^T(x)r(x) $ \n",
    "\n",
    "Then we arrive to the Gauss-Newton method:\n",
    "\n",
    "$ \\Delta x_{k+1} = (J_{f}^T(x_k) J_{f}(x_k))^{-1} J_{f}^T(x_k) r(x_k) $\n"
   ]
  },
  {
   "cell_type": "markdown",
   "id": "b149a28f",
   "metadata": {},
   "source": [
    "Remarks:\n",
    "- Gauss-Newton was almost always used before computers due to its relative simplicity.\n",
    "- Gauss-Newton is a linear approximation vs. Newton's method is second order. Gauss-Newton does not need Hessian.\n",
    "- Problem definiation for Gauss-Newton is a vector-vector function.\n",
    "- Problem definiatioin for Newton'S method is scalar-vector function.\n",
    "- Gauss-Newton assumes LS, and this, optimal soltuion requires that the residual vector as stochastic variable follow normal distribution.\n",
    "- For the Newton's method, we \"can choose\" the loss function and hence can use different norms based on stochastic properties."
   ]
  },
  {
   "cell_type": "markdown",
   "id": "830661f6",
   "metadata": {},
   "source": [
    "Create the Jacobian matrix for the least squares problem:"
   ]
  },
  {
   "cell_type": "code",
   "execution_count": 37,
   "id": "5ad67c97",
   "metadata": {},
   "outputs": [
    {
     "name": "stdout",
     "output_type": "stream",
     "text": [
      "Shape of Jacobian:  (30, 6)\n",
      "Shape of N:  (6, 6)\n",
      "Number of chars of Jacobian function : 10622    10.622 kB\n"
     ]
    }
   ],
   "source": [
    "J = res_sym_vec.jacobian([k, p, o, x, y, z])\n",
    "J_x_sym = lambda x0: J.subs({k: float(x0[0]), p: float(x0[1]), o: float(x0[2]), \n",
    "                             x: float(x0[3]), y: float(x0[4]), z: float(x0[5])})\n",
    "J_x = lambda x0: np.array(J_x_sym(x0).tolist()).astype('float')\n",
    "N = J_x(x0).T @ J_x(x0)\n",
    "\n",
    "\n",
    "print('Shape of Jacobian: ', J.shape)\n",
    "print('Shape of N: ', N.shape)\n",
    "print('Number of chars of Jacobian function :', len(str(J)), '  ', len(str(J))/1000, 'kB')"
   ]
  },
  {
   "cell_type": "markdown",
   "id": "e427b0b9",
   "metadata": {},
   "source": [
    "... and the iterations looks more stable:"
   ]
  },
  {
   "cell_type": "code",
   "execution_count": 38,
   "id": "475fd49f",
   "metadata": {},
   "outputs": [
    {
     "name": "stdout",
     "output_type": "stream",
     "text": [
      "Iteration #        delta gt           dx              dr                  \n",
      "----------------------------------------------------------------\n",
      "Iteration #0      3.84801717             nan    497.62780943\n",
      "Iteration #1      1.51626838      4.81285259      3.25424394\n",
      "Iteration #2      0.08253915      1.48703868      0.26340997\n",
      "Iteration #3      0.00005337      0.08252769      0.00020193\n",
      "Iteration #4      0.00000000      0.00005337      0.00000000\n",
      "Iteration #5      0.00000000      0.00000000      0.00000000\n",
      "Check solution ( =0):  4.641741426862217e-15\n"
     ]
    }
   ],
   "source": [
    "x0 = np.array([0.0, 0.0, 0.0, 0.0, 0.0, 0.0]) # converging to the solution in 5 iterations\n",
    "\n",
    "def gauss_newton_full_step(x):\n",
    "    dr = r_x(x)\n",
    "    dx =  np.linalg.inv(J_x(x).T @ J_x(x)) @ J_x(x).T @ dr\n",
    "    return dx\n",
    "\n",
    "optimizer_framework(gauss_newton_full_step, x0, x_gt)"
   ]
  },
  {
   "cell_type": "markdown",
   "id": "f1667548",
   "metadata": {},
   "source": [
    "Surpresingly, almost quadratic convergence from the beginning with an initial guess far from the solution. However the above approach results in long Jacobian code. Instead we can compute the symbolic Jacobian for each point separatetly."
   ]
  },
  {
   "cell_type": "code",
   "execution_count": 39,
   "id": "5794cf4d",
   "metadata": {},
   "outputs": [
    {
     "name": "stdout",
     "output_type": "stream",
     "text": [
      "Shape of a single point pair equation: (= (3,)) (3,)\n"
     ]
    }
   ],
   "source": [
    "m_x, m_y, m_z = sym.symbols('m_x m_y m_z')\n",
    "t_x, t_y, t_z = sym.symbols('t_x t_y t_z')\n",
    "\n",
    "m_xyz = np.array([m_x, m_y, m_z])\n",
    "t_xyz = np.array([t_x, t_y, t_z])\n",
    "\n",
    "dt_sym_row = np.array([x, y, z])\n",
    "eq_sym = (R_sym @ m_xyz).T + dt_sym_row - t_xyz\n",
    "\n",
    "print('Shape of a single point pair equation: (= (3,))', eq_sym.shape)"
   ]
  },
  {
   "cell_type": "code",
   "execution_count": 40,
   "id": "bb09c911",
   "metadata": {},
   "outputs": [
    {
     "name": "stdout",
     "output_type": "stream",
     "text": [
      "Number of chars of Jacobian function : 685    0.685 kB\n"
     ]
    }
   ],
   "source": [
    "J_point_tx = sym.Matrix([eq_sym[0].diff(x) for x in [k, p, o, x, y, z]]).T\n",
    "J_point_ty = sym.Matrix([eq_sym[1].diff(x) for x in [k, p, o, x, y, z]]).T\n",
    "J_point_tz = sym.Matrix([eq_sym[2].diff(x) for x in [k, p, o, x, y, z]]).T\n",
    "J_point = sym.Matrix([J_point_tx, J_point_ty, J_point_tz])\n",
    "\n",
    "print('Number of chars of Jacobian function :', len(str(J_point)), '  ', len(str(J_point))/1000, 'kB')"
   ]
  },
  {
   "cell_type": "code",
   "execution_count": 41,
   "id": "00e748d5",
   "metadata": {},
   "outputs": [],
   "source": [
    "J_point_sym = lambda x0, m_pt, t_pt: J_point.subs({k: float(x0[0]), p: float(x0[1]), o: float(x0[2]), \n",
    "                                                   x: float(x0[3]), y: float(x0[4]), z: float(x0[5]),\n",
    "                                                m_x: float(m_pt[0]), m_y: float(m_pt[1]), m_z: float(m_pt[2]),\n",
    "                                                t_x: float(t_pt[0]), t_y: float(t_pt[1]), t_z: float(t_pt[2])})\n",
    "\n",
    "J_point_x = lambda x0, m_pt, t_pt: np.array(J_point_sym(x0, m_pt, t_pt).tolist()).astype('float')"
   ]
  },
  {
   "cell_type": "code",
   "execution_count": 42,
   "id": "f6246070",
   "metadata": {},
   "outputs": [
    {
     "name": "stdout",
     "output_type": "stream",
     "text": [
      "Check Jacobian composition ( =0):  0.0\n"
     ]
    }
   ],
   "source": [
    "def build_J(x):\n",
    "    J_x = np.zeros((pts_model.shape[0]*3, 6))\n",
    "    for pt_k in range(pts_model.shape[0]):\n",
    "        J_x[(pt_k*3):(pt_k*3+3)] = J_point_x(x, pts_model[pt_k, :], pts_target[pt_k, :])\n",
    "    return J_x\n",
    "\n",
    "print('Check Jacobian composition ( =0): ', np.linalg.norm(build_J(x_gt) - J_x(x_gt)))"
   ]
  },
  {
   "cell_type": "code",
   "execution_count": 43,
   "id": "d1b595df",
   "metadata": {},
   "outputs": [
    {
     "name": "stdout",
     "output_type": "stream",
     "text": [
      "Iteration #        delta gt           dx              dr                  \n",
      "----------------------------------------------------------------\n",
      "Iteration #0      3.84801717             nan    497.62780943\n",
      "Iteration #1      1.51626838      4.81285259      3.25424394\n",
      "Iteration #2      0.08253915      1.48703868      0.26340997\n",
      "Iteration #3      0.00005337      0.08252769      0.00020193\n",
      "Iteration #4      0.00000000      0.00005337      0.00000000\n",
      "Iteration #5      0.00000000      0.00000000      0.00000000\n",
      "Check solution ( =0):  4.641741426862217e-15\n"
     ]
    }
   ],
   "source": [
    "x0 = np.array([0.0, 0.0, 0.0, 0.0, 0.0, 0.0]) # converging to the solution in 5 iterations\n",
    "\n",
    "def gauss_newton_step(x):\n",
    "    dr = r_x(x)\n",
    "    dx = np.linalg.inv(build_J(x).T @ build_J(x)) @ build_J(x).T @ dr\n",
    "    return dx\n",
    "    \n",
    "optimizer_framework(gauss_newton_step, x0, x_gt)"
   ]
  },
  {
   "cell_type": "markdown",
   "id": "e67f3a0e",
   "metadata": {},
   "source": [
    "# Solution #7: Derivative-free Levenberg-Marquardt"
   ]
  },
  {
   "cell_type": "markdown",
   "id": "bae5b110",
   "metadata": {},
   "source": [
    "LM aims to improve on the sensitivity of the initial guess in the Newton-Gauss method:\n",
    "\n",
    "$ \\Delta x_{k+1} = (J_{f}^T(x_k) J_{f}(x_k) + \\lambda diag(J_{f}^T(x_k) J_{f}(x_k)))^{-1} J_{f}^T(x_k) r(x_k) $\n",
    "\n",
    "Note that the $\\lambda diag(J_{f}^T(x_k) J_{f}(x_k))$ expression is added to the step computation. If $\\lambda = 0$, then \n",
    "\n",
    "$ \\Delta x_{k+1} = (J_{f}^T(x_k) J_{f}(x_k))^{-1} J_{f}^T(x_k) r(x_k) $\n",
    "\n",
    "we get back the Newton-Gauss method. For large $\\lambda$ the $\\lambda diag(J_{f}^T(x_k) J_{f}(x_k))$ is the domninant and thus we can write:\n",
    "\n",
    "$ \\Delta x_{k+1} \\approx  \\frac{1}{\\lambda} diag(J_{f}^T(x_k) J_{f}(x_k))^{-1} J_{f}^T(x_k) r(x_k) $.\n",
    "\n",
    "Since the diagonal elements are used to determined the direction of the update, this can be viewed as a gradient descent method. Consequently LM algoritm interpolates between the GN and gradient descent method based on the $\\lambda$ parameter.\n",
    "\n",
    "The $\\lambda$ parameter is adjusted based on some heuristics. \n",
    "\n",
    "Remarks: \n",
    "- when $\\lambda$ is large than in $diag(J_{f}^T(x_k) J_{f}(x_k))^{-1}$ does not requires a full inverse computation (or solving a linear equation system) just the inverse of the diagonal elements need to be computed. Therefore no need to compute an inverse of a large matrix or solve a linear equation system, because the gradient descent step can be computed using only metric inverses, and thus, the method is also faster in terms of computation time.\n",
    "- coming up with a good $\\lambda$ heuristics that can be computeted efficiently is not a trivial problem in practice.\n"
   ]
  },
  {
   "cell_type": "code",
   "execution_count": 44,
   "id": "8fcc8f7f",
   "metadata": {},
   "outputs": [],
   "source": [
    "from scipy.optimize import least_squares"
   ]
  },
  {
   "cell_type": "markdown",
   "id": "c69b64ad",
   "metadata": {},
   "source": [
    "There are deravitive-free least squares algorithms that we can utilize to solve these types of problems faster & easier. "
   ]
  },
  {
   "cell_type": "code",
   "execution_count": 45,
   "id": "d59cda76",
   "metadata": {},
   "outputs": [
    {
     "name": "stdout",
     "output_type": "stream",
     "text": [
      "   Iteration     Total nfev        Cost      Cost reduction    Step norm     Optimality   \n",
      "       0              1         1.4264e+02                                    2.23e+02    \n",
      "       1              2         3.9256e+01      1.03e+02       1.00e+00       3.95e+01    \n",
      "       2              3         1.4577e+01      2.47e+01       1.00e+00       1.64e+01    \n",
      "       3              4         5.7868e-01      1.40e+01       2.00e+00       1.50e+01    \n",
      "       4              5         1.7850e-01      4.00e-01       1.20e+00       6.12e+00    \n",
      "       5              6         1.3188e-06      1.79e-01       1.49e-01       1.04e-02    \n",
      "       6              7         2.4929e-19      1.32e-06       5.33e-04       6.26e-09    \n",
      "`gtol` termination condition is satisfied.\n",
      "Function evaluations 7, initial cost 1.4264e+02, final cost 2.4929e-19, first-order optimality 6.26e-09.\n"
     ]
    }
   ],
   "source": [
    "x0 = np.array([0, 0, 0, 0, 0, 0])\n",
    "res = least_squares(r_x, x0, verbose=2)"
   ]
  },
  {
   "cell_type": "code",
   "execution_count": 46,
   "id": "f4dc3316",
   "metadata": {},
   "outputs": [
    {
     "name": "stdout",
     "output_type": "stream",
     "text": [
      "Check solution ( =0):  1.8770981822494223e-10\n"
     ]
    }
   ],
   "source": [
    "print('Check solution ( =0): ', np.linalg.norm(res.x - x_gt))"
   ]
  },
  {
   "cell_type": "markdown",
   "id": "4ce3ab0a",
   "metadata": {},
   "source": [
    "# Solution #8: Newton-Gauss method with automatic differentiation"
   ]
  },
  {
   "cell_type": "markdown",
   "id": "417c9d88",
   "metadata": {},
   "source": [
    "Automatic differentation is mainly based on the chain rule:\n",
    "$ (fg)' = (f'g)g' $\n",
    "$\\frac{\\partial f}{\\partial x} $"
   ]
  },
  {
   "cell_type": "markdown",
   "id": "1de18853",
   "metadata": {},
   "source": [
    "Follow this link: https://sidsite.com/posts/autodiff/"
   ]
  },
  {
   "cell_type": "markdown",
   "id": "f25eecb4",
   "metadata": {},
   "source": [
    "- Operations are primarly implemented as overloads\n",
    "- All values are float inside the class\n",
    "- We provide constant (number) overloads for convenience"
   ]
  },
  {
   "cell_type": "code",
   "execution_count": 47,
   "id": "2b44ffbd",
   "metadata": {},
   "outputs": [],
   "source": [
    "from collections import defaultdict\n",
    "\n",
    "class Variable(object):\n",
    "    \n",
    "    def __init__(self, value, local_gradients=[]):\n",
    "        self.value = float(value)\n",
    "        self.local_gradients = local_gradients\n",
    "\n",
    "    def __float__(self):\n",
    "         return self.value\n",
    "    \n",
    "    def __add__(self, other):\n",
    "        if not isinstance(other, Variable):\n",
    "            return self.__add__(Variable(float(other)))        \n",
    "        value = self.value + other.value    \n",
    "        local_gradients = ((self, 1.0), (other, 1.0))\n",
    "        return Variable(value, local_gradients)\n",
    "    \n",
    "    def __mul__(self, other):\n",
    "        if not isinstance(other, Variable):\n",
    "            return self.__mul__(Variable(float(other)))\n",
    "        value = self.value * other.value\n",
    "        local_gradients = ((self, other.value), (other, self.value))\n",
    "        return Variable(value, local_gradients)\n",
    "\n",
    "    def __neg__(self):\n",
    "        value = -1.0 * self.value\n",
    "        local_gradients = ((self, -1.0),)\n",
    "        return Variable(value, local_gradients)\n",
    "    \n",
    "    def __sub__(self, other):\n",
    "        if not isinstance(other, Variable):\n",
    "            return self.__sub__(Variable(float(other)))        \n",
    "        return self.__add__(other.__neg__())\n",
    "    \n",
    "    def __repr__(self):\n",
    "        return str(self.value) + 'v' # + ' [' + str(self.local_gradients) + ']'\n",
    "\n",
    "    __radd__  = __add__\n",
    "    __rmul__ = __mul__\n",
    "    __rsub__ = __sub__\n",
    "\n",
    "class VarFunctions(object):\n",
    "    \n",
    "    @staticmethod\n",
    "    def sin(a):\n",
    "        value = np.sin(a.value)\n",
    "        local_gradients = (\n",
    "            (a, np.cos(a.value)),\n",
    "        )\n",
    "        return Variable(value, local_gradients)\n",
    "    \n",
    "    @staticmethod\n",
    "    def cos(a):\n",
    "        value = np.cos(a.value)\n",
    "        local_gradients = (\n",
    "            (a, -np.sin(a.value)),\n",
    "        )\n",
    "        return Variable(value, local_gradients)\n",
    "\n",
    "vf = VarFunctions"
   ]
  },
  {
   "cell_type": "code",
   "execution_count": 48,
   "id": "f9fd2789",
   "metadata": {},
   "outputs": [],
   "source": [
    "def get_gradients(variable):\n",
    "    \n",
    "    gradients = defaultdict(lambda: 0)\n",
    "    \n",
    "    def compute_gradients(variable, path_value):\n",
    "        for child_variable, local_gradient in variable.local_gradients:\n",
    "            # \"Multiply the edges of a path\":\n",
    "            value_of_path_to_child = path_value * local_gradient\n",
    "            # \"Add together the different paths\":\n",
    "            gradients[child_variable] += value_of_path_to_child\n",
    "            # recurse through graph:\n",
    "            compute_gradients(child_variable, value_of_path_to_child)\n",
    "    \n",
    "    compute_gradients(variable, path_value=1)\n",
    "    # (path_value=1 is from `variable` differentiated w.r.t. itself)\n",
    "    return gradients"
   ]
  },
  {
   "cell_type": "markdown",
   "id": "75c7c22d",
   "metadata": {},
   "source": [
    "Test a basic operation:"
   ]
  },
  {
   "cell_type": "code",
   "execution_count": 49,
   "id": "5e195a27",
   "metadata": {},
   "outputs": [
    {
     "name": "stdout",
     "output_type": "stream",
     "text": [
      "0.0v\n"
     ]
    }
   ],
   "source": [
    "test_a = Variable(4)\n",
    "test_b = Variable(4)\n",
    "test_c = test_a - test_b\n",
    "print(test_c)"
   ]
  },
  {
   "cell_type": "markdown",
   "id": "fbe0159f",
   "metadata": {},
   "source": [
    "Let's redefine rotations using the newly created functions:"
   ]
  },
  {
   "cell_type": "code",
   "execution_count": 50,
   "id": "5afcc1bc",
   "metadata": {},
   "outputs": [],
   "source": [
    "def Rx_(theta):\n",
    "  return np.array([[ 1, 0           , 0           ],\n",
    "                   [ 0, vf.cos(theta),-vf.sin(theta)],\n",
    "                   [ 0, vf.sin(theta), vf.cos(theta)]])\n",
    "  \n",
    "def Ry_(theta):\n",
    "  return np.array([[vf.cos(theta), 0, vf.sin(theta)],\n",
    "                   [ 0           , 1, 0           ],\n",
    "                   [-vf.sin(theta), 0, vf.cos(theta)]])\n",
    "  \n",
    "def Rz_(theta):\n",
    "  return np.array([[vf.cos(theta), -vf.sin(theta), 0 ],\n",
    "                   [ vf.sin(theta), vf.cos(theta) , 0 ],\n",
    "                   [ 0           , 0            , 1 ]])"
   ]
  },
  {
   "cell_type": "markdown",
   "id": "2b9b9347",
   "metadata": {},
   "source": [
    "We create a convieince function to convert from numpy to a list of Variables, and then, we define the lambda function for the rotations:"
   ]
  },
  {
   "cell_type": "code",
   "execution_count": 51,
   "id": "7898ce55",
   "metadata": {},
   "outputs": [],
   "source": [
    "np2var = lambda vec: [Variable(x) for x in vec]\n",
    "x_gt_ad = np2var(x_gt) \n",
    "ypr2rot_ad = lambda x: Rz_(x[0]) @ Ry_(x[1]) @ Rx_(x[2])"
   ]
  },
  {
   "cell_type": "markdown",
   "id": "48a1bbd4",
   "metadata": {},
   "source": [
    "We can check the function whether it's correctly working. Note that we can nicely use the numpy infrastructure due to the overloads."
   ]
  },
  {
   "cell_type": "code",
   "execution_count": 52,
   "id": "1e43dcfd",
   "metadata": {},
   "outputs": [
    {
     "name": "stdout",
     "output_type": "stream",
     "text": [
      "Check rotation composition ( =0):  6.811435411151494e-16\n"
     ]
    }
   ],
   "source": [
    "R_ad = ypr2rot_ad(x_gt_ad)\n",
    "dR_chk = (R_ad - R_gt).astype('float') # Variable ->  conversion works nicely\n",
    "\n",
    "print('Check rotation composition ( =0): ', np.linalg.norm(dR_chk))"
   ]
  },
  {
   "cell_type": "markdown",
   "id": "510c0a3e",
   "metadata": {},
   "source": [
    "Next we need to define the conversion from 2d numpy float arrays to arrays of Variable "
   ]
  },
  {
   "cell_type": "code",
   "execution_count": 53,
   "id": "f70db467",
   "metadata": {},
   "outputs": [],
   "source": [
    "def array2var(arr):\n",
    "    var_arr = np.zeros(arr.shape, dtype=Variable)\n",
    "    for i in range(arr.shape[0]):\n",
    "        for j in range(arr.shape[1]):\n",
    "            var_arr[i, j] = Variable(arr[i, j])\n",
    "    return var_arr\n",
    "            \n",
    "pts_model_ad = array2var(pts_model)  \n",
    "pts_target_ad = array2var(pts_target)   "
   ]
  },
  {
   "cell_type": "markdown",
   "id": "06526135",
   "metadata": {},
   "source": [
    "Now we have everything to write down the residual vector as a lambda function."
   ]
  },
  {
   "cell_type": "code",
   "execution_count": 54,
   "id": "ce23a2b4",
   "metadata": {},
   "outputs": [
    {
     "name": "stdout",
     "output_type": "stream",
     "text": [
      "Check residual vector ( =0):  6.07891462589719e-15\n"
     ]
    }
   ],
   "source": [
    "r_x_ad = lambda x0: ((ypr2rot_ad(x0) @ pts_model.T).T + np.array([x0[3:6]]) - pts_target).ravel()\n",
    "\n",
    "print('Check residual vector ( =0): ', np.linalg.norm((r_x_ad(x_gt_ad) - r_x(x_gt_ad)).astype('float')))"
   ]
  },
  {
   "cell_type": "markdown",
   "id": "ff3c33bd",
   "metadata": {},
   "source": [
    "Note that the residual function will give us back a vector of Variable types, on which we can compute the gradients."
   ]
  },
  {
   "cell_type": "code",
   "execution_count": 55,
   "id": "01527c9f",
   "metadata": {},
   "outputs": [],
   "source": [
    "r_ad = r_x_ad(x_gt_ad)\n",
    "grad_chk = get_gradients(r_ad[0])"
   ]
  },
  {
   "cell_type": "markdown",
   "id": "62ea1aeb",
   "metadata": {},
   "source": [
    "This gradient will be the entries of the Jacobian. Let's compare one entry to the entry of the Jacobian matrix computed earlier using symbolic calculations. "
   ]
  },
  {
   "cell_type": "code",
   "execution_count": 56,
   "id": "507a54b5",
   "metadata": {},
   "outputs": [
    {
     "name": "stdout",
     "output_type": "stream",
     "text": [
      "Check Jacobian entry:  0.0\n"
     ]
    }
   ],
   "source": [
    "J_gt = build_J(x_gt)\n",
    "print('Check Jacobian entry: ', J_gt[0, 1] - grad_chk[x_gt_ad[1]])"
   ]
  },
  {
   "cell_type": "markdown",
   "id": "30559cae",
   "metadata": {},
   "source": [
    "A bit of work, but we can now compose the Jacobian using the auto-diff nano framework. We go through each residual vector element, and then, through each parameter entry."
   ]
  },
  {
   "cell_type": "code",
   "execution_count": 115,
   "id": "e5f0a660",
   "metadata": {},
   "outputs": [
    {
     "name": "stdout",
     "output_type": "stream",
     "text": [
      "Check Jacobian ( =0):  4.45059594796403e-15\n"
     ]
    }
   ],
   "source": [
    "def build_J_ad(r, x, n=6):\n",
    "    m = r.shape[0]\n",
    "    J = np.zeros((m, n))\n",
    "    for iter_r in range(m):\n",
    "        grad_iter = get_gradients(r[iter_r])\n",
    "        for iter_x in range(n):\n",
    "            J[iter_r, iter_x] = grad_iter[x[iter_x]]\n",
    "    return J\n",
    "\n",
    "J_ad = build_J_ad(r_ad, x_gt_ad)\n",
    "print('Check Jacobian ( =0): ', np.linalg.norm(J_ad - J_gt))"
   ]
  },
  {
   "cell_type": "markdown",
   "id": "678ddf19",
   "metadata": {},
   "source": [
    "Finally, we can run our Newton-Gauss method."
   ]
  },
  {
   "cell_type": "code",
   "execution_count": 58,
   "id": "c2abebe6",
   "metadata": {},
   "outputs": [
    {
     "name": "stdout",
     "output_type": "stream",
     "text": [
      "Iteration #        delta gt           dx              dr                  \n",
      "----------------------------------------------------------------\n",
      "Iteration #0      3.84801717             nan    497.62780943\n",
      "Iteration #1      1.51626838      4.81285259      3.25424394\n",
      "Iteration #2      0.08253915      1.48703868      0.26340997\n",
      "Iteration #3      0.00005337      0.08252769      0.00020193\n",
      "Iteration #4      0.00000000      0.00005337      0.00000000\n",
      "Iteration #5      0.00000000      0.00000000      0.00000000\n",
      "Check solution ( =0):  2.083702585933651e-15\n"
     ]
    }
   ],
   "source": [
    "def gauss_newton_autodiff_step(x):\n",
    "    dr = r_x(x)\n",
    "\n",
    "    # autodiff code\n",
    "    x_ad = np2var(x)\n",
    "    dr_ad = r_x_ad(x_ad)\n",
    "    J_ad = build_J_ad(dr_ad, x_ad)\n",
    "    \n",
    "    dx = np.linalg.inv(J_ad.T @ J_ad) @ J_ad.T @ dr\n",
    "    \n",
    "    return dx\n",
    "\n",
    "x0 = np.array([0.0, 0.0, 0.0, 0.0, 0.0, 0.0]) # converging to the solution in 5 iterations\n",
    "optimizer_framework(gauss_newton_autodiff_step, x0, x_gt)"
   ]
  },
  {
   "cell_type": "markdown",
   "id": "e9860e99",
   "metadata": {},
   "source": [
    "The iteration steps and results are exactly identical to the case when we used the symbolic library to compute the Jacobian. This code is extremely fast beating most of the earlier implementaions! This solution seems to be the fastest implementation in the notebook so far."
   ]
  },
  {
   "cell_type": "markdown",
   "id": "5c015e67",
   "metadata": {},
   "source": [
    "# Soltuion #9: Changing parametrization: rotation matrix"
   ]
  },
  {
   "attachments": {
    "image-11.png": {
     "image/png": "[encoded data removed]"
    }
   },
   "cell_type": "markdown",
   "id": "9e9cc536",
   "metadata": {},
   "source": [
    "![image-11.png](attachment:image-11.png)"
   ]
  },
  {
   "cell_type": "code",
   "execution_count": 59,
   "id": "79633042",
   "metadata": {},
   "outputs": [
    {
     "name": "stdout",
     "output_type": "stream",
     "text": [
      "Check r_x_12 ( =0):  0.0\n"
     ]
    }
   ],
   "source": [
    "def r_x_12(x, pts_model, pts_target):\n",
    "    x_R = x[0:9]\n",
    "    R = x_R.reshape(3,3)\n",
    "    return ((R @ pts_model.T).T + np.array([x[9:12]]) - pts_target).ravel()\n",
    "\n",
    "x_gt_12 = np.hstack((R_gt.ravel(), x_gt[3:6]))\n",
    "print('Check r_x_12 ( =0): ', np.linalg.norm(r_x_12(x_gt_12, pts_model, pts_target)))"
   ]
  },
  {
   "cell_type": "code",
   "execution_count": 60,
   "id": "1627daf9",
   "metadata": {},
   "outputs": [],
   "source": [
    "#x0 = np.array([45.0-1.0, -15.0+2.0, 20.0+1.0, 1.0+0.5, -2.0+0.8, 3.0-0.2])\n",
    "x0 = np.array([0.0, 0.0, 0.0, 0.0, 0.0, 0.0])\n",
    "x0[:3] *= 1.0/180.0*math.pi\n",
    "R0_12 = Rotation.from_euler('ZYX', x0[:3], degrees=False).as_matrix()\n",
    "x0_12 = np.hstack((R0_12.ravel(), x0[3:6]))"
   ]
  },
  {
   "cell_type": "code",
   "execution_count": 61,
   "id": "82b6a30e",
   "metadata": {},
   "outputs": [
    {
     "name": "stdout",
     "output_type": "stream",
     "text": [
      "`xtol` termination condition is satisfied.\n",
      "Number of iterations: 164, function evaluations: 2132, CG iterations: 489, optimality: 9.42e-02, constraint violation: 0.00e+00, execution time: 0.24 s.\n"
     ]
    }
   ],
   "source": [
    "res = minimize(lambda x: np.linalg.norm(r_x_12(x, pts_model, pts_target)), x0_12, method='trust-constr',\n",
    "               options={'disp': True, 'maxiter': 2000})"
   ]
  },
  {
   "cell_type": "markdown",
   "id": "8f3c19e9",
   "metadata": {},
   "source": [
    "It's less suprising that the optimizer converged, bus it is more supresing that the optimizer actually found the solution! Check it out:"
   ]
  },
  {
   "cell_type": "code",
   "execution_count": 62,
   "id": "8eac918c",
   "metadata": {},
   "outputs": [
    {
     "name": "stdout",
     "output_type": "stream",
     "text": [
      "Final cost:  4.721843386442401e-06\n",
      "Solutions as angles:  [ 45.00019924 -14.99994889  19.99977722]\n",
      " \n",
      "Compare solution to GT: ( =0) 4.210128310220037e-05\n",
      "Compare rotation matrix to GT: ( =0) 9.043242121203117e-06\n",
      "Check rotation m. orthogonality: ( =0):  1.4919570581640394e-05\n",
      "Check rotation m. determinant ( =1):  0.9999930005786255\n",
      "GT determinant ( =1):  0.9999999999999993\n"
     ]
    }
   ],
   "source": [
    "R_hat_12 = res.x[0:9].reshape(3,3)\n",
    "print('Final cost: ', np.linalg.norm(r_x_12(res.x, pts_model, pts_target)))\n",
    "print('Solutions as angles: ', Rotation.from_matrix(R_hat_12).as_euler('ZYX', degrees=True))\n",
    "print(' ')\n",
    "print('Compare solution to GT: ( =0)', np.linalg.norm(res.x - x_gt_12))\n",
    "print('Compare rotation matrix to GT: ( =0)', np.linalg.norm(R_gt - R_hat_12))\n",
    "print('Check rotation m. orthogonality: ( =0): ', np.linalg.norm(R_hat_12.T @ R_hat_12 - np.eye(3)))\n",
    "print('Check rotation m. determinant ( =1): ', np.linalg.det(R_hat_12))\n",
    "print('GT determinant ( =1): ', np.linalg.det(R_gt))"
   ]
  },
  {
   "cell_type": "markdown",
   "id": "50f1925d",
   "metadata": {},
   "source": [
    "The Euler angles look pretty close to the ground truth, and the orthogonality condition is automatically satisfied without constraints. So I thought this is because the system is overdetermined. Let's see the results when I pick the minimum problem (with the minimum number of points):"
   ]
  },
  {
   "cell_type": "code",
   "execution_count": 63,
   "id": "357df9a0",
   "metadata": {},
   "outputs": [
    {
     "name": "stdout",
     "output_type": "stream",
     "text": [
      "`xtol` termination condition is satisfied.\n",
      "Number of iterations: 212, function evaluations: 2756, CG iterations: 700, optimality: 4.76e-02, constraint violation: 0.00e+00, execution time: 0.31 s.\n",
      "Final cost:  2.6580712280948095e-06\n",
      "Solutions as angles:  [ 44.99960891 -15.00017402  20.00031089]\n",
      " \n",
      "Check rotation m. orthogonality: ( =0):  2.4270170743247347e-05\n",
      "Check rotation m. determinant ( =1):  0.9999938852012928\n"
     ]
    }
   ],
   "source": [
    "res = minimize(lambda x: np.linalg.norm(r_x_12(x, pts_model[:4], pts_target[:4])), x0_12, method='trust-constr',\n",
    "               options={'disp': True, 'maxiter': 2000})\n",
    "\n",
    "R_hat_12 = res.x[0:9].reshape(3,3)\n",
    "\n",
    "print('Final cost: ', np.linalg.norm(r_x_12(res.x, pts_model[:4], pts_target[:4])))\n",
    "print('Solutions as angles: ', Rotation.from_matrix(R_hat_12).as_euler('ZYX', degrees=True))\n",
    "print(' ')\n",
    "print('Check rotation m. orthogonality: ( =0): ', np.linalg.norm(R_hat_12.T @ R_hat_12 - np.eye(3)))\n",
    "print('Check rotation m. determinant ( =1): ', np.linalg.det(R_hat_12))"
   ]
  },
  {
   "cell_type": "markdown",
   "id": "73d9b3b6",
   "metadata": {},
   "source": [
    "It's quite good! I need to go to an underdetermined case to get non-orthogonal solution for the rotation matrix:"
   ]
  },
  {
   "cell_type": "code",
   "execution_count": 64,
   "id": "0128ee82",
   "metadata": {},
   "outputs": [
    {
     "name": "stdout",
     "output_type": "stream",
     "text": [
      "`xtol` termination condition is satisfied.\n",
      "Number of iterations: 136, function evaluations: 1768, CG iterations: 364, optimality: 1.88e-01, constraint violation: 0.00e+00, execution time: 0.18 s.\n",
      "Final cost:  0.10350074748931755\n",
      "Solutions as angles:  [ 45.59805758 -20.06082518  23.90786616]\n",
      " \n",
      "Check rotation m. orthogonality: ( =0):  0.3045045381848295\n",
      "Check rotation m. determinant ( =1):  1.0270571735897855\n"
     ]
    }
   ],
   "source": [
    "x0 = np.array([45.0-10.0, -15.0+2.0, 20.0+1.0, 1.0+0.5, -2.0+0.8, 3.0-0.2])\n",
    "x0[:3] *= 1.0/180.0*math.pi\n",
    "R0_12 = Rotation.from_euler('ZYX', x0[:3], degrees=False).as_matrix()\n",
    "x0_12 = np.hstack((R0_12.ravel(), x0[3:6]))\n",
    "\n",
    "res = minimize(lambda x: np.linalg.norm(r_x_12(x, pts_model[:3], pts_target[:3])), x0_12, method='trust-constr',\n",
    "               options={'disp': True, 'maxiter': 2000})\n",
    "\n",
    "R_hat_12 = res.x[0:9].reshape(3,3)\n",
    "\n",
    "print('Final cost: ', np.linalg.norm(r_x_12(res.x, pts_model[:4], pts_target[:4])))\n",
    "print('Solutions as angles: ', Rotation.from_matrix(R_hat_12).as_euler('ZYX', degrees=True))\n",
    "print(' ')\n",
    "print('Check rotation m. orthogonality: ( =0): ', np.linalg.norm(R_hat_12.T @ R_hat_12 - np.eye(3)))\n",
    "print('Check rotation m. determinant ( =1): ', np.linalg.det(R_hat_12))"
   ]
  },
  {
   "cell_type": "markdown",
   "id": "7d8ae37c",
   "metadata": {},
   "source": [
    "So now I can show-case how to fix this issue with constraints."
   ]
  },
  {
   "cell_type": "code",
   "execution_count": 65,
   "id": "55afc21b",
   "metadata": {},
   "outputs": [
    {
     "name": "stderr",
     "output_type": "stream",
     "text": [
      "/home/zoltan/env/uni/lib/python3.8/site-packages/scipy/optimize/_trustregion_constr/projections.py:181: UserWarning: Singular Jacobian matrix. Using SVD decomposition to perform the factorizations.\n",
      "  warn('Singular Jacobian matrix. Using SVD decomposition to ' +\n",
      "/home/zoltan/env/uni/lib/python3.8/site-packages/scipy/optimize/_hessian_update_strategy.py:182: UserWarning: delta_grad == 0.0. Check if the approximated function is linear. If the function is linear better results can be obtained by defining the Hessian as zero instead of using quasi-Newton approximations.\n",
      "  warn('delta_grad == 0.0. Check if the approximated '\n"
     ]
    },
    {
     "name": "stdout",
     "output_type": "stream",
     "text": [
      "`xtol` termination condition is satisfied.\n",
      "Number of iterations: 299, function evaluations: 4186, CG iterations: 872, optimality: 2.35e-01, constraint violation: 3.75e-17, execution time:  1.3 s.\n",
      "Final cost:  4.256463228857064e-07\n",
      "Solutions as angles:  [ 44.99998947 -15.0000267   20.0000203 ]\n",
      " \n",
      "Check rotation m. orthogonality: ( =0):  6.377622042195026e-17\n",
      "Check rotation m. determinant ( =1):  1.0\n"
     ]
    }
   ],
   "source": [
    "const = ({'type': 'eq', 'fun': lambda x:  (x[0:9].reshape(3,3).T @ x[0:9].reshape(3,3) - np.eye(3))[0,0]},\n",
    "        {'type': 'eq', 'fun': lambda x:  (x[0:9].reshape(3,3).T @ x[0:9].reshape(3,3) - np.eye(3))[0,1]},\n",
    "        {'type': 'eq', 'fun': lambda x:  (x[0:9].reshape(3,3).T @ x[0:9].reshape(3,3) - np.eye(3))[0,2]},\n",
    "        {'type': 'eq', 'fun': lambda x:  (x[0:9].reshape(3,3).T @ x[0:9].reshape(3,3) - np.eye(3))[1,0]},\n",
    "        {'type': 'eq', 'fun': lambda x:  (x[0:9].reshape(3,3).T @ x[0:9].reshape(3,3) - np.eye(3))[1,1]},\n",
    "        {'type': 'eq', 'fun': lambda x:  (x[0:9].reshape(3,3).T @ x[0:9].reshape(3,3) - np.eye(3))[1,2]},\n",
    "        {'type': 'eq', 'fun': lambda x:  (x[0:9].reshape(3,3).T @ x[0:9].reshape(3,3) - np.eye(3))[2,0]},\n",
    "        {'type': 'eq', 'fun': lambda x:  (x[0:9].reshape(3,3).T @ x[0:9].reshape(3,3) - np.eye(3))[2,1]},\n",
    "        {'type': 'eq', 'fun': lambda x:  (x[0:9].reshape(3,3).T @ x[0:9].reshape(3,3) - np.eye(3))[2,2]})\n",
    "\n",
    "res = minimize(lambda x: np.linalg.norm(r_x_12(x, pts_model[:4], pts_target[:4])), x0_12, method='trust-constr',\n",
    "               options={'disp': True, 'maxiter': 2000}, constraints=const)\n",
    "\n",
    "R_hat_12 = res.x[0:9].reshape(3,3)\n",
    "\n",
    "print('Final cost: ', np.linalg.norm(r_x_12(res.x, pts_model[:4], pts_target[:4])))\n",
    "print('Solutions as angles: ', Rotation.from_matrix(R_hat_12).as_euler('ZYX', degrees=True))\n",
    "print(' ')\n",
    "print('Check rotation m. orthogonality: ( =0): ', np.linalg.norm(R_hat_12.T @ R_hat_12 - np.eye(3)))\n",
    "print('Check rotation m. determinant ( =1): ', np.linalg.det(R_hat_12))"
   ]
  },
  {
   "cell_type": "markdown",
   "id": "ecb99e81",
   "metadata": {},
   "source": [
    "Of course having 9 parameters to describe the rotation is not ideal. For one, Euler parameterization converges faster:"
   ]
  },
  {
   "cell_type": "code",
   "execution_count": 66,
   "id": "e59955d9",
   "metadata": {},
   "outputs": [
    {
     "name": "stdout",
     "output_type": "stream",
     "text": [
      "`xtol` termination condition is satisfied.\n",
      "Number of iterations: 139, function evaluations: 973, CG iterations: 491, optimality: 2.46e+00, constraint violation: 0.00e+00, execution time: 0.25 s.\n"
     ]
    }
   ],
   "source": [
    "x0 = np.array([0, 0, 0, 0, 0, 0]) # converges to the solution in 149 iterations\n",
    "res = minimize(lambda x: np.linalg.norm(r_x(x)), x0, method='trust-constr',\n",
    "               options={'disp': True, 'maxiter': 2000})"
   ]
  },
  {
   "cell_type": "markdown",
   "id": "d4bd12c2",
   "metadata": {},
   "source": [
    "# Soltuion #10: Changing parametrization: rotation vector"
   ]
  },
  {
   "cell_type": "code",
   "execution_count": 67,
   "id": "3dc02990",
   "metadata": {},
   "outputs": [],
   "source": [
    "from scipy.spatial.transform import Rotation"
   ]
  },
  {
   "cell_type": "code",
   "execution_count": 68,
   "id": "5d3392bc",
   "metadata": {},
   "outputs": [
    {
     "name": "stdout",
     "output_type": "stream",
     "text": [
      "Rotation vector: [ 0.43196068 -0.1096754   0.81847044]\n",
      "Rotation angle around the axis (omega): 53.39624175652324\n",
      "Rotation axis:  [ 0.46350685 -0.11768502  0.8782435 ]\n"
     ]
    }
   ],
   "source": [
    "rvec_gt = Rotation.from_euler('ZYX', ypr_gt, degrees=False).as_rotvec(degrees=False)\n",
    "print('Rotation vector:', rvec_gt)\n",
    "print('Rotation angle around the axis (omega):', np.linalg.norm(rvec_gt) / pi * 180)\n",
    "print('Rotation axis: ', rvec_gt / np.linalg.norm(rvec_gt))"
   ]
  },
  {
   "cell_type": "markdown",
   "id": "86b335b5",
   "metadata": {},
   "source": [
    "The converstion takes two steps: first from vector space to so(3), and then from so(3) to SO(3). I'm following here the lecture notes on [Lie Groups for 2D and 3D Transformations by Ethan Eade](https://www.ethaneade.com/lie.pdf).\n",
    "\n",
    "Generator system to compute the skew symmetric matrix:"
   ]
  },
  {
   "cell_type": "code",
   "execution_count": 69,
   "id": "16761077",
   "metadata": {},
   "outputs": [],
   "source": [
    "G1 = np.array([[0, 0, 0], [0, 0, -1], [0, 1, 0]])\n",
    "G2 = np.array([[0, 0, 1], [0, 0, 0], [-1, 0, 0]])\n",
    "G3 = np.array([[0, -1, 0], [1, 0, 0], [0, 0, 0]])"
   ]
  },
  {
   "cell_type": "markdown",
   "id": "8ad140b8",
   "metadata": {},
   "source": [
    "Then, we can write the function that converts from rotation vector representation (R^3) to skew symmetric matrix (so(3)):"
   ]
  },
  {
   "cell_type": "code",
   "execution_count": 70,
   "id": "2b2049ad",
   "metadata": {},
   "outputs": [],
   "source": [
    "skew = lambda w: w[0]*G1 + w[1]*G2 + w[2]*G3"
   ]
  },
  {
   "cell_type": "markdown",
   "id": "39a90122",
   "metadata": {},
   "source": [
    "Note that the skew symmetric matrix allows for descring cross product with purely using matrix multiplication. In this sense the skew matrix can be viewed as \"changing\" the group operation from cross product to matrix-vector multiplication (R^3, x) = (R^3, []_x*) . Since both operations results in the exactly the same results applied on the all R^3 vectors, therefore the two groups are isomorphic.  "
   ]
  },
  {
   "cell_type": "code",
   "execution_count": 71,
   "id": "4010e00d",
   "metadata": {},
   "outputs": [
    {
     "name": "stdout",
     "output_type": "stream",
     "text": [
      "[a]_x * b =  [14  8  4]\n",
      "a x b =,  [14  8  4]\n"
     ]
    }
   ],
   "source": [
    "w_a = [-2, 3, 1]\n",
    "w_b = np.array([4, -8, 2]).reshape(-1)\n",
    "\n",
    "print('[a]_x * b = ', skew(w_a) @ w_b)\n",
    "print('a x b =, ', np.cross(w_a, w_b))"
   ]
  },
  {
   "cell_type": "markdown",
   "id": "775c4705",
   "metadata": {},
   "source": [
    "Then we can take the skew matrix (so(3)) and apply the exponential map to it; the result is the rotation matrix. The derivation can be found in a lecture notes titled [Lie Groups for 2D and 3D Transformations by Ethan Eade, Page 3-4](https://www.ethaneade.com/lie.pdf). This conversion formula is also known as the Rodrigues' rotation formula, see it on [Wikipedia](https://en.wikipedia.org/wiki/Rodrigues%27_rotation_formula) : "
   ]
  },
  {
   "cell_type": "code",
   "execution_count": 72,
   "id": "bc2588cd",
   "metadata": {},
   "outputs": [],
   "source": [
    "omega_gt = np.sqrt(rvec_gt.T @ rvec_gt) # = np.linalg.norm(rvec)\n",
    "S_gt = skew(rvec_gt)\n",
    "R_gt_lie = np.eye(3) + (math.sin(omega_gt)/omega_gt)*S_gt + ((1-math.cos(omega_gt))/omega_gt**2)*S_gt@S_gt"
   ]
  },
  {
   "cell_type": "code",
   "execution_count": 73,
   "id": "aaae03e3",
   "metadata": {},
   "outputs": [
    {
     "name": "stdout",
     "output_type": "stream",
     "text": [
      "Check calculation:  4.263892432392673e-16\n"
     ]
    }
   ],
   "source": [
    "#R_gt = Rotation.from_euler('ZYX', ypr_gt, degrees=False).as_matrix()\n",
    "print('Check calculation: ', np.linalg.norm(R_gt_lie - R_gt))"
   ]
  },
  {
   "cell_type": "markdown",
   "id": "4c941c12",
   "metadata": {},
   "source": [
    "Let's do exponential map in a more compact form:"
   ]
  },
  {
   "cell_type": "code",
   "execution_count": 74,
   "id": "ee6f8187",
   "metadata": {},
   "outputs": [
    {
     "name": "stdout",
     "output_type": "stream",
     "text": [
      "Check exponential map:  4.263892432392673e-16\n"
     ]
    }
   ],
   "source": [
    "def Exp_(w):\n",
    "    omega = (w[0]**2 + w[1]**2 + w[2]**2)**(1/2)\n",
    "    S = np.array([[0, -w[2], w[1]], [w[2], 0, -w[0]], [-w[1], w[0], 0]])\n",
    "    return np.eye(3) + (math.sin(omega)/omega)*S + ((1-math.cos(omega))/omega**2)*S@S\n",
    "\n",
    "print('Check exponential map: ', np.linalg.norm(Exp_(rvec_gt) - R_gt))"
   ]
  },
  {
   "cell_type": "markdown",
   "id": "695d6999",
   "metadata": {},
   "source": [
    "Reverse direction is easier:"
   ]
  },
  {
   "cell_type": "code",
   "execution_count": 75,
   "id": "de9ffd1b",
   "metadata": {},
   "outputs": [
    {
     "name": "stdout",
     "output_type": "stream",
     "text": [
      "Check log map:  3.554447978966673e-16\n"
     ]
    }
   ],
   "source": [
    "def Log_(R):\n",
    "    omega = np.arccos((np.trace(R)-1)/2)           # input rotation matrix\n",
    "    S = (omega/(2*np.sin(omega))) * (R-R.T)        # rotation matrix SO(3) -> skew so(3)\n",
    "    return [S[2, 1], S[0, 2], S[1, 0]]             # so(3) -> R^3, using the def. of skew matrix\n",
    "\n",
    "print('Check log map: ', np.linalg.norm(Log_(R_gt) - rvec_gt))"
   ]
  },
  {
   "cell_type": "code",
   "execution_count": 76,
   "id": "a14f2251",
   "metadata": {},
   "outputs": [
    {
     "name": "stdout",
     "output_type": "stream",
     "text": [
      "Check residual function ( =0):  4.318467880798754e-15\n"
     ]
    }
   ],
   "source": [
    "r_x_lie = lambda x0: ((Exp_(x0) @ pts_model.T).T + np.array([x0[3:6]]) - pts_target).ravel()\n",
    "x_gt_lie = np.hstack((rvec_gt, x_gt[3:6]))\n",
    "print('Check residual function ( =0): ', np.linalg.norm(r_x_lie(x_gt_lie)))"
   ]
  },
  {
   "cell_type": "markdown",
   "id": "9172176a",
   "metadata": {},
   "source": [
    "Let's compare the rotation vector parametrization with the Euler angle implementation using the built-in Nelder-Mead algorithm. As a reminder, here we want to directly solve the cost function, and we need to provide relatively good initial guess for convergence. "
   ]
  },
  {
   "cell_type": "code",
   "execution_count": 77,
   "id": "21a489fe",
   "metadata": {},
   "outputs": [
    {
     "name": "stdout",
     "output_type": "stream",
     "text": [
      "Solution with Euler angles: \n",
      "Optimization terminated successfully.\n",
      "         Current function value: 0.000000\n",
      "         Iterations: 914\n",
      "         Function evaluations: 1434\n",
      "Check Euler angle solution ( =0):  3.1873147736009076e-07\n",
      " \n",
      "Solution with rotation vectors: \n",
      "Optimization terminated successfully.\n",
      "         Current function value: 0.000000\n",
      "         Iterations: 847\n",
      "         Function evaluations: 1301\n",
      "Check rotation vector solution ( =0):  4.3273183160379225e-07\n"
     ]
    }
   ],
   "source": [
    "x0_lie = np.array([45.0-15.0, -15.0+25.0, 20.0+25.0, 1.0+1.5, -2.0+1.8, 3.0-1.2]) # converging to the solution in ~1000 iterations\n",
    "#x0_lie = np.array([0.1, 0.1, 0.1, 0.1, 0.1, 0.1]) # converging to a local minimum\n",
    "x0_lie[:3] *= 1.0/180.0*math.pi\n",
    "\n",
    "print('Solution with Euler angles: ')\n",
    "res = minimize(lambda x: np.linalg.norm(r_x(x)), x0_lie, method='nelder-mead',\n",
    "               options={'xatol': 1e-6, 'disp': True, 'maxiter': 2000})\n",
    "print('Check Euler angle solution ( =0): ', np.linalg.norm(res.x - x_gt))\n",
    "\n",
    "print(' ')\n",
    "\n",
    "print('Solution with rotation vectors: ')\n",
    "x0_lie[:3] = Rotation.from_euler('ZYX', x0_lie[:3], degrees=False).as_rotvec(degrees=False)\n",
    "res = minimize(lambda x: np.linalg.norm(r_x_lie(x)), x0_lie, method='nelder-mead',\n",
    "               options={'xatol': 1e-6, 'disp': True, 'maxiter': 2000})\n",
    "\n",
    "print('Check rotation vector solution ( =0): ', np.linalg.norm(res.x - x_gt_lie))"
   ]
  },
  {
   "cell_type": "markdown",
   "id": "a2822c63",
   "metadata": {},
   "source": [
    "Both algorithm converged with some initial guess, but starting at very poor initial guess (close to zero), both approaches fail. Seemingly, the rotation vector representation converges faster, which is why this approach is preferred in practice. "
   ]
  },
  {
   "cell_type": "markdown",
   "id": "435b2bed",
   "metadata": {},
   "source": [
    "Advantages:\n",
    "- In general, using rotation vector representation results in faster convergence than the Euler angle representation, and therefore, it's preferred in practice. \n",
    "- Only one singular point, when in case of zero rotation, and it can be easily handled.\n",
    "\n",
    "Drawbacks:\n",
    "- This approach does not converge with deravtive-free optimizer when the initial guess is very poor. \n",
    "- When trying to debug the code, representation of rotation vectors is not easy to interpret. In practice the covariances of the Euler angles are easier to interpret as opposed to the rotation vectors'."
   ]
  },
  {
   "cell_type": "markdown",
   "id": "74100a6d",
   "metadata": {},
   "source": [
    "# Operation counts with automatic differentation"
   ]
  },
  {
   "cell_type": "code",
   "execution_count": 78,
   "id": "3a960731",
   "metadata": {},
   "outputs": [],
   "source": [
    "import functools"
   ]
  },
  {
   "cell_type": "code",
   "execution_count": 79,
   "id": "464630eb",
   "metadata": {},
   "outputs": [],
   "source": [
    "class OperationCounterClass(object):\n",
    "    table = {}\n",
    "\n",
    "    @staticmethod\n",
    "    def reset():\n",
    "        for key in OperationCounter.table:\n",
    "            OperationCounter.table[key] = 0\n",
    "    \n",
    "    @staticmethod\n",
    "    def incr(op):\n",
    "        if op in OperationCounter.table.keys():\n",
    "            OperationCounter.table[op] += 1\n",
    "        else:\n",
    "            OperationCounter.table[op] = 1         \n",
    "\n",
    "    def __repr__(self):\n",
    "        return str(self.table)\n",
    "\n",
    "OperationCounter = OperationCounterClass() # so __repr__ works as expected\n",
    "\n",
    "def operation_counter_decorator(func):\n",
    "    OperationCounter.table[func.__name__] = 0\n",
    "    @functools.wraps(func)\n",
    "    def wrapper(*args, **kwargs):\n",
    "        if len(args) == 1:\n",
    "            OperationCounter.incr(func.__name__)   \n",
    "        elif len(args) == 2:\n",
    "            self = args[0]\n",
    "            other = args[1]\n",
    "            if isinstance(other, Variable): # would be called twice if 'other' needs casting\n",
    "                OperationCounter.incr(func.__name__)   \n",
    "        else:\n",
    "            raise NotImplementedError\n",
    "                        \n",
    "        return func(*args, **kwargs)\n",
    "    return wrapper"
   ]
  },
  {
   "cell_type": "code",
   "execution_count": 80,
   "id": "d93c9df5",
   "metadata": {
    "scrolled": false
   },
   "outputs": [],
   "source": [
    "class VariableCnt(Variable):\n",
    "       \n",
    "    def __init__(self, value, local_gradients=[]):\n",
    "        if isinstance(value, Variable):  \n",
    "            Variable.__init__(self, value.value, value.local_gradients)\n",
    "        else:\n",
    "            Variable.__init__(self, value, local_gradients)\n",
    "    \n",
    "    @operation_counter_decorator\n",
    "    def __add__(self, other):\n",
    "        return VariableCnt(Variable.__add__(self, other))\n",
    "    \n",
    "    @operation_counter_decorator\n",
    "    def __mul__(self, other):\n",
    "        return VariableCnt(Variable.__mul__(self, other))\n",
    "\n",
    "    @operation_counter_decorator\n",
    "    def __neg__(self):\n",
    "        return VariableCnt(Variable.__neg__(self))\n",
    "    \n",
    "    #@operation_counter # VariableCnt.var_operation_count['sub'] += 1 # subtraction is composed of neg and add so here we would duplicate count\n",
    "    def __sub__(self, other):\n",
    "        return VariableCnt(Variable.__sub__(self, other)) \n",
    "    \n",
    "    __radd__  = __add__\n",
    "    __rmul__ = __mul__\n",
    "    __rsub__ = __sub__\n",
    "    \n",
    "class VarFunctionsCnt(VarFunctions):\n",
    "    @staticmethod\n",
    "    @operation_counter_decorator\n",
    "    def sin(a):\n",
    "        return VariableCnt(VarFunctions.sin(a))\n",
    "    \n",
    "    @staticmethod\n",
    "    @operation_counter_decorator\n",
    "    def cos(a):\n",
    "        return VariableCnt(VarFunctions.cos(a))\n",
    "\n",
    "vf = VarFunctionsCnt"
   ]
  },
  {
   "cell_type": "code",
   "execution_count": 81,
   "id": "53535982",
   "metadata": {},
   "outputs": [
    {
     "name": "stdout",
     "output_type": "stream",
     "text": [
      "Operation types and counts:  {'__add__': 1, '__mul__': 1, '__neg__': 1, 'sin': 0, 'cos': 1}\n",
      "Value at the last variable ( !=0):  2.8322936730942847\n",
      "Gradients at the last variable (= not []):  ((1.4161468365471424v, 2.0), (2.0v, 1.4161468365471424))\n"
     ]
    }
   ],
   "source": [
    "OperationCounter.reset()\n",
    "\n",
    "test_a = VariableCnt(1)\n",
    "test_b = VariableCnt(2)\n",
    "test_c = (test_a - vf.cos(test_b))*2\n",
    "\n",
    "print('Operation types and counts: ', OperationCounter)\n",
    "print('Value at the last variable ( !=0): ', test_c.value)\n",
    "print('Gradients at the last variable (= not []): ', test_c.local_gradients)"
   ]
  },
  {
   "cell_type": "code",
   "execution_count": 82,
   "id": "4117810d",
   "metadata": {},
   "outputs": [],
   "source": [
    "def Rx_(theta):\n",
    "  return np.array([[ 1, 0           , 0           ],\n",
    "                   [ 0, vf.cos(theta),-vf.sin(theta)],\n",
    "                   [ 0, vf.sin(theta), vf.cos(theta)]])\n",
    "  \n",
    "def Ry_(theta):\n",
    "  return np.array([[vf.cos(theta), 0, vf.sin(theta)],\n",
    "                   [ 0           , 1, 0           ],\n",
    "                   [-vf.sin(theta), 0, vf.cos(theta)]])\n",
    "  \n",
    "def Rz_(theta):\n",
    "  return np.array([[vf.cos(theta), -vf.sin(theta), 0 ],\n",
    "                   [ vf.sin(theta), vf.cos(theta) , 0 ],\n",
    "                   [ 0           , 0            , 1 ]])\n",
    "\n",
    "np2var = lambda vec, typeOf=VariableCnt: [typeOf(x) for x in vec]\n",
    "ypr2rot_ad = lambda x: Rz_(x[0]) @ Ry_(x[1]) @ Rx_(x[2])\n",
    "r_x_ad = lambda x0: ((ypr2rot_ad(x0) @ pts_model.T).T + np.array([x0[3:6]]) - pts_target).ravel()"
   ]
  },
  {
   "cell_type": "markdown",
   "id": "818d2956",
   "metadata": {},
   "source": [
    "Run a Gauss-Newton just to check that everything's ok..."
   ]
  },
  {
   "cell_type": "code",
   "execution_count": 83,
   "id": "01ebb951",
   "metadata": {},
   "outputs": [
    {
     "name": "stdout",
     "output_type": "stream",
     "text": [
      "Iteration #        delta gt           dx              dr                  \n",
      "----------------------------------------------------------------\n",
      "Iteration #0      3.84801717             nan    497.62780943\n",
      "Iteration #1      1.51626838      4.81285259      3.25424394\n",
      "Iteration #2      0.08253915      1.48703868      0.26340997\n",
      "Iteration #3      0.00005337      0.08252769      0.00020193\n",
      "Iteration #4      0.00000000      0.00005337      0.00000000\n",
      "Iteration #5      0.00000000      0.00000000      0.00000000\n",
      "Check solution ( =0):  3.906739001172201e-15\n"
     ]
    }
   ],
   "source": [
    "x0 = np.array([0.0, 0.0, 0.0, 0.0, 0.0, 0.0]) # converging to the solution in 5 iterations\n",
    "\n",
    "def gauss_newton_autodiff_count_step(x):\n",
    "    x_ad = np2var(x)\n",
    "    dr_ad = r_x_ad(x_ad)\n",
    "    dr_f = dr_ad.astype('float')\n",
    "    J_ad = build_J_ad(dr_ad, x_ad)\n",
    "    \n",
    "    dx = np.linalg.inv(J_ad.T @ J_ad) @ J_ad.T @ dr_f    \n",
    "    return dx\n",
    "\n",
    "optimizer_framework(gauss_newton_autodiff_count_step, x0, x_gt)"
   ]
  },
  {
   "cell_type": "code",
   "execution_count": 84,
   "id": "1675159d",
   "metadata": {},
   "outputs": [
    {
     "name": "stdout",
     "output_type": "stream",
     "text": [
      "To be sure that type is correct ( =True):  True\n",
      "Operations counts: {'__add__': 154, '__mul__': 136, '__neg__': 3, 'sin': 6, 'cos': 6}\n"
     ]
    }
   ],
   "source": [
    "OperationCounter.reset()\n",
    "\n",
    "x0_ad = np2var(x0)\n",
    "dr_ad = r_x_ad(x0_ad)\n",
    "J_ad = build_J_ad(dr_ad, x0_ad)\n",
    "\n",
    "print('To be sure that type is correct ( =True): ', type(dr_ad[0]) is VariableCnt)\n",
    "print('Operations counts:', OperationCounter) # {'add': 154, 'mul': 136, 'neg': 3, 'sin': 6, 'cos': 6}"
   ]
  },
  {
   "cell_type": "markdown",
   "id": "5fd24e8c",
   "metadata": {},
   "source": [
    "# Soltuion #10: Automatic differentation with rotation vectors"
   ]
  },
  {
   "cell_type": "code",
   "execution_count": 85,
   "id": "43049a43",
   "metadata": {},
   "outputs": [],
   "source": [
    "class VariableExt(VariableCnt):\n",
    "            \n",
    "    def __init__(self, value, local_gradients=[]):\n",
    "        VariableCnt.__init__(self, value, local_gradients)\n",
    "    \n",
    "    def __pow__(self, other):\n",
    "        if isinstance(other, Variable) and other.value == 2: \n",
    "            OperationCounter.incr('pow2')\n",
    "        elif isinstance(other, Variable) and other.value == 0.5: \n",
    "            OperationCounter.incr('sqrt')\n",
    "        elif isinstance(other, Variable) and other.value < 1.0: \n",
    "            OperationCounter.incr('invpow')\n",
    "        elif isinstance(other, Variable):\n",
    "            OperationCounter.incr('pow')\n",
    "        \n",
    "        if not isinstance(other, Variable):\n",
    "            return self.__pow__(VariableExt(float(other)))                \n",
    "        value = self.value ** other.value\n",
    "        local_gradients = ((self,  other.value*self.value**(other.value-1) ), \n",
    "                           (other, self.value**other.value*math.log(other.value)))\n",
    "        return VariableExt(value, local_gradients)\n",
    "             \n",
    "    @operation_counter_decorator        \n",
    "    def __inv__(self):\n",
    "        value = 1. / self.value\n",
    "        local_gradients = (\n",
    "            (self, -1 / self.value**2),\n",
    "        )\n",
    "        return VariableExt(value, local_gradients)\n",
    "        \n",
    "    def __truediv__(self, other):\n",
    "        if not isinstance(other, Variable):\n",
    "            return self.__truediv__(VariableExt(float(other)))         \n",
    "        return self.__mul__(other.__inv__()) \n",
    "\n",
    "    def __add__(self, other):\n",
    "        return VariableExt(VariableCnt.__add__(self, other))\n",
    "    \n",
    "    def __mul__(self, other):\n",
    "        return VariableExt(VariableCnt.__mul__(self, other))\n",
    "\n",
    "    def __neg__(self):\n",
    "        return VariableExt(VariableCnt.__neg__(self))\n",
    "    \n",
    "    def __sub__(self, other):\n",
    "        return VariableExt(VariableCnt.__sub__(self, other)) \n",
    "    \n",
    "    __radd__  = __add__\n",
    "    __rmul__ = __mul__\n",
    "    __rsub__ = __sub__\n",
    "        \n",
    "class VarFunctionsExt(VarFunctionsCnt):\n",
    "\n",
    "    @staticmethod\n",
    "    def sin(a):\n",
    "        if not isinstance(a, Variable):\n",
    "            return VarFunctionsExt.sin(VariableExt(float(a)))                \n",
    "        return VariableExt(VarFunctionsCnt.sin(a))\n",
    "    \n",
    "    @staticmethod\n",
    "    def cos(a):\n",
    "        if not isinstance(a, Variable):\n",
    "            return VarFunctionsExt.cos(VariableExt(float(a)))                \n",
    "        return VariableExt(VarFunctionsCnt.cos(a))\n",
    "\n",
    "vf = VarFunctionsExt\n",
    "_var = VariableExt"
   ]
  },
  {
   "cell_type": "code",
   "execution_count": 86,
   "id": "dac8b0ae",
   "metadata": {},
   "outputs": [
    {
     "name": "stdout",
     "output_type": "stream",
     "text": [
      "Test value ( =5):  5.0\n",
      "Local gradient ( not =[]):  ((25.0v, 0.1), (0.5v, -3.4657359027997265))\n",
      "Number of operations:  {'__add__': 1, '__mul__': 1, '__neg__': 0, 'sin': 0, 'cos': 0, '__inv__': 1, 'pow2': 2, 'sqrt': 1}\n"
     ]
    }
   ],
   "source": [
    "OperationCounter.reset()\n",
    "\n",
    "test_a = _var(3)\n",
    "test_b = _var(4)\n",
    "test_c = (test_a**2 + test_b**2)**(_var(1)/_var(2))\n",
    "print('Test value ( =5): ', test_c.value)\n",
    "print('Local gradient ( not =[]): ', test_c.local_gradients)\n",
    "\n",
    "print('Number of operations: ', OperationCounter)"
   ]
  },
  {
   "cell_type": "code",
   "execution_count": 87,
   "id": "2844f70a",
   "metadata": {
    "scrolled": true
   },
   "outputs": [
    {
     "name": "stdout",
     "output_type": "stream",
     "text": [
      "5.662749647834299e-16\n",
      "((1.0v, 1.0), (-0.31698729810778076v, 1.0))\n",
      "<class '__main__.VariableExt'>\n"
     ]
    }
   ],
   "source": [
    "x_gt_al = np.hstack((rvec_gt, x_gt[3:6]))\n",
    "\n",
    "def Exp_al_(w):\n",
    "    omega = (w[0]**2 + w[1]**2 + w[2]**2)**(1/2) # some modification here, because we need to use elementary operations\n",
    "    S = np.array([[0, -w[2], w[1]], [w[2], 0, -w[0]], [-w[1], w[0], 0]])\n",
    "    # need to change the scalar * matrix order to matrix * scalar & convert all constants to VariableExt\n",
    "    R = np.eye(3) + S*(vf.sin(omega)/omega) + S@S*((_var(1)-vf.cos(omega))/omega**2)\n",
    "    return R\n",
    "\n",
    "R_gt_al = Exp_al_(np2var(x_gt_al, typeOf=VariableExt))\n",
    "print(np.linalg.norm((R_gt_al - R_gt).astype('float')))\n",
    "print(R_gt_al[0,0].local_gradients)\n",
    "print(type(R_gt_al[0, 0]))"
   ]
  },
  {
   "cell_type": "code",
   "execution_count": 88,
   "id": "7733dc97",
   "metadata": {},
   "outputs": [
    {
     "name": "stdout",
     "output_type": "stream",
     "text": [
      "Check residual function ( =0):  4.79071205159252e-15\n"
     ]
    }
   ],
   "source": [
    "r_x_al = lambda x0: ((Exp_al_(x0) @ pts_model.T).T + np.array([x0[3:6]]) - pts_target).ravel()\n",
    "print('Check residual function ( =0): ', np.linalg.norm(r_x_al(x_gt_al).astype('float')))"
   ]
  },
  {
   "cell_type": "code",
   "execution_count": 89,
   "id": "b0af0c5e",
   "metadata": {},
   "outputs": [
    {
     "name": "stdout",
     "output_type": "stream",
     "text": [
      "Iteration #        delta gt           dx              dr                  \n",
      "----------------------------------------------------------------\n",
      "Iteration #0      3.85585913             nan    497.67711453\n",
      "Iteration #1      1.51024789      4.81104212     10.60582925\n",
      "Iteration #2      0.05196069      1.49141698      7.50595213\n",
      "Iteration #3      0.00001699      0.05194708      7.38709342\n",
      "Iteration #4      0.00000000      0.00001699      7.38707522\n",
      "Iteration #5      0.00000000      0.00000000      7.38707522\n",
      "Check solution ( =0):  2.0337470709422124e-15\n"
     ]
    }
   ],
   "source": [
    "def gauss_newton_rvec_step(x):\n",
    "    x_al = np2var(x, typeOf=VariableExt)\n",
    "    dr_al = r_x_al(x_al)\n",
    "    dr_f = dr_al.astype('float')\n",
    "    J_al = build_J_ad(dr_al, x_al)\n",
    "    dx = np.linalg.inv(J_al.T @ J_al) @ J_al.T @ dr_f\n",
    "    return dx\n",
    "\n",
    "x0 = np.array([0.001, 0, 0, 0.0, 0.0, 0.0]) # converging to the solution in 5 iterations\n",
    "optimizer_framework(gauss_newton_rvec_step, x0, x_gt_al)"
   ]
  },
  {
   "cell_type": "code",
   "execution_count": 90,
   "id": "2612048c",
   "metadata": {},
   "outputs": [
    {
     "name": "stdout",
     "output_type": "stream",
     "text": [
      "To be sure that type is correct ( =True):  False\n",
      "Operation count:  {'__add__': 159, '__mul__': 134, '__neg__': 4, 'sin': 1, 'cos': 1, '__inv__': 2, 'pow2': 4, 'sqrt': 1}\n"
     ]
    }
   ],
   "source": [
    "OperationCounter.reset()\n",
    "\n",
    "x0_al = np2var(x0, typeOf=VariableExt)\n",
    "dr_al = r_x_al(x0_al)\n",
    "J_al = build_J_ad(dr_al, x0_al)\n",
    "\n",
    "print('To be sure that type is correct ( =True): ', type(dr_ad[0]) is VariableExt)\n",
    "print('Operation count: ', OperationCounter)\n",
    "# Euler angles were: {'add': 154, 'mul': 136, 'neg': 3, 'sin': 6, 'cos': 6}"
   ]
  },
  {
   "cell_type": "markdown",
   "id": "9088598a",
   "metadata": {},
   "source": [
    "TODO: rotation matrix unknowns with lie algebra and automatic differentation"
   ]
  },
  {
   "cell_type": "markdown",
   "id": "18194191",
   "metadata": {},
   "source": [
    "# Soltuion #11: \"Optimization on manifold\""
   ]
  },
  {
   "cell_type": "markdown",
   "id": "40aaf442",
   "metadata": {},
   "source": [
    "- https://www.ethaneade.com/lie.pdf\n",
    "- Graph-base SLAM tutorial: http://ais.informatik.uni-freiburg.de/teaching/ws11/robotics2/pdfs/ls-slam-tutorial.pdf\n",
    "- GTSAM: https://github.com/borglab/gtsam/blob/develop/doc/LieGroups.pdf\n",
    "- https://www.ri.cmu.edu/wp-content/uploads/2018/08/jerry_thesis.pdf\n",
    "- Formulas: https://jinyongjeong.github.io/Download/SE3/jlblanco2010geometry3d_techrep.pdf\n",
    "- https://citeseerx.ist.psu.edu/viewdoc/download;jsessionid=EBB42B22A92830B0957092094A971A67?doi=10.1.1.37.5009&rep=rep1&type=pdf"
   ]
  },
  {
   "cell_type": "markdown",
   "id": "285fad50",
   "metadata": {},
   "source": [
    "The theme will be the followings:\n",
    "\n",
    "TODO: this need to be in a reverse direction!\n",
    "\n",
    "1. We have a known rotation representation (e.g. rotation matrix, quaternion) to simply perform an \"action\" called rotation on points represented with 3D vectors. However these representations are over-parametrizations of the rotation (for rotation matrix it is 9 and for quaternion it is 4 vs. the minimal representation composed of only 3 parameters). We saw that we needed constraints when using non-minimal rotation representation. To avoid using constraints, We consider special properties of these transformations. These transformations are special mathematical structures called  Lie groups, i.e. SO(3) for rotation matrices and S(4) for quaternions.\n",
    "\n",
    "2. We will have conversion from the Lie group to another mathematical structure called the Lie algebra. The Lie algebra of rotation matrices is so(3) skew matrices and for quaternions it is S(3) unit quaternions. This conversion or mapping between the group and its algebra is called the logarithmic  map. \n",
    "\n",
    "3. The Lie algebra is isomorphic with an n-dimensional vector space. In our case, it means that for each element of so(3) or S(3) I can assign a vector from a 3D vector space. Therefore, we will have a R^3 minimal represention of rotations in the continous vector space. Then, we can optimization without having worried about constraints, however we don't have a direct mathematical formula to apply rotation on a point represented by a vector as we had in the Lie groups.\n",
    "\n",
    "These steps can be reversed. In this case we need to invert the logarithmic map; this mapping is called exponential map. During optimization we can do both operations to change from one representation to the other depending on whether we perform the rotation or update the optimizer step. "
   ]
  },
  {
   "cell_type": "markdown",
   "id": "1b444b0a",
   "metadata": {},
   "source": [
    "Dictionary:\n",
    "- Lie groups: rotation representation with wich we can directly perform rotation, e.g. rotation matrix, quaternion.\n",
    "- Lie algebra: some intermidiate representation between the Lie group and R^3, e.g. skew matrix for rotation matrix and unit quaternions for quaternions.\n",
    "- exponential map: conversion\n",
    "- logarithmic map: conversion\n",
    "- isomporphic: basically the same space just operations defined a bit differently"
   ]
  },
  {
   "cell_type": "markdown",
   "id": "d020b4bd",
   "metadata": {},
   "source": [
    "Let's visualize these mathematical structures and make sense of it:"
   ]
  },
  {
   "cell_type": "code",
   "execution_count": 91,
   "id": "da5f4b15",
   "metadata": {},
   "outputs": [
    {
     "name": "stderr",
     "output_type": "stream",
     "text": [
      "/tmp/ipykernel_7574/2765266935.py:14: RuntimeWarning: invalid value encountered in scalar divide\n",
      "  S = (omega/(2*np.sin(omega))) * (R - R.T)      # SO(3) -> so(3)\n"
     ]
    },
    {
     "data": {
      "text/plain": [
       "Text(0.5, 0.92, 'SO(3) Lie group of rotation matrices and\\n so(3) Lie algebra of skew matrices')"
      ]
     },
     "execution_count": 91,
     "metadata": {},
     "output_type": "execute_result"
    },
    {
     "data": {
      "image/png": "[encoded data removed]",
      "text/plain": [
       "<Figure size 600x500 with 1 Axes>"
      ]
     },
     "metadata": {},
     "output_type": "display_data"
    }
   ],
   "source": [
    "tangent_pt = np.array([1, 0, 0])\n",
    "\n",
    "# Let's create the surfaces by visualizing their transformation on a 3D vector tangent_pt\n",
    "SO3_surface = []\n",
    "so3_surface = []\n",
    "for yaw in np.arange(-pi, pi, 0.3):                    # sample points at possible Euler \n",
    "  for pitch in np.arange(-pi, pi, 0.3):                # angles to construct SO(3)\n",
    "    for roll in np.arange(-pi, pi, 0.3):\n",
    "        R = R_x([yaw, pitch, roll])                    # construct rotation matrix SO(3)\n",
    "        pt_ = R @ tangent_pt                         \n",
    "        SO3_surface.append(pt_)\n",
    "        \n",
    "        omega = np.arccos((np.trace(R)-1)/2)        \n",
    "        S = (omega/(2*np.sin(omega))) * (R - R.T)      # SO(3) -> so(3)\n",
    "        pt_ = S @ tangent_pt\n",
    "        so3_surface.append(pt_)\n",
    "\n",
    "SO3_surface = np.array(SO3_surface)\n",
    "so3_surface = np.array(so3_surface)\n",
    "so3_surface += tangent_pt                              # this will move the points to the identity SO(3) * tangent_pt\n",
    "\n",
    "# plotting the SO(3) and so(3) surfaces\n",
    "plt.figure(figsize=(6,5))\n",
    "ax = plt.axes(projection='3d')\n",
    "ax.scatter3D(SO3_surface[:,0], SO3_surface[:,1], SO3_surface[:,2], c='r', s=0.1, alpha=0.2)\n",
    "ax.scatter3D(so3_surface[:,0], so3_surface[:,1], so3_surface[:,2], c='b', s=0.1, alpha=0.2)\n",
    "\n",
    "# We will create a trajectory in R^3 and show how this trajectory looks like in so(3) and SO(3)\n",
    "SO3_line = []\n",
    "so3_line = []\n",
    "for w_i in np.arange(0.0001, pi, 0.1):\n",
    "    w = [0, 0, w_i]\n",
    "    S = np.array([[0, -w[2], w[1]], [w[2], 0, -w[0]], [-w[1], w[0], 0]])            # R^3 -> so(3)\n",
    "    pt_ = S @ tangent_pt\n",
    "    so3_line.append(pt_)\n",
    "\n",
    "    omega = (w[0]**2 + w[1]**2 + w[2]**2)**(1/2)\n",
    "    R = np.eye(3) + (math.sin(omega)/omega)*S + ((1-math.cos(omega))/omega**2)*S@S  # so(3) -> SO(3)\n",
    "    pt_ = R @ tangent_pt\n",
    "    SO3_line.append(pt_)\n",
    "\n",
    "SO3_line = np.array(SO3_line)\n",
    "so3_line = np.array(so3_line)\n",
    "so3_line += tangent_pt \n",
    "\n",
    "# plotting the trajectory\n",
    "ax.plot3D(SO3_line[:,0], SO3_line[:,1], SO3_line[:,2], 'k.-', markersize=6)\n",
    "ax.plot3D(so3_line[:,0], so3_line[:,1], so3_line[:,2], 'k.-', markersize=6)\n",
    "set_3d_axes_equal(ax)\n",
    "ax.view_init(elev=25, azim=120)\n",
    "ax.set_title('SO(3) Lie group of rotation matrices and\\n so(3) Lie algebra of skew matrices')"
   ]
  },
  {
   "cell_type": "code",
   "execution_count": 92,
   "id": "0b2cd51d",
   "metadata": {
    "scrolled": true
   },
   "outputs": [
    {
     "name": "stdout",
     "output_type": "stream",
     "text": [
      "Iteration #0 \t R: 1.270725 \t t: 3.7417 \t dx: inf\t dr: nan\n",
      "Iteration #1 \t R: 0.212963 \t t: 1.5044 \t dx: 4.81267141\t dr: 16.88866336\n",
      "Iteration #2 \t R: 0.003323 \t t: 0.0520 \t dx: 1.49303516\t dr: 2.96656644\n",
      "Iteration #3 \t R: 0.000001 \t t: 0.0000 \t dx: 0.05208177\t dr: 0.14885669\n",
      "Iteration #4 \t R: 0.000000 \t t: 0.0000 \t dx: 0.00001340\t dr: 0.00003678\n",
      "Iteration #5 \t R: 0.000000 \t t: 0.0000 \t dx: 0.00000000\t dr: 0.00000000\n",
      "Check solution ( =0):  1.1281198993241301e-15\n"
     ]
    }
   ],
   "source": [
    "def skew_al(x): return np.array([[_var(0), -x[2], x[1]],\n",
    "                                 [x[2], _var(0), -x[0]],\n",
    "                                 [-x[1], x[0], _var(0)]])\n",
    "\n",
    "R0 = Exp_([0.0001, 0.0, 0.0])\n",
    "t0 = np.array([0.0, 0.0, 0.0])\n",
    "dx = np.inf\n",
    "iter_num = 0\n",
    "\n",
    "print('Iteration #{:d} \\t R: {:.6f} \\t t: {:.4f} \\t dx: {:.8f}\\t dr: {:.8f}'.format(\n",
    "         iter_num, np.linalg.norm(R0 - R_gt), np.linalg.norm(t0 - t_gt), dx, np.nan))\n",
    "\n",
    "while np.linalg.norm(dx) > 1e-6 and iter_num < 100:\n",
    "    iter_num += 1\n",
    "    \n",
    "    dr = (((R0 @ pts_model.T).T + t0.reshape(1,-1)) - pts_target).ravel()    \n",
    "    #w = Log_(R0)                                                  # S0(3) => so(3) => R^3\n",
    "    w = [0.0001, 0.0, 0.0]\n",
    "    \n",
    "    # step computation\n",
    "    x_al = np2var(np.hstack([w, t0]), typeOf=VariableExt)         # Create auto-differentiable variables\n",
    "    # Use small angle approximation here: Exp_al_(x0) == R0 @ skew_al(x0[:3])\n",
    "    r_x_al = lambda x0: (( R0 @ skew_al(x0[:3]) @ pts_model.T).T + (t0 + np.array([x0[3:6]])) - pts_target).ravel()\n",
    "    dr_al = r_x_al(x_al)\n",
    "    J_al = build_J_ad(dr_al, x_al)                                # Jacobian on R^3\n",
    "    dx = np.linalg.solve(-J_al.T @ J_al, J_al.T @ dr)              # Solution on R^3\n",
    "    \n",
    "    # update\n",
    "    R0 = R0 @ Exp_(dx[:3])                                        # incremental update: R^3 => so(3) => SO(3)\n",
    "    t0 = t0 + dx[3:6]\n",
    "    print('Iteration #{:d} \\t R: {:.6f} \\t t: {:.4f} \\t dx: {:.8f}\\t dr: {:.8f}'.format(\n",
    "         iter_num, np.linalg.norm(R0 - R_gt), np.linalg.norm(t0 - t_gt), np.linalg.norm(dx), np.linalg.norm(dr)))\n",
    "        \n",
    "print('Check solution ( =0): ', np.linalg.norm(R0 - R_gt))"
   ]
  },
  {
   "cell_type": "markdown",
   "id": "d19d77bb",
   "metadata": {},
   "source": [
    "# Soltuion #12: \"Optimization on manifold\" with analytical Jacobians"
   ]
  },
  {
   "cell_type": "markdown",
   "id": "066142ad",
   "metadata": {},
   "source": [
    "We saw that above that the algorithm convergence exactly the same regardles how `w` was set. The reason behind this is that the elements of `w` vanish through differentiation. Let's see how the partial derivatives of the Jacobian look like:\n",
    "\n",
    "$$\n",
    "\\frac{\\partial \\mathbf{r}(R_0 \\Delta R, \\mathbf{t}_0 + \\Delta \\mathbf{t})}{\\partial \\Delta R} =\n",
    "\\frac{\\partial \\mathbf{r}(R_0 Exp(\\mathbf{\\omega}), \\mathbf{t}_0 + \\Delta \\mathbf{t})}{\\partial \\mathbf{\\omega}} \\approx\n",
    "\\frac{\\partial \\mathbf{r}(R_0[\\mathbf{\\omega}]_x, \\mathbf{t}_0 + \\Delta \\mathbf{t})}{\\partial \\mathbf{\\omega}} = \n",
    "-R[\\mathbf{p}]_x,\n",
    "$$\n",
    "\n",
    "and\n",
    "\n",
    "$$\n",
    "\\frac{\\partial \\mathbf{r}(R_0 \\Delta R, \\mathbf{t}_0 + \\Delta \\mathbf{t})}{\\partial \\Delta \\mathbf{t}} = I_3.\n",
    "$$\n"
   ]
  },
  {
   "cell_type": "markdown",
   "id": "d93c95ce",
   "metadata": {},
   "source": [
    "That's pretty easy to implement:"
   ]
  },
  {
   "cell_type": "code",
   "execution_count": 93,
   "id": "0c3cabae",
   "metadata": {},
   "outputs": [
    {
     "name": "stdout",
     "output_type": "stream",
     "text": [
      "Jacobian for one point: \n",
      "[[ 2.78305766  2.35806736 -2.66805042  1.          0.          0.        ]\n",
      " [-3.02320868  3.2148366  -0.31409628  0.          1.          0.        ]\n",
      " [ 0.63374858 -0.66732321  0.06217518  0.          0.          1.        ]]\n",
      "Jacobian construction check ( =0):  6.061214819215457e-13\n"
     ]
    }
   ],
   "source": [
    "# for derivation, see https://github.com/borglab/gtsam/blob/develop/doc/LieGroups.pdf, Page 14\n",
    "def build_J_manifold(R, pts_model):\n",
    "    J_m_built = []\n",
    "    for k in range(pts_model.shape[0]):\n",
    "        pts = pts_model[k, :]\n",
    "        J_pts = np.hstack([-R @ skew(pts), np.eye(3)])\n",
    "        J_m_built.extend(J_pts.tolist())    \n",
    "    return np.array(J_m_built)\n",
    "\n",
    "J_chk = build_J_manifold(R_gt, pts_model)\n",
    "print('Jacobian for one point: ')\n",
    "print(J_chk[:3, :])\n",
    "print('Jacobian construction check ( =0): ', np.linalg.norm(J_chk - J_al))"
   ]
  },
  {
   "cell_type": "markdown",
   "id": "c64174b0",
   "metadata": {},
   "source": [
    "And then we can call this function in out optimizer:"
   ]
  },
  {
   "cell_type": "code",
   "execution_count": 100,
   "id": "743d0ef8",
   "metadata": {},
   "outputs": [
    {
     "name": "stdout",
     "output_type": "stream",
     "text": [
      "Iteration #0 \t R: 1.270725 \t t: 3.7417 \t dx: inf\t dr: nan\n",
      "Iteration #1 \t R: 0.214294 \t t: 1.5044 \t dx: 3.75390114\t dr: 16.88866336\n",
      "Iteration #2 \t R: 0.004554 \t t: 0.0387 \t dx: 1.48833065\t dr: 4.06320513\n",
      "Iteration #3 \t R: 0.000002 \t t: 0.0000 \t dx: 0.03883155\t dr: 0.08345232\n",
      "Iteration #4 \t R: 0.000000 \t t: 0.0000 \t dx: 0.00002365\t dr: 0.00006969\n",
      "Iteration #5 \t R: 0.000000 \t t: 0.0000 \t dx: 0.00000000\t dr: 0.00000000\n",
      "Check solution ( =0):  1.4552500014939717e-15\n"
     ]
    }
   ],
   "source": [
    "R0 = Exp_([0.0001, 0.0, 0.0])\n",
    "t0 = np.array([0.0, 0.0, 0.0])\n",
    "dx = np.inf\n",
    "iter_num = 0\n",
    "\n",
    "print('Iteration #{:d} \\t R: {:.6f} \\t t: {:.4f} \\t dx: {:.8f}\\t dr: {:.8f}'.format(\n",
    "         iter_num, np.linalg.norm(R0 - R_gt), np.linalg.norm(t0 - t_gt), dx, np.nan))\n",
    "\n",
    "while np.linalg.norm(dx) > 1e-6 and iter_num < 100:\n",
    "    iter_num += 1\n",
    "    \n",
    "    dr = (((R0 @ pts_model.T).T + t0.reshape(1,-1)) - pts_target).ravel()    \n",
    "    J_m_a = build_J_manifold(R_gt, pts_model)   \n",
    "    dx = np.linalg.solve(-J_m_a.T @ J_m_a, J_m_a.T @ dr)                  \n",
    "    R0 = R0 @ Exp_(dx[:3])                                        \n",
    "    t0 = t0 + dx[3:6]\n",
    "    \n",
    "    print('Iteration #{:d} \\t R: {:.6f} \\t t: {:.4f} \\t dx: {:.8f}\\t dr: {:.8f}'.format(\n",
    "         iter_num, np.linalg.norm(R0 - R_gt), np.linalg.norm(t0 - t_gt), np.linalg.norm(dx), np.linalg.norm(dr)))\n",
    "        \n",
    "print('Check solution ( =0): ', np.linalg.norm(R0 - R_gt))"
   ]
  },
  {
   "cell_type": "markdown",
   "id": "b13290d5",
   "metadata": {},
   "source": [
    "# Quaternions with optimization on manifold "
   ]
  },
  {
   "cell_type": "code",
   "execution_count": 95,
   "id": "86845a23",
   "metadata": {},
   "outputs": [],
   "source": [
    "#q0 = Rotation.from_euler('ZYX', ypr_gt, degrees=False).as_quat()\n",
    "q_gt = Rotation.from_matrix(R_gt).as_quat()"
   ]
  },
  {
   "cell_type": "code",
   "execution_count": 162,
   "id": "74db4252",
   "metadata": {},
   "outputs": [],
   "source": [
    "def q_mult(q1, q2):\n",
    "    x1, y1, z1, w1 = q1\n",
    "    x2, y2, z2, w2 = q2\n",
    "    x = w1 * x2 + x1 * w2 + y1 * z2 - z1 * y2\n",
    "    y = w1 * y2 + y1 * w2 + z1 * x2 - x1 * z2\n",
    "    z = w1 * z2 + z1 * w2 + x1 * y2 - y1 * x2\n",
    "    w = w1 * w2 - x1 * x2 - y1 * y2 - z1 * z2\n",
    "    return x, y, z, w\n",
    "\n",
    "def q_conjugate(q):\n",
    "    x, y, z, w = q\n",
    "    return [-x, -y, -z, w]\n",
    "\n",
    "# rotatate matrix of points with a given quaternion\n",
    "def qv_mult(q1, v1):\n",
    "    ret = []\n",
    "    for k in range(v1.shape[0]):\n",
    "        q2 = [v1[k, 0], v1[k, 1], v1[k, 2], 0.0]\n",
    "        pv = q_mult(q_mult(q1, q2), q_conjugate(q1))\n",
    "        ret.append(pv) # = q*v*q'\n",
    "    return np.array(ret)[:, :3]"
   ]
  },
  {
   "cell_type": "code",
   "execution_count": 163,
   "id": "b8c3d511",
   "metadata": {},
   "outputs": [
    {
     "data": {
      "text/plain": [
       "<matplotlib.collections.PathCollection at 0x7fb16dbbab50>"
      ]
     },
     "execution_count": 163,
     "metadata": {},
     "output_type": "execute_result"
    },
    {
     "data": {
      "image/png": "[encoded data removed]",
      "text/plain": [
       "<Figure size 600x500 with 1 Axes>"
      ]
     },
     "metadata": {},
     "output_type": "display_data"
    }
   ],
   "source": [
    "pts_model_hat = qv_mult(q_gt, pts_model) + t_gt\n",
    "\n",
    "plt.figure(figsize=(6,5))\n",
    "plt.scatter(pts_model[:, 0], pts_model[:, 1])\n",
    "plt.scatter(pts_target[:, 0], pts_target[:, 1])\n",
    "plt.scatter(pts_model_hat[:, 0], pts_model_hat[:, 1], s=10.0)\n"
   ]
  },
  {
   "cell_type": "markdown",
   "id": "345da38e",
   "metadata": {},
   "source": [
    "If we try to obtain the solution by directly optimizting the 4-element long unit quaternions, then the problem is underdetermined. To handle the underdetermined system, we need to introduce constraints. Instead, in practice, we can use the Lie algebra of the unit quaternion Lie-group, which would be the purely imagenery or simply pure quaternions with the same operations. The pure quaternions consist of 3 elements that can be directly solved in our optimizer."
   ]
  },
  {
   "cell_type": "code",
   "execution_count": 218,
   "id": "cd43b223",
   "metadata": {},
   "outputs": [
    {
     "name": "stdout",
     "output_type": "stream",
     "text": [
      "Iteration #0 \t q: 0.461766 \t t: 3.7417 \t dx: inf\t dr: nan\n",
      "Iteration #1 \t q: 0.265082 \t t: 1.5046 \t dx: 4.76178066\t dr: 16.88998476\n",
      "Iteration #2 \t q: 0.139205 \t t: 0.5361 \t dx: 1.09046423\t dr: 3.96071353\n",
      "Iteration #3 \t q: 0.070598 \t t: 0.1524 \t dx: 0.41718304\t dr: 2.59548981\n",
      "Iteration #4 \t q: 0.035436 \t t: 0.0396 \t dx: 0.13362280\t dr: 1.42512282\n",
      "Iteration #5 \t q: 0.017737 \t t: 0.0100 \t dx: 0.04617985\t dr: 0.73221071\n",
      "Iteration #6 \t q: 0.008871 \t t: 0.0025 \t dx: 0.01925559\t dr: 0.36891896\n",
      "Iteration #7 \t q: 0.004436 \t t: 0.0006 \t dx: 0.00906823\t dr: 0.18487750\n",
      "Iteration #8 \t q: 0.002218 \t t: 0.0002 \t dx: 0.00446086\t dr: 0.09250679\n",
      "Iteration #9 \t q: 0.001109 \t t: 0.0000 \t dx: 0.00222119\t dr: 0.04626582\n",
      "Iteration #10 \t q: 0.000555 \t t: 0.0000 \t dx: 0.00110944\t dr: 0.02313544\n",
      "Iteration #11 \t q: 0.000277 \t t: 0.0000 \t dx: 0.00055458\t dr: 0.01156828\n",
      "Iteration #12 \t q: 0.000139 \t t: 0.0000 \t dx: 0.00027727\t dr: 0.00578427\n",
      "Iteration #13 \t q: 0.000069 \t t: 0.0000 \t dx: 0.00013863\t dr: 0.00289217\n",
      "Iteration #14 \t q: 0.000035 \t t: 0.0000 \t dx: 0.00006932\t dr: 0.00144609\n",
      "Iteration #15 \t q: 0.000017 \t t: 0.0000 \t dx: 0.00003466\t dr: 0.00072305\n",
      "Iteration #16 \t q: 0.000009 \t t: 0.0000 \t dx: 0.00001733\t dr: 0.00036152\n",
      "Iteration #17 \t q: 0.000004 \t t: 0.0000 \t dx: 0.00000866\t dr: 0.00018076\n",
      "Iteration #18 \t q: 0.000002 \t t: 0.0000 \t dx: 0.00000433\t dr: 0.00009038\n",
      "Iteration #19 \t q: 0.000001 \t t: 0.0000 \t dx: 0.00000217\t dr: 0.00004519\n",
      "Iteration #20 \t q: 0.000001 \t t: 0.0000 \t dx: 0.00000108\t dr: 0.00002260\n",
      "Iteration #21 \t q: 0.000000 \t t: 0.0000 \t dx: 0.00000054\t dr: 0.00001130\n",
      "Check solution ( =0):  2.7076955780162003e-07\n"
     ]
    }
   ],
   "source": [
    "q0 = Rotation.from_euler('ZYX', [0.0, 0.0, 0.0]).as_quat() # note: this is unit quaternion\n",
    "t0 = np.array([0.0, 0.0, 0.0])\n",
    "dx = np.inf\n",
    "iter_num = 0\n",
    "\n",
    "print('Iteration #{:d} \\t q: {:.6f} \\t t: {:.4f} \\t dx: {:.8f}\\t dr: {:.8f}'.format(\n",
    "         iter_num, np.linalg.norm(q0 - q_gt), np.linalg.norm(t0 - t_gt), dx, np.nan))\n",
    "\n",
    "# unit quaternion's exponential map is the purely imagenery quaternions (\"pure quaternions\") \n",
    "def Expq_(qp):\n",
    "    om = np.sqrt(qp @ qp.T)\n",
    "    a = np.sin(om/2)/om\n",
    "    return [a*qp[0], a*qp[1], a*qp[2], np.cos(om/2)]\n",
    "\n",
    "while np.linalg.norm(dx) > 1e-6 and iter_num < 100:\n",
    "    iter_num += 1\n",
    "    \n",
    "    dr = (qv_mult(q0, pts_model) + t0 - pts_target).ravel()    \n",
    "    \n",
    "    # step computation\n",
    "    x_aq = np2var(np.hstack([[0, 0, 0], t0]), typeOf=VariableExt)\n",
    "    r_x_ag = lambda x0: (qv_mult(q_mult(q0, [x0[0], x0[1], x0[2], _var(1.0)]), pts_model) + np.array([x0[3:]]) - pts_target).ravel()\n",
    "    dr_aq = r_x_ag(x_aq)\n",
    "    J_aq = build_J_ad(dr_aq, x_aq, n=6)\n",
    "    dx = np.linalg.solve(-J_aq.T @ J_aq, J_aq.T @ dr)\n",
    "        \n",
    "    # update\n",
    "    q0 = q_mult(q0, Expq_(dx[:3]))\n",
    "    t0 = t0 + dx[3:]\n",
    "    \n",
    "    print('Iteration #{:d} \\t q: {:.6f} \\t t: {:.4f} \\t dx: {:.8f}\\t dr: {:.8f}'.format(\n",
    "         iter_num, np.linalg.norm(q0 - q_gt), np.linalg.norm(t0 - t_gt), np.linalg.norm(dx), np.linalg.norm(dr)))\n",
    "        \n",
    "print('Check solution ( =0): ', np.linalg.norm(q0 - q_gt))"
   ]
  },
  {
   "cell_type": "markdown",
   "id": "0e9cadc9",
   "metadata": {},
   "source": [
    "# Timeit"
   ]
  },
  {
   "cell_type": "code",
   "execution_count": null,
   "id": "dd3e6be1",
   "metadata": {},
   "outputs": [],
   "source": [
    "%%timeit -r 5 -n 10\n",
    "cog_model = np.mean(pts_model, axis=0)          # mean computation can be done in one loop: n_pts\n",
    "cog_target = np.mean(pts_target, axis=0)        # \n",
    "pts_model_cog = pts_model - cog_model           # computing cog of points can be done in one loop\n",
    "pts_target_cog = pts_target - cog_target        # \n",
    "C = pts_model_cog.T @ pts_target_cog            # n_pts * 3 * n_pts\n",
    "[U, S, V] = np.linalg.svd(C) # this will be always the svd of a 3x3 matrix independently the number of points\n",
    "R_svd = V.T @ U.T                               # some constant: 3*3*3\n",
    "t_svd = cog_target - R_svd @ cog_model          # some constant"
   ]
  },
  {
   "cell_type": "markdown",
   "id": "69f286a0",
   "metadata": {},
   "source": [
    "Let's say something about the computation complexity:\n",
    "\n",
    "- getting SVD of a 3x3 matrix is some constant\n",
    "- number of $\\mathcal{O}(N^2)$ operation: 3\n",
    "- number of $\\mathcal{O}(N)$ operation: 2"
   ]
  },
  {
   "cell_type": "code",
   "execution_count": null,
   "id": "a09f9d6d",
   "metadata": {},
   "outputs": [],
   "source": [
    "%%timeit -r 5 -n 10\n",
    "x0 = np.array([0.001, 0, 0, 0.0, 0.0, 0.0])\n",
    "dx = np.inf \n",
    "iter_num = 0\n",
    "while np.linalg.norm(dx) > 1e-6 and iter_num < 100:\n",
    "    iter_num += 1\n",
    "    x0_al = np2var(x0, typeOf=VariableExt)\n",
    "    dr_al = r_x_al(x0_al)\n",
    "    J_al = build_J_ad(dr_al, x0_al)\n",
    "    dr_f = dr_al.astype('float')\n",
    "    #dx = np.linalg.inv(J_al.T @ J_al) @ J_al.T @ dr_f\n",
    "    dx = np.linalg.solve(J_al.T @ J_al, J_al.T @ dr_f)\n",
    "    x0 = x0 - dx"
   ]
  },
  {
   "cell_type": "code",
   "execution_count": null,
   "id": "a174efbe",
   "metadata": {},
   "outputs": [],
   "source": [
    "%%timeit -r 5 -n 10\n",
    "x0 = np.array([0, 0, 0, 0, 0, 0])\n",
    "res = least_squares(r_x, x0, verbose=0, xtol=1e-6)"
   ]
  },
  {
   "cell_type": "code",
   "execution_count": null,
   "id": "3a3728b1",
   "metadata": {},
   "outputs": [],
   "source": [
    "def manifold_analytical(R0, t0):\n",
    "    dx = np.inf\n",
    "    iter_num = 0\n",
    "    while np.linalg.norm(dx) > 1e-6 and iter_num < 100:\n",
    "        iter_num += 1\n",
    "        dr = (((R0 @ pts_model.T).T + t0.reshape(1,-1)) - pts_target).ravel()    \n",
    "        J_m_a = build_J_manifold(R_gt, pts_model)   \n",
    "        dx = np.linalg.solve(-J_m_a.T @ J_m_a, J_m_a.T @ dr)                  \n",
    "        R0 = R0 @ Exp_(dx[:3])                                        \n",
    "        t0 = t0 + dx[3:6]\n",
    "    return R0, t0, J_m_a"
   ]
  },
  {
   "cell_type": "code",
   "execution_count": null,
   "id": "4ab0212e",
   "metadata": {},
   "outputs": [],
   "source": [
    "%%timeit -r 50 -n 10\n",
    "R0 = Exp_([0.0001, 0.0, 0.0])\n",
    "t0 = np.array([0.0, 0.0, 0.0])\n",
    "manifold_analytical(R0, t0)"
   ]
  },
  {
   "cell_type": "code",
   "execution_count": null,
   "id": "a18e15ff",
   "metadata": {},
   "outputs": [],
   "source": [
    "n_pts = pts_model.shape[0]\n",
    "pts_model_T = pts_model.T\n",
    "pts_target_T = pts_target.T\n",
    "I3 = np.ones((1, n_pts))\n",
    "J_t = np.vstack([np.eye(3)]*n_pts)\n",
    "\n",
    "def manifold_analytical_opt(R0, t0):\n",
    "    dx = np.inf\n",
    "    iter_num = 0\n",
    "    J = np.hstack((np.zeros((n_pts*3, 3)), J_t))\n",
    "    while np.linalg.norm(dx) > 1e-6 and iter_num < 100:\n",
    "        iter_num += 1\n",
    "\n",
    "        ### This part can be done in one loop: n_pts\n",
    "        T_pts = np.hstack((R0, t0)) @ np.vstack((pts_model_T, I3))\n",
    "        dr = (T_pts - pts_target_T).T.ravel()                  \n",
    "        \n",
    "        for k in range(n_pts):\n",
    "            J[(k*3):(k*3+3), :3] = -R0 @ skew(pts_model[k, :])\n",
    "            \n",
    "        Jr = J.T @ dr\n",
    "        ###\n",
    "        \n",
    "        # in general J.T @ J is n_pts*6*n_pts \n",
    "        # but the result is symmetric matrix so we need just the half\n",
    "        dx = np.linalg.solve(-J.T @ J, Jr)                     \n",
    "        \n",
    "        R0 = R0 @ Exp_(dx[:3])                                 # some constant                   \n",
    "        t0 = t0 + dx[3:6].reshape(3, 1)                        # some constant\n",
    "    return R0, t0, J"
   ]
  },
  {
   "cell_type": "code",
   "execution_count": null,
   "id": "009f9d5f",
   "metadata": {},
   "outputs": [],
   "source": [
    "%%timeit -r 50 -n 10\n",
    "R0 = Exp_([0.0001, 0.0, 0.0])\n",
    "t0 = np.array([[0.0], [0.0], [0.0]])\n",
    "manifold_analytical_opt(R0, t0)"
   ]
  },
  {
   "cell_type": "markdown",
   "id": "97f1fb6b",
   "metadata": {},
   "source": [
    "Let's say something about the computation complexity:\n",
    "\n",
    "- solving linear equation system of 3x3 is some constant\n",
    "- number of $\\mathcal{O}(N^2)$ operation: C * 6\n",
    "- number of $\\mathcal{O}(N)$ operation: C * 1\n",
    "\n",
    "where C is the number of iterations $\\approx 5$.\n",
    "\n",
    "How could we further improve on this? \n",
    "\n",
    "1. $J^T J$ results in a symmetric matrix, so we can just compute the half of the normal matrix.\n",
    "2. The translation blocks of $J^T J$ is always the same since that block is constant, that's 3 paramters out of 6, so we don't need to compute 1/4th of the matrix."
   ]
  },
  {
   "cell_type": "code",
   "execution_count": null,
   "id": "99b13887",
   "metadata": {},
   "outputs": [],
   "source": [
    "complexity_kabsch = lambda n: 3*n**2 + 2*n\n",
    "complexity_manif = lambda n, c: c*(6*n**2/2 - 6*n**2/2/4 + n)\n",
    "complexity_manif_R = lambda n, c: c*(3*n**2/2 + n) + n\n",
    "n_pts_comp = np.arange(0, 10, 1)\n",
    "\n",
    "plt.figure(figsize=(6,5))\n",
    "plt.plot(n_pts_comp, complexity_manif(n_pts_comp, 1), 'b-', label='opt. 1 iter')\n",
    "plt.plot(n_pts_comp, complexity_manif(n_pts_comp, 2), 'b--', label='opt. 2 iter')\n",
    "plt.plot(n_pts_comp, complexity_manif(n_pts_comp, 5), 'b:', label='opt. 5 iter')\n",
    "plt.plot(n_pts_comp, complexity_manif_R(n_pts_comp, 1), 'g-', label='opt. only rotation 1 iter')\n",
    "plt.plot(n_pts_comp, complexity_manif_R(n_pts_comp, 2), 'g--', label='opt. only rotation 2 iter')\n",
    "plt.plot(n_pts_comp, complexity_manif_R(n_pts_comp, 5), 'g:', label='opt. only rotation 5 iter')\n",
    "plt.plot(n_pts_comp, complexity_kabsch(n_pts_comp), 'k-', label='kabsch')\n",
    "plt.legend()"
   ]
  },
  {
   "cell_type": "code",
   "execution_count": null,
   "id": "0535af90",
   "metadata": {},
   "outputs": [],
   "source": []
  }
 ],
 "metadata": {
  "kernelspec": {
   "display_name": "Python 3 (ipykernel)",
   "language": "python",
   "name": "python3"
  },
  "language_info": {
   "codemirror_mode": {
    "name": "ipython",
    "version": 3
   },
   "file_extension": ".py",
   "mimetype": "text/x-python",
   "name": "python",
   "nbconvert_exporter": "python",
   "pygments_lexer": "ipython3",
   "version": "3.8.10"
  },
  "vscode": {
   "interpreter": {
    "hash": "ae9bfb930772c80361ddf2eb7ab151ddbaf933bf8a1796aa5cfab40e313f343d"
   }
  }
 },
 "nbformat": 4,
 "nbformat_minor": 5
}
