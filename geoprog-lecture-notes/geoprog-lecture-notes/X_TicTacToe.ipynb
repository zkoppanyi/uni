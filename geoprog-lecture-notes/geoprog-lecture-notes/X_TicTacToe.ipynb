{
 "cells": [
  {
   "cell_type": "markdown",
   "id": "c66db9db-f10a-4928-bdbd-5983cc2f75f3",
   "metadata": {
    "tags": [],
    "user_expressions": []
   },
   "source": [
    "# A *Tic tac toe* program"
   ]
  },
  {
   "cell_type": "code",
   "execution_count": null,
   "id": "69126378-2232-410d-b41f-038510b15109",
   "metadata": {
    "id": "2Cf871Ekzn7R"
   },
   "outputs": [],
   "source": [
    "def create_board():\n",
    "  return [[' ', ' ', ' '], [' ', ' ', ' '], [' ', ' ', ' ']]"
   ]
  },
  {
   "cell_type": "code",
   "execution_count": null,
   "id": "d0461827-8cb6-410e-9289-eefea9ba6c5b",
   "metadata": {
    "id": "wLVPOjrJzrA8"
   },
   "outputs": [],
   "source": [
    "def display_board(board):\n",
    "  board_str = \"\"\n",
    "  for i in range(0, 3):\n",
    "    board_str += ' '\n",
    "    for j in range(0, 3):\n",
    "      board_str += str(board[i][j])\n",
    "      if j != 2:\n",
    "        board_str += \" | \"      \n",
    "    board_str += '\\n'\n",
    "    if i != 2 :    \n",
    "      board_str += \"-----------\\n\"    \n",
    "  print(board_str)"
   ]
  },
  {
   "cell_type": "code",
   "execution_count": null,
   "id": "cb55609b-b343-4c99-8a27-01c73e05f669",
   "metadata": {
    "id": "UHH0YxHXzvIY"
   },
   "outputs": [],
   "source": [
    "def evaluate_board(board): \n",
    "\n",
    "    has_empty_cell = False\n",
    "    for i in range(0, 3):\n",
    "      for j in range(0, 3):\n",
    "        if board[i][j] ==  ' ':\n",
    "          has_empty_cell = True\n",
    "          break\n",
    "\n",
    "    if not has_empty_cell:\n",
    "      return 'Draw'\n",
    "\n",
    "    players = ['X', 'O']\n",
    "    for player in players:\n",
    "\n",
    "      # winning row wise\n",
    "      for i in range(0, 3):\n",
    "        is_winning = True\n",
    "        for j in range(0, 3):\n",
    "          is_winning = is_winning and board[i][j] == player\n",
    "        if is_winning:\n",
    "          return player\n",
    "\n",
    "      # winning column wise\n",
    "      for j in range(0, 3):\n",
    "        is_winning = True\n",
    "        for i in range(0, 3):\n",
    "          is_winning = is_winning and board[i][j] == player\n",
    "        if is_winning:\n",
    "          return player\n",
    "\n",
    "      # winning cross\n",
    "      if board[0][0] == player and board[1][1] == player and board[2][2] == player:\n",
    "        return player\n",
    "\n",
    "      if board[0][2] == player and board[1][1] == player and board[2][0] == player:\n",
    "        return player\n",
    "\n",
    "    return None"
   ]
  },
  {
   "cell_type": "code",
   "execution_count": null,
   "id": "3b525ca1-fb43-47f5-9a13-e296659e855e",
   "metadata": {
    "id": "ls_9wUJj0A45"
   },
   "outputs": [],
   "source": [
    "def tictactoe(strategy):\n",
    "  board = create_board()\n",
    "\n",
    "  while True:\n",
    "\n",
    "    display_board(board)\n",
    "\n",
    "    row = input(\"Row: \")\n",
    "    if row == 'q':\n",
    "      break\n",
    "\n",
    "    col = input(\"Column: \")\n",
    "    if col == 'q':\n",
    "      break\n",
    "\n",
    "    row = int(row)-1\n",
    "    col = int(col)-1\n",
    "\n",
    "    if board[row][col] == ' ':\n",
    "      board[row][col] = 'X'\n",
    "      #display_board(board)\n",
    "\n",
    "      result = evaluate_board(board)\n",
    "      if result:\n",
    "        display_board(board)\n",
    "        print('Winner: ', result)\n",
    "        break\n",
    "\n",
    "      # the machines turn...\n",
    "      best_row, best_col, best_score = strategy(board)\n",
    "      board[best_row][best_col] = 'O'\n",
    "\n",
    "      result = evaluate_board(board)\n",
    "      if result:\n",
    "        display_board(board)\n",
    "        print('Winner: ', result)\n",
    "        break    \n",
    "\n",
    "    else:\n",
    "      print('Cell is already taken! Try again...')      \n",
    "\n",
    "  print('Exited.')"
   ]
  },
  {
   "cell_type": "code",
   "execution_count": null,
   "id": "bd83da29-e40f-4f34-a8fa-2f9d2f45c5e0",
   "metadata": {
    "id": "4ZUSXpHTJISs"
   },
   "outputs": [],
   "source": [
    "def copy_board(board):\n",
    "  return [board[0].copy(), board[1].copy(), board[2].copy()]"
   ]
  },
  {
   "cell_type": "code",
   "execution_count": null,
   "id": "2e2bd131-a1fe-4edf-9efb-2c1f48d3ee22",
   "metadata": {
    "id": "kUBL1xlo8eGi"
   },
   "outputs": [],
   "source": [
    "def strategy_greedy(board): \n",
    "  best_i = None\n",
    "  best_j = None\n",
    "  for i in range(0, 3):\n",
    "    for j in range(0, 3):\n",
    "      if board[i][j] == ' ':\n",
    "        best_i = i\n",
    "        best_j = j\n",
    "\n",
    "        board_o = copy_board(board)              \n",
    "        board_o[i][j] = 'O'  \n",
    "        \n",
    "        result = evaluate_board(board_o)\n",
    "        if result is not None and result == 'O':\n",
    "            return i, j, None\n",
    "  return best_i, best_j, None"
   ]
  },
  {
   "cell_type": "code",
   "execution_count": null,
   "id": "f0f39f80-9deb-4b50-afe1-56c02ef099df",
   "metadata": {
    "cellView": "form",
    "colab": {
     "base_uri": "https://localhost:8080/"
    },
    "id": "qn7_0tIy8p7O",
    "outputId": "8f4aefb2-09b9-4aa2-cfe1-9a08e87d5ae8"
   },
   "outputs": [
    {
     "name": "stdout",
     "output_type": "stream",
     "text": [
      "   |   |  \n",
      "-----------\n",
      "   |   |  \n",
      "-----------\n",
      "   |   |  \n",
      "\n",
      "Row: 1\n",
      "Column: 2\n",
      "   | X |  \n",
      "-----------\n",
      "   |   |  \n",
      "-----------\n",
      "   |   | O\n",
      "\n",
      "Row: q\n",
      "Exited.\n"
     ]
    }
   ],
   "source": [
    "#@title\n",
    "tictactoe(strategy_greedy)"
   ]
  },
  {
   "cell_type": "code",
   "execution_count": null,
   "id": "2b289014-1a22-46d3-a5f9-721fdfdd29b3",
   "metadata": {
    "id": "FY9m5ObJ6Sg_"
   },
   "outputs": [],
   "source": [
    "def strategy_one_move(board): \n",
    "  best_i = None\n",
    "  best_j = None\n",
    "  best_score = float('-inf')\n",
    "  # play all possible computation with O and find the most favorable position\n",
    "  for i in range(0, 3):\n",
    "    for j in range(0, 3):\n",
    "      if board[i][j] == ' ':\n",
    "        board_o = copy_board(board)              \n",
    "        board_o[i][j] = 'O'  \n",
    "        \n",
    "        result = evaluate_board(board_o)\n",
    "        if result is not None and result == 'O':\n",
    "            return i, j, 1e6\n",
    "\n",
    "        # play all possible computation with X and compute the score\n",
    "        # the score gives us how favorable the position for O: how many\n",
    "        # winning chances are there and whether the position is lost. \n",
    "        score = 0\n",
    "        for k in range(0, 3):\n",
    "          for l in range(0, 3):\n",
    "            if board_o[k][l] == ' ':   \n",
    "              board_x = copy_board(board_o)            \n",
    "              board_x[k][l] = 'X'\n",
    "              result = evaluate_board(board_x)\n",
    "              if result is not None:\n",
    "                if (result == 'O'):\n",
    "                  score += 1\n",
    "                elif (result == 'Draw'):\n",
    "                  score += 0\n",
    "                elif (result == 'X'):\n",
    "                  score += -1e6\n",
    "        \n",
    "        print(i+1, j+1, score) \n",
    "\n",
    "        if score > best_score:\n",
    "          best_score = score\n",
    "          best_i = i\n",
    "          best_j = j\n",
    "\n",
    "  return best_i, best_j, best_score"
   ]
  },
  {
   "cell_type": "code",
   "execution_count": null,
   "id": "4d488c96-8aea-4480-8007-ff081fdefbaf",
   "metadata": {
    "colab": {
     "base_uri": "https://localhost:8080/"
    },
    "id": "0t8-Jb9E6Tj5",
    "outputId": "399baca2-e58b-41b3-a3df-ff7c4d3863e6"
   },
   "outputs": [
    {
     "name": "stdout",
     "output_type": "stream",
     "text": [
      "   |   |  \n",
      "-----------\n",
      "   |   |  \n",
      "-----------\n",
      "   |   |  \n",
      "\n",
      "Row: 3\n",
      "Column: 3\n",
      "1 1 0\n",
      "1 2 0\n",
      "1 3 0\n",
      "2 1 0\n",
      "2 2 0\n",
      "2 3 0\n",
      "3 1 0\n",
      "3 2 0\n",
      " O |   |  \n",
      "-----------\n",
      "   |   |  \n",
      "-----------\n",
      "   |   | X\n",
      "\n",
      "Row: 2\n",
      "Column: 2\n",
      "1 2 0\n",
      "1 3 0\n",
      "2 1 0\n",
      "2 3 0\n",
      "3 1 0\n",
      "3 2 0\n",
      " O | O |  \n",
      "-----------\n",
      "   | X |  \n",
      "-----------\n",
      "   |   | X\n",
      "\n",
      "Row: 1\n",
      "Column: 3\n",
      "2 1 -2000000.0\n",
      "2 3 -1000000.0\n",
      "3 1 -1000000.0\n",
      "3 2 -2000000.0\n",
      " O | O | X\n",
      "-----------\n",
      "   | X | O\n",
      "-----------\n",
      "   |   | X\n",
      "\n",
      "Row: 3\n",
      "Column: 1\n",
      " O | O | X\n",
      "-----------\n",
      "   | X | O\n",
      "-----------\n",
      " X |   | X\n",
      "\n",
      "Winner:  X\n",
      "Exited.\n"
     ]
    }
   ],
   "source": [
    "tictactoe(strategy_one_move) # play 3,3 -> 2,2 -> 1,3"
   ]
  },
  {
   "cell_type": "code",
   "execution_count": null,
   "id": "ada2ba16-9426-4c01-8135-c0030f0850f9",
   "metadata": {
    "id": "jaZttQOcEgaq"
   },
   "outputs": [],
   "source": [
    "def strategy_recursive(board, depth=0): \n",
    "\n",
    "  # 1. evaluate position and return if this is an end position\n",
    "  result = evaluate_board(board)\n",
    "  if result is not None:\n",
    "    if (result == 'O'):\n",
    "      return None, None, 1\n",
    "    elif (result == 'Draw'):\n",
    "      return None, None, 0      \n",
    "    elif (result == 'X'):\n",
    "      return None, None, -1e6\n",
    "\n",
    "  # 2. expand: play all possible computation with O\n",
    "  best_i = None\n",
    "  best_j = None\n",
    "  best_score = float('-inf')\n",
    "  for i in range(0, 3):\n",
    "    for j in range(0, 3):\n",
    "      if board[i][j] == ' ':\n",
    "        board_o = copy_board(board)              \n",
    "        board_o[i][j] = 'O'  \n",
    "        \n",
    "        result = evaluate_board(board_o)\n",
    "        if result is not None and result == 'O':\n",
    "            return i, j, 1\n",
    "\n",
    "        # play all possible computation with X and compute the score\n",
    "        # the score gives us how favorable the position for O: how many\n",
    "        # winning chances are there and whether the position is lost. \n",
    "        score = 0\n",
    "        for k in range(0, 3):\n",
    "          for l in range(0, 3):\n",
    "            if board_o[k][l] == ' ':   \n",
    "              board_x = copy_board(board_o)            \n",
    "              board_x[k][l] = 'X'\n",
    "\n",
    "              # Instead of this:\n",
    "              # result = evaluate_board(board_x)\n",
    "\n",
    "              # recursive call to get the score for the next possible moves\n",
    "              _, _, step_score = strategy_recursive(board_x, depth+1)\n",
    "              score += step_score\n",
    "\n",
    "        if depth == 0: # some analytics\n",
    "          print(i+1, j+1, score)  \n",
    "\n",
    "        if score > best_score:\n",
    "          best_score = score\n",
    "          best_i = i\n",
    "          best_j = j\n",
    "\n",
    "  return best_i, best_j, best_score"
   ]
  },
  {
   "cell_type": "code",
   "execution_count": null,
   "id": "692aaf95-c9b3-4bc7-ab50-06a0a58a3ee6",
   "metadata": {
    "colab": {
     "base_uri": "https://localhost:8080/"
    },
    "id": "EJ7oGVAqf17T",
    "outputId": "21eda003-1a48-4794-929c-758b6e613212"
   },
   "outputs": [
    {
     "name": "stdout",
     "output_type": "stream",
     "text": [
      "   |   |  \n",
      "-----------\n",
      "   |   |  \n",
      "-----------\n",
      "   |   |  \n",
      "\n",
      "Row: q\n",
      "Exited.\n"
     ]
    }
   ],
   "source": [
    "tictactoe(strategy_recursive)"
   ]
  },
  {
   "cell_type": "code",
   "execution_count": null,
   "id": "6d87f239-77b4-4d0e-877b-915bcb77aba3",
   "metadata": {
    "colab": {
     "base_uri": "https://localhost:8080/"
    },
    "id": "tIyPDhzi0eXT",
    "jupyter": {
     "source_hidden": true
    },
    "outputId": "f5e77754-d47e-45cc-b255-ecfe7867e4f7",
    "tags": []
   },
   "outputs": [
    {
     "data": {
      "text/plain": [
       "2"
      ]
     },
     "execution_count": 169,
     "metadata": {},
     "output_type": "execute_result"
    }
   ],
   "source": [
    "2\n"
   ]
  }
 ],
 "metadata": {
  "kernelspec": {
   "display_name": "Python 3 (ipykernel)",
   "language": "python",
   "name": "python3"
  },
  "language_info": {
   "codemirror_mode": {
    "name": "ipython",
    "version": 3
   },
   "file_extension": ".py",
   "mimetype": "text/x-python",
   "name": "python",
   "nbconvert_exporter": "python",
   "pygments_lexer": "ipython3",
   "version": "3.8.10"
  }
 },
 "nbformat": 4,
 "nbformat_minor": 5
}
