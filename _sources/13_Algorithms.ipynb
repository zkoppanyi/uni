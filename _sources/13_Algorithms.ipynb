{
 "cells": [
  {
   "cell_type": "markdown",
   "id": "190ad929-1b59-45d5-8172-6d0ae60bf169",
   "metadata": {},
   "source": [
    "# Algoritmusok"
   ]
  },
  {
   "cell_type": "markdown",
   "id": "7e6ebb4b-9ae2-42f9-9296-0b86f1e8eef0",
   "metadata": {},
   "source": [
    "## A `for` vezérlési szerkezet"
   ]
  },
  {
   "cell_type": "markdown",
   "id": "8adc3827-9d0d-42d6-b0a2-a9e9a06536c5",
   "metadata": {},
   "source": [
    "A `for` egy vezérlési szerkezet melynek segtségével egy kollekció (mint például lista vagy `tuple`) elemeit járhatjuk be. A ciklus a ciklus törzsét hajtja végre, oly módon hogy az egyes iterációkban a ciklus változó a kollekció következő elemét veszi fel. Nézzük meg a következő példát:"
   ]
  },
  {
   "cell_type": "code",
   "execution_count": 52,
   "id": "0fb2835b-0f0e-482a-ae42-899c5547d0be",
   "metadata": {},
   "outputs": [
    {
     "name": "stdout",
     "output_type": "stream",
     "text": [
      "apple\n",
      "banana\n",
      "cherry\n"
     ]
    }
   ],
   "source": [
    "fruits = [\"apple\", \"banana\", \"cherry\"]\n",
    "for fruit in fruits:\n",
    "  print(fruit)"
   ]
  },
  {
   "cell_type": "markdown",
   "id": "70946d8d-cd33-4e4b-87b6-7890d814c4d5",
   "metadata": {},
   "source": [
    "```{admonition} Feladat\n",
    ":class: Important\n",
    "Azonosítsuk a `for` ciklus elemeit:\n",
    "- a ciklus változót,\n",
    "- a kollekciót amit bejárunk, és\n",
    "- a ciklus törzsét."
   ]
  },
  {
   "cell_type": "markdown",
   "id": "5ca1d41e-96ed-4b79-b121-7811a12461f0",
   "metadata": {},
   "source": [
    "Lehetőség van egy számtartományon is végig haladni. A ciklus változója a tartományon végighaladva felveszi a tartomány egyes elemeinek az értékét. Nézzük meg a szintaxist:"
   ]
  },
  {
   "cell_type": "code",
   "execution_count": 53,
   "id": "73db40b4-6156-486d-a0ff-f9f0d077f2ec",
   "metadata": {},
   "outputs": [
    {
     "name": "stdout",
     "output_type": "stream",
     "text": [
      "1\n",
      "2\n",
      "3\n",
      "4\n",
      "5\n",
      "6\n",
      "7\n",
      "8\n",
      "9\n"
     ]
    }
   ],
   "source": [
    "for i in range(1, 10):\n",
    "  print(i)"
   ]
  },
  {
   "cell_type": "markdown",
   "id": "d6455a6c-51bb-4aa4-9b52-61a69121dd8c",
   "metadata": {},
   "source": [
    "A `range` függvény egy `range` típust ad vissza, ami egy tartományt definiál:"
   ]
  },
  {
   "cell_type": "code",
   "execution_count": 54,
   "id": "ab1a460b-0645-4f6a-9560-29be8ea89dfe",
   "metadata": {},
   "outputs": [
    {
     "name": "stdout",
     "output_type": "stream",
     "text": [
      "range(1, 10)\n",
      "<class 'range'>\n"
     ]
    }
   ],
   "source": [
    "print(range(1, 10))\n",
    "print(type(range(1, 10)))"
   ]
  },
  {
   "cell_type": "markdown",
   "id": "17ceb326-f275-4b2e-8eed-f3e1d5cfa2fe",
   "metadata": {},
   "source": [
    "Írjuk ki ennek a tartománynak az elemeit. Hogy ezt megtegyük, a `range` típust át kell konvertálnunk listává:"
   ]
  },
  {
   "cell_type": "code",
   "execution_count": 55,
   "id": "8bc78fec-44ae-427a-8f5a-8c5460f0c3c0",
   "metadata": {},
   "outputs": [
    {
     "name": "stdout",
     "output_type": "stream",
     "text": [
      "[1, 2, 3, 4, 5, 6, 7, 8, 9]\n"
     ]
    }
   ],
   "source": [
    "print(list(range(1, 10)))"
   ]
  },
  {
   "cell_type": "markdown",
   "id": "7fd6308e-2c40-40b0-bf65-254f0f286612",
   "metadata": {},
   "source": [
    "A `for` ciklus ciklus változója ezen lista elemeit fogja bejárni. Vegyük észre, hogy a a `range` első paramétere a tartomány kezdő értéke, a második paramétere pedig a tartomány határa, amibe a határ értéke nem szerepel. Matematkai kifejezésekkel a `range(a, b)` a `[a,b)` tartományt adja meg."
   ]
  },
  {
   "cell_type": "markdown",
   "id": "b83e66f4-80aa-4858-90f8-5944d4328fd3",
   "metadata": {},
   "source": [
    "Ha csak egy számot adunk meg a `range` függvényen belül, akkor a tartomány kezdő értéke a 0, és a tartomány utolsó értéke (nem beleértve azt) a megadott szám:"
   ]
  },
  {
   "cell_type": "code",
   "execution_count": 56,
   "id": "6038c86e-720e-46ad-8c4e-5ad05034c05e",
   "metadata": {},
   "outputs": [
    {
     "name": "stdout",
     "output_type": "stream",
     "text": [
      "[0, 1, 2, 3, 4, 5, 6, 7, 8, 9]\n"
     ]
    }
   ],
   "source": [
    "print(list(range(10)))"
   ]
  },
  {
   "cell_type": "markdown",
   "id": "2c56e031-a34e-4192-863b-b433a71ec4aa",
   "metadata": {},
   "source": [
    "Lehetőségünk van minden n-edik elem kírására, a `range` függvény harmadik paraméterén keresztül. A következő példában 1-től 10-ig definiálunk egy tartományt 2 lépésközzel."
   ]
  },
  {
   "cell_type": "code",
   "execution_count": 57,
   "id": "624f0ef4-d5fa-4a0b-956d-ff2ee5fe0848",
   "metadata": {},
   "outputs": [
    {
     "name": "stdout",
     "output_type": "stream",
     "text": [
      "[1, 3, 5, 7, 9]\n"
     ]
    }
   ],
   "source": [
    "print(list(range(1, 10, 2)))"
   ]
  },
  {
   "cell_type": "markdown",
   "id": "ad695b4c-5621-439a-94fc-da3891dd71bd",
   "metadata": {},
   "source": [
    "A ciklusok egymásba ágyazhatóak. Például, írjunk egy függvényt, amely kiírja 1-9-ig a számokat egy mátrixba rendezve."
   ]
  },
  {
   "cell_type": "code",
   "execution_count": 58,
   "id": "b2d2dfa6-46a7-414a-ad33-298b0a49d1fc",
   "metadata": {},
   "outputs": [
    {
     "name": "stdout",
     "output_type": "stream",
     "text": [
      "1 2 3 \n",
      "4 5 6 \n",
      "7 8 9 \n",
      "\n"
     ]
    }
   ],
   "source": [
    "matrix_str = ''\n",
    "n = 0\n",
    "for i in range(0, 3):\n",
    "  for j in range(0, 3):\n",
    "    n += 1\n",
    "    matrix_str += str(n) + ' ' # adjuk meg az i, j, n és matrix_str értékeit az egyes iterációkban ezen sor után\n",
    "  matrix_str += '\\n'           # '\\n' a sortörés jele\n",
    "print(matrix_str)"
   ]
  },
  {
   "cell_type": "markdown",
   "id": "8b7f51aa-5df8-4665-986a-ac6a4da1a0e1",
   "metadata": {},
   "source": [
    "```{admonition} Feladat\n",
    ":class: Important\n",
    "Elemezzük a fenti kódot:\n",
    "- Mik a `for` ciklusok blokkjainak (törzseinek) a határai?\n",
    "- Kövessük végig hogyan alakulnak az `i`, `j`, `n` és `matrix_str` változó értékeit az egyes iterációkban!"
   ]
  },
  {
   "cell_type": "markdown",
   "id": "cea7eabd-4a57-4b5c-aa2c-c5bf434af087",
   "metadata": {},
   "source": [
    "```{admonition} Tipp\n",
    ":class: hint\n",
    "A fenti feladat megoldásunk helyességét ellenőrízhejtük ha kiírjuk az egyes változók értékeit a cikluson belül:\n",
    "\n",
    "```python\n",
    "matrix_str = ''\n",
    "n = 0\n",
    "for i in range(0, 3):\n",
    "  for j in range(0, 3):\n",
    "    n += 1\n",
    "    matrix_str += str(n) + ' '\n",
    "    print('i=', i, 'j=', j, 'n=', n)\n",
    "    print(matrix_str)\n",
    "    print('')\n",
    "  matrix_str += '\\n'"
   ]
  },
  {
   "cell_type": "markdown",
   "id": "0282e7d7-09ed-4ae1-ad5a-8c2a9ed51c5a",
   "metadata": {},
   "source": [
    "### Iterálás listán"
   ]
  },
  {
   "cell_type": "markdown",
   "id": "62b7a9be-a00f-441c-82ef-5e71f62e296e",
   "metadata": {},
   "source": [
    "Mivel egy lista indexszelhető, ezért a listán úgy is végig tudunk haladni, hogy 0-tól a lista hosszáig indexszeljük:"
   ]
  },
  {
   "cell_type": "code",
   "execution_count": 59,
   "id": "9e0a63e6-5371-431e-a656-389ba8a07d5a",
   "metadata": {},
   "outputs": [
    {
     "name": "stdout",
     "output_type": "stream",
     "text": [
      "0 apple\n",
      "1 banana\n",
      "2 cherry\n"
     ]
    }
   ],
   "source": [
    "fruits = [\"apple\", \"banana\", \"cherry\"]\n",
    "for idx in range(0, len(fruits)):\n",
    "  print(idx, fruits[idx])"
   ]
  },
  {
   "cell_type": "markdown",
   "id": "c8d49153-93bb-4610-b038-3aa6d5888550",
   "metadata": {},
   "source": [
    "Vegyük észre, hogy a fenti kódban bemutatott megoldás sokkal komplikáltabb, mint amit az első példában bemutattunk. Akkor miért is lehet rá szükségünk? Az első példában a teljes listán kell végig mennünk; nincs lehetőségünk csak egy részén végigmenni, például a második elemtől kezdve végighaladni a listán. Továbbá, gyakran nem csak az elem értéke fontos számunkra, de az indexsze is, például, amikor egy másik listából akarunk az index alapján értéket kivenni, ahogy azt az alábbi példa is szemlélteti:"
   ]
  },
  {
   "cell_type": "code",
   "execution_count": 60,
   "id": "1ba34e57-3c86-415d-821b-05807461f85a",
   "metadata": {},
   "outputs": [
    {
     "name": "stdout",
     "output_type": "stream",
     "text": [
      "Price of apple is  150\n",
      "Price of banana is  400\n",
      "Price of cherry is  600\n"
     ]
    }
   ],
   "source": [
    "fruits = [\"apple\", \"banana\", \"cherry\"]\n",
    "price = [150, 400, 600]\n",
    "for idx in range(0, len(fruits)):\n",
    "  print('Price of ' + fruits[idx] + \" is \", price[idx])"
   ]
  },
  {
   "cell_type": "markdown",
   "id": "da3b96d2-6ef2-4a7a-b701-ee2bd6b88812",
   "metadata": {},
   "source": [
    "A fenti kódhoz hasonló problémákkal, algoritmusokkal gyarkan találkozhatunk, ezért a Python egyszerűsítést ad a kezünkbe az `enumerate` függvény formájában:"
   ]
  },
  {
   "cell_type": "code",
   "execution_count": 61,
   "id": "ceffd5db-a46f-4742-b10b-bb10d836b299",
   "metadata": {},
   "outputs": [
    {
     "name": "stdout",
     "output_type": "stream",
     "text": [
      "Price of apple is  150\n",
      "Price of banana is  400\n",
      "Price of cherry is  600\n"
     ]
    }
   ],
   "source": [
    "fruits = [\"apple\", \"banana\", \"cherry\"]\n",
    "price = [150, 400, 600]\n",
    "for idx, fruit in enumerate(fruits):\n",
    "  print('Price of ' + fruit + \" is \", price[idx])"
   ]
  },
  {
   "cell_type": "markdown",
   "id": "d1df73b0-28bd-4a19-8ec9-c265edc83f53",
   "metadata": {},
   "source": [
    "Vegyük észre, hogy a fenti kódban két ciklus változónk van: az `idx` és a `fruit`. Az `fruit` az éppen aktuális ciklusban felvett elemet jelöli, míg az `idx` annak típusát. Nézzük meg közelebről, mit ad vissza az `enumerate` függvény ha listává alakítjuk:"
   ]
  },
  {
   "cell_type": "code",
   "execution_count": 62,
   "id": "44db7be0-f839-4f14-940e-eb6f5a6c0a42",
   "metadata": {},
   "outputs": [
    {
     "name": "stdout",
     "output_type": "stream",
     "text": [
      "[(0, 'apple'), (1, 'banana'), (2, 'cherry')]\n"
     ]
    }
   ],
   "source": [
    "print(list(enumerate(fruits)))"
   ]
  },
  {
   "cell_type": "markdown",
   "id": "a764da1b-a40b-42ed-9c2c-2dc3d5f7f0f2",
   "metadata": {},
   "source": [
    "Látható, hogy az eredmény `tuple`-k listája, ahol a `tuple`-k az indexszet és az elemet tárolják. Ezt egyébként láthatjuk is, ha nem oldjuk fel a `tuple`-t a ciklusváltozókkal:"
   ]
  },
  {
   "cell_type": "code",
   "execution_count": 63,
   "id": "ec994dd4-20fa-43c7-b871-652b8e9c7605",
   "metadata": {},
   "outputs": [
    {
     "name": "stdout",
     "output_type": "stream",
     "text": [
      "(0, 'apple')\n",
      "(1, 'banana')\n",
      "(2, 'cherry')\n"
     ]
    }
   ],
   "source": [
    "fruits = [\"apple\", \"banana\", \"cherry\"]\n",
    "for t in enumerate(fruits):\n",
    "  print(t)"
   ]
  },
  {
   "cell_type": "markdown",
   "id": "5c2481ba-e447-44d1-b049-7d5616fbeb94",
   "metadata": {},
   "source": [
    "### Iterálás szótáron"
   ]
  },
  {
   "cell_type": "markdown",
   "id": "254c89b8-0416-4899-91c3-b54335ce493d",
   "metadata": {},
   "source": [
    "A szótár nem hagyományos értelemben vett kollekció, így önmagában nem bejárható. Azonban szükségünk lehet a szótárban tárolt értékek bejárására. Mivel a szótár értékei megkapható oly módon, hogy kiírjuk az összes kulcshoz tartozó értéket, így elegendő ha ismerjük szótár kulcsait. Ez megkapható a `keys()` függvény hívásával:"
   ]
  },
  {
   "cell_type": "code",
   "execution_count": 64,
   "id": "b56ac6be-7cb2-45f5-aa4e-316567863974",
   "metadata": {},
   "outputs": [
    {
     "name": "stdout",
     "output_type": "stream",
     "text": [
      "dict_keys(['brand', 'model', 'year'])\n"
     ]
    }
   ],
   "source": [
    "car = {\n",
    "  \"brand\": \"Ford\",\n",
    "  \"model\": \"Mustang\",\n",
    "  \"year\": 1964,\n",
    "}\n",
    "\n",
    "print(car.keys())"
   ]
  },
  {
   "cell_type": "markdown",
   "id": "25957326-acb6-4f40-99fa-d657e0c381fc",
   "metadata": {},
   "source": [
    "Ezek után a szótárban lévő értékek a következőek:"
   ]
  },
  {
   "cell_type": "code",
   "execution_count": 65,
   "id": "60113945-a306-4673-9165-1828f10a424c",
   "metadata": {},
   "outputs": [
    {
     "name": "stdout",
     "output_type": "stream",
     "text": [
      "Ford\n",
      "Mustang\n",
      "1964\n"
     ]
    }
   ],
   "source": [
    "for k in car.keys():\n",
    "    print(car[k])"
   ]
  },
  {
   "cell_type": "markdown",
   "id": "3dbd4674-4ec0-43b1-9fbc-0f875b96c77b",
   "metadata": {},
   "source": [
    "Iterálás a kulcs-érték párokon gyakori probléma, ezért a fenti kifejezés egyszerűsíthető, vagy legalábbis szebben nézz ki, ha az `items()` függvényt használjuk"
   ]
  },
  {
   "cell_type": "code",
   "execution_count": 68,
   "id": "97924c2d-825a-40df-a7cf-437ff88458a7",
   "metadata": {},
   "outputs": [
    {
     "name": "stdout",
     "output_type": "stream",
     "text": [
      "brand Ford\n",
      "model Mustang\n",
      "year 1964\n"
     ]
    }
   ],
   "source": [
    "for k, v in car.items():\n",
    "    print(k, v)"
   ]
  },
  {
   "cell_type": "markdown",
   "id": "6ccb8c2a-a106-4276-ba17-3c64aa7fd5de",
   "metadata": {},
   "source": [
    "Az `items()` függvény visszatérési értéke `tuple`-k listájaként értelmezhető:"
   ]
  },
  {
   "cell_type": "code",
   "execution_count": 67,
   "id": "f38d9750-bdf1-4c79-8b23-924f7665bd84",
   "metadata": {},
   "outputs": [
    {
     "name": "stdout",
     "output_type": "stream",
     "text": [
      "[('brand', 'Ford'), ('model', 'Mustang'), ('year', 1964)]\n"
     ]
    }
   ],
   "source": [
    "print(list(car.items()))"
   ]
  },
  {
   "cell_type": "markdown",
   "id": "225cf4e0-f7fb-4f6a-b188-8cbce7d60108",
   "metadata": {},
   "source": [
    "## A `while` vezérlési szerkezet"
   ]
  },
  {
   "cell_type": "code",
   "execution_count": 2,
   "id": "987fd907-3f4b-4140-b881-b79649b6694d",
   "metadata": {},
   "outputs": [
    {
     "name": "stdout",
     "output_type": "stream",
     "text": [
      "0\n",
      "1\n",
      "2\n",
      "3\n",
      "4\n",
      "5\n",
      "6\n",
      "7\n",
      "8\n",
      "9\n"
     ]
    }
   ],
   "source": [
    "i = 0\n",
    "n = 10\n",
    "while i < n:\n",
    "  print(i)\n",
    "  i += 1"
   ]
  },
  {
   "cell_type": "markdown",
   "id": "f5bc6a2c-cff8-4492-ab49-be9e2c3e057e",
   "metadata": {},
   "source": [
    "A `while` szekezet általában fájlok olvasásakot hasznos, amikor a fájl teljes hosszát nem ismerjük a fájl megnyitásakor."
   ]
  },
  {
   "cell_type": "code",
   "execution_count": 3,
   "id": "74c48239-7f18-4743-b314-958dd49d7160",
   "metadata": {},
   "outputs": [
    {
     "name": "stdout",
     "output_type": "stream",
     "text": [
      "1\n",
      "2\n",
      "3\n",
      "4\n",
      "5\n",
      "6\n",
      "7\n",
      "8\n",
      "9\n",
      "10\n",
      "11\n"
     ]
    }
   ],
   "source": [
    "is_keep_going = True\n",
    "i = 0\n",
    "while is_keep_going:\n",
    "  i = i + 1\n",
    "  print(i)\n",
    "  if i > 10:\n",
    "    is_keep_going = False"
   ]
  },
  {
   "cell_type": "markdown",
   "id": "3e4e57fd-b217-42e7-8292-6123fe32f328",
   "metadata": {},
   "source": [
    "```{admonition} Figyelem\n",
    ":class: warning\n",
    "A `while` esetén könnyen végtelen ciklust kaphatunk, nézzük meg és próbáljuk ki az alábbi kódot. Végtelen ciklus esetén a program kód soha nem áll le, ezért kézzel kell leállítani a futást. A futást cella oldalsó részében ⏹ gombra kattintva tudjuk megállítani.\n",
    "\n",
    "```python\n",
    "i = 1\n",
    "while i > 0:\n",
    "  i = i + 1 "
   ]
  },
  {
   "cell_type": "markdown",
   "id": "b5faf03a-e9b1-489c-baca-c680e604c0af",
   "metadata": {},
   "source": [
    "## A `break` parancs"
   ]
  },
  {
   "cell_type": "markdown",
   "id": "a7c9a541-7f94-45df-80b2-df89b1eb76e0",
   "metadata": {},
   "source": [
    "```{admonition} Figyelem\n",
    ":class: warning\n",
    "Ez a rész még hiányos!\n",
    "```"
   ]
  },
  {
   "cell_type": "markdown",
   "id": "2909e28a-7e6f-4791-b1db-dcec407629f6",
   "metadata": {},
   "source": [
    "A fenti példában az `is_keep_going` helyett alkamzhatjuk a `break` parancsot:"
   ]
  },
  {
   "cell_type": "code",
   "execution_count": 5,
   "id": "5d232a73-f73a-4801-be91-be5ab6c37f83",
   "metadata": {},
   "outputs": [
    {
     "name": "stdout",
     "output_type": "stream",
     "text": [
      "1\n",
      "2\n",
      "3\n",
      "4\n",
      "5\n",
      "6\n",
      "7\n",
      "8\n",
      "9\n",
      "10\n",
      "11\n"
     ]
    }
   ],
   "source": [
    "i = 0\n",
    "while True:\n",
    "  i = i + 1\n",
    "  print(i)\n",
    "  if i > 10:\n",
    "    break"
   ]
  },
  {
   "cell_type": "markdown",
   "id": "a0dda358-b8d6-4ed7-8d03-84cc70252722",
   "metadata": {},
   "source": [
    "```{admonition} Feladat\n",
    ":class: Important\n",
    "Írjuk meg a tic-tac-toe játékunk sor/oszlop bekérőjét `while`, `if` szerkezetek és a `break` parancs segítségével!\n",
    "\n",
    "```python\n",
    "while True:\n",
    "\n",
    "    row = input(\"Row: \")\n",
    "    if row == 'q':\n",
    "      break\n",
    "\n",
    "    col = input(\"Column: \")\n",
    "    if col == 'q':\n",
    "      break"
   ]
  },
  {
   "cell_type": "markdown",
   "id": "4783b1f1-287b-4a6f-bef3-7e7604c818c8",
   "metadata": {},
   "source": [
    "## Programozási tételek"
   ]
  },
  {
   "cell_type": "markdown",
   "id": "687362bc-02d7-429a-9c37-a6ec839ddb18",
   "metadata": {},
   "source": [
    "Programozáskor gyakran egyes problémák nagyon hasonlóak. Az algoritmikus képességek fejlesztése érdekében érdemes néhány jól definiált algoritmust megtanulni, melyeket ezután kis átalakítással más problémákra tudunk alkalmazni. Ezen általános algoritmusokat hívjuk programozási tételeknek, a folyamatot, melynek során egy tételt alkalmazzunk az adott problémára program transzformációnak nevezzük."
   ]
  },
  {
   "cell_type": "markdown",
   "id": "1733c778-d007-414b-bcb1-a78d9f1a039b",
   "metadata": {},
   "source": [
    "### Az összegzés"
   ]
  },
  {
   "cell_type": "markdown",
   "id": "a2564a31-b031-4b28-8e05-c3d7bb3dc081",
   "metadata": {},
   "source": [
    "- **Feladat**: Adjust össze a számot a-tól b-ig.\n",
    "- **Bemenet**: A tartomány kezdő és vég értéke: a, b\n",
    "- **Kimenet**: A számok összege a bemenet alapján: s\n",
    "\n",
    "```python\n",
    "s = 0                     # Az összegzés változója\n",
    "for k in range(a, b):     # from, to a tartomány kezdő és záró eleme  \n",
    "    s += k                # Az összegzés változójához hozzáadjuk az épp aktuális elemet\n",
    "                          # A ciklus végén az s változó tartalmazza a számok összegét a és b között"
   ]
  },
  {
   "cell_type": "markdown",
   "id": "0c1d440e-400d-4a58-bb29-4b161cd801b2",
   "metadata": {},
   "source": [
    "Ezek után írjunk for ciklus ami összeadja a számokat 1-től 10-ig:"
   ]
  },
  {
   "cell_type": "code",
   "execution_count": null,
   "id": "75d9e8bf-f110-42d1-bd89-f3815030dc1b",
   "metadata": {},
   "outputs": [],
   "source": [
    "s = 0\n",
    "for k in range(1, 11):\n",
    "    s += k\n",
    "print(s)"
   ]
  },
  {
   "cell_type": "markdown",
   "id": "ba941647-3024-4113-a9f6-b4eb8aee8f1f",
   "metadata": {},
   "source": [
    "```{admonition} Feladat\n",
    ":class: Important\n",
    "Az összegzés programozási tételét használva, írjunk programot az alábbi problémák megoldására:\n",
    "- Adjuk össze a páros számokat 50-ig!\n",
    "- Írjunk egy ciklust amely kiszámítja a 8 faktoriálisát!\n",
    "- Írjunk függvényt amely a sin függvény Taylor közelítését adja meg 3-ik fokszámig!\n",
    "- Füzzük egy karakterlánccá a számokat 0-tól 10-ig! (eredmény: `\"1, 2, 3, 4, 5, 6, 7, 8, 9, 10\"`)\n",
    "```"
   ]
  },
  {
   "cell_type": "markdown",
   "id": "6ad2a126-a78b-43c4-8dd0-4c0de961a5a3",
   "metadata": {},
   "source": [
    "### A megszámlálás"
   ]
  },
  {
   "cell_type": "markdown",
   "id": "3884b270-060c-4e60-bc8f-a6d2fdc966fe",
   "metadata": {},
   "source": [
    "```{admonition} Figyelem\n",
    ":class: warning\n",
    "Ez a rész még hiányos!\n",
    "```"
   ]
  },
  {
   "cell_type": "code",
   "execution_count": 39,
   "id": "74cbe3c0-92f1-4db5-89ac-539741445df6",
   "metadata": {},
   "outputs": [
    {
     "name": "stdout",
     "output_type": "stream",
     "text": [
      "[1, 3]\n"
     ]
    }
   ],
   "source": [
    "l = [5, 10, 8, 10, 2]\n",
    "v = 10\n",
    "indeces = []\n",
    "found_idx = None\n",
    "for idx, elem in enumerate(l):\n",
    "  if (elem == v):   \n",
    "    indeces.append(idx)\n",
    "    \n",
    "print(indeces)"
   ]
  },
  {
   "cell_type": "markdown",
   "id": "b513a90a-0cd9-404b-ae31-2d4c00fd5478",
   "metadata": {},
   "source": [
    "### Az eldöntés"
   ]
  },
  {
   "cell_type": "markdown",
   "id": "fbee8778-b678-481b-90c0-c68634003590",
   "metadata": {},
   "source": [
    "- **Feladat**: Döntsük el, hogy egy adott v elem benne van-e a listában.\n",
    "- **Bemenet**: A `v` elem és az `l` lista.\n",
    "- **Kimenet**: Igaz érték, ha a `v` elem benne van a listában, és hamis különben.\n",
    "\n",
    "```python\n",
    "found = False\n",
    "for elem in l:\n",
    "  if elem == v:\n",
    "    found = True\n",
    "    break"
   ]
  },
  {
   "cell_type": "code",
   "execution_count": 28,
   "id": "55f07322-8912-4fd8-887f-c69b2a9cd604",
   "metadata": {},
   "outputs": [
    {
     "name": "stdout",
     "output_type": "stream",
     "text": [
      "Eredmény: False\n"
     ]
    }
   ],
   "source": [
    "# Bemenetek:\n",
    "l = [10, 5, 8, 10, 2]\n",
    "v = -6\n",
    "\n",
    "# Algoritmus:\n",
    "found = False\n",
    "for elem in l:\n",
    "  if elem == v:\n",
    "    found = True\n",
    "    break\n",
    "      \n",
    "print('Eredmény:', found)"
   ]
  },
  {
   "cell_type": "markdown",
   "id": "fac79ca4-934c-4c23-aea3-8432e35cb4cc",
   "metadata": {},
   "source": [
    "A megoldás elegánsan megadható `while` ciklussal is:\n",
    "\n",
    "```python\n",
    "k = 0\n",
    "while k < len(l):\n",
    "  if l[k] == v:\n",
    "    break\n",
    "  k += 1\n",
    "found = k != len(l)"
   ]
  },
  {
   "cell_type": "code",
   "execution_count": 29,
   "id": "03e38f9a-462d-444d-b36a-0486a0c394ac",
   "metadata": {},
   "outputs": [
    {
     "name": "stdout",
     "output_type": "stream",
     "text": [
      "Eredmény: False\n"
     ]
    }
   ],
   "source": [
    "l = [10, 5, 8, 10, 2]\n",
    "v = -6\n",
    "\n",
    "k = 0\n",
    "while k < len(l):\n",
    "  if l[k] == v:\n",
    "    break\n",
    "  k += 1\n",
    "found = k != len(l)\n",
    "\n",
    "print('Eredmény:', found)"
   ]
  },
  {
   "cell_type": "markdown",
   "id": "96030712-5782-431f-a4a8-37d1df8dc594",
   "metadata": {},
   "source": [
    "Ez Pythonban leegyszerűsödik erre a kifejezésre:"
   ]
  },
  {
   "cell_type": "code",
   "execution_count": 30,
   "id": "406b77ac-4076-43f1-9c51-66c00573c741",
   "metadata": {},
   "outputs": [
    {
     "name": "stdout",
     "output_type": "stream",
     "text": [
      "Eredmény: False\n"
     ]
    }
   ],
   "source": [
    "l = [10, 5, 8, 10, 2]\n",
    "v = -6\n",
    "\n",
    "found = (v in l)\n",
    "print('Eredmény:', found)"
   ]
  },
  {
   "cell_type": "markdown",
   "id": "835704b6-542a-46fd-9326-ac343a3fc46c",
   "metadata": {},
   "source": [
    "### Kiválasztás"
   ]
  },
  {
   "cell_type": "markdown",
   "id": "552eaa92-6173-496b-9757-26be67c8d57c",
   "metadata": {},
   "source": [
    "```{admonition} Figyelem\n",
    ":class: warning\n",
    "Ez a rész még hiányos!\n",
    "```"
   ]
  },
  {
   "cell_type": "code",
   "execution_count": 41,
   "id": "234f4722-49d9-4fb6-a34b-6acb06830b5a",
   "metadata": {},
   "outputs": [
    {
     "name": "stdout",
     "output_type": "stream",
     "text": [
      "1\n"
     ]
    }
   ],
   "source": [
    "l = [5, 10, 8, 10, 2]\n",
    "print(l.index(10))"
   ]
  },
  {
   "cell_type": "markdown",
   "id": "aab11159-46a4-499e-9eb1-0945a38f946d",
   "metadata": {},
   "source": [
    "```{admonition} Figyelem\n",
    ":class: warning\n",
    "\n",
    "```python\n",
    "l = [5, 10, 8, 10, 2]\n",
    "print(l.index(-6)) # ValueError: -6 is not in list"
   ]
  },
  {
   "cell_type": "markdown",
   "id": "96233c0d-80ec-4780-81b0-ee7c6a5ee011",
   "metadata": {},
   "source": [
    "### Keresés"
   ]
  },
  {
   "cell_type": "markdown",
   "id": "1b3f92bf-d0b7-48e8-a8b4-340b3497bfd6",
   "metadata": {},
   "source": [
    "- **Feladat**: Döntsük el, hogy egy adott v elem benne van-e a listában, és ha benne van, adjuk meg annak indexszét.\n",
    "- **Bemenet**: A `v` elem és az `l` lista.\n",
    "- **Kimenet**: Az algoritmusnak két kimenete van: \n",
    "\n",
    "```python\n",
    "found = False\n",
    "for idx, elem in enumerate(l):\n",
    "  if (elem == v):\n",
    "    found = True\n",
    "    break"
   ]
  },
  {
   "cell_type": "code",
   "execution_count": 37,
   "id": "3449efb9-0cee-4355-ba3d-a31be14ab959",
   "metadata": {},
   "outputs": [
    {
     "name": "stdout",
     "output_type": "stream",
     "text": [
      "Az elem a listában van:  False\n"
     ]
    }
   ],
   "source": [
    "l = [5, 10, 8, 10, 2]\n",
    "v = -6\n",
    "\n",
    "found = False\n",
    "for idx, elem in enumerate(l):\n",
    "  if (elem == v):\n",
    "    found = True\n",
    "    break\n",
    "\n",
    "print('Az elem a listában van: ', found)\n",
    "if found:\n",
    "    print('Az elem indexe: ', idx)"
   ]
  },
  {
   "cell_type": "code",
   "execution_count": null,
   "id": "7d45cb0d-08a5-46b6-b063-bb0f6c0c3776",
   "metadata": {},
   "outputs": [],
   "source": []
  }
 ],
 "metadata": {
  "kernelspec": {
   "display_name": "Python 3 (ipykernel)",
   "language": "python",
   "name": "python3"
  },
  "language_info": {
   "codemirror_mode": {
    "name": "ipython",
    "version": 3
   },
   "file_extension": ".py",
   "mimetype": "text/x-python",
   "name": "python",
   "nbconvert_exporter": "python",
   "pygments_lexer": "ipython3",
   "version": "3.8.10"
  }
 },
 "nbformat": 4,
 "nbformat_minor": 5
}
