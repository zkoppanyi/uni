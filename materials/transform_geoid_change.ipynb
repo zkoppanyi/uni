{
 "cells": [
  {
   "cell_type": "code",
   "execution_count": 8,
   "metadata": {},
   "outputs": [],
   "source": [
    "import numpy as np\n",
    "from pyproj import CRS, Transformer, Proj"
   ]
  },
  {
   "cell_type": "code",
   "execution_count": 9,
   "metadata": {},
   "outputs": [
    {
     "name": "stderr",
     "output_type": "stream",
     "text": [
      "/home/zoltan/env/uni/lib/python3.8/site-packages/pyproj/crs/crs.py:141: FutureWarning: '+init=<authority>:<code>' syntax is deprecated. '<authority>:<code>' is the preferred initialization method. When making the change, be mindful of axis order changes: https://pyproj4.github.io/pyproj/stable/gotchas.html#axis-order-changes-in-proj-6\n",
      "  in_crs_string = _prepare_from_proj_string(in_crs_string)\n",
      "/home/zoltan/env/uni/lib/python3.8/site-packages/pyproj/crs/crs.py:141: FutureWarning: '+init=<authority>:<code>' syntax is deprecated. '<authority>:<code>' is the preferred initialization method. When making the change, be mindful of axis order changes: https://pyproj4.github.io/pyproj/stable/gotchas.html#axis-order-changes-in-proj-6\n",
      "  in_crs_string = _prepare_from_proj_string(in_crs_string)\n"
     ]
    }
   ],
   "source": [
    "# Grid files: https://github.com/OSGeo/proj-datumgrid\n",
    "# NGS geoid models: https://geodesy.noaa.gov/GEOID/GEOID18/\n",
    "\n",
    "# Hungarian model: http://www.agt.bme.hu/osgeolab/pub/takacs_siki_transzformacio_2017.pdf\n",
    "# EHT and VITEL's geoid model has centimeter level issues: file:///home/zoltan/Downloads/proj_poszter_3d.pdf\n",
    "\n",
    "nadgrids = '/home/zoltan/Repo/uni/data/etrs2eov_notowgs.gsb'# XY grid\n",
    "geoidgrids = '/home/zoltan/Repo/uni/data/geoid_eht2014.gtx' # geoid model for Z transformation\n",
    "crs = Proj(init='EPSG:23700', nadgrids=nadgrids) # HD72 / EOV\n",
    "crs_geoid = Proj(init='EPSG:23700', nadgrids=nadgrids, geoidgrids=geoidgrids) # HD72 / EOV"
   ]
  },
  {
   "cell_type": "code",
   "execution_count": 10,
   "metadata": {},
   "outputs": [],
   "source": [
    "to_geoid = Transformer.from_proj(crs, crs_geoid)"
   ]
  },
  {
   "cell_type": "code",
   "execution_count": 11,
   "metadata": {},
   "outputs": [
    {
     "name": "stdout",
     "output_type": "stream",
     "text": [
      "43.63338949961758\n"
     ]
    }
   ],
   "source": [
    "easting = 650684.000\n",
    "northing = 237444.000 \n",
    "height = 137.177 \n",
    "p_geoid = to_geoid.transform(easting, northing, height)\n",
    "geoid_shift = height - p_geoid[2]\n",
    "print(geoid_shift)"
   ]
  },
  {
   "cell_type": "code",
   "execution_count": 12,
   "metadata": {},
   "outputs": [
    {
     "name": "stdout",
     "output_type": "stream",
     "text": [
      "dh_max:  0.008177140061647492\n"
     ]
    }
   ],
   "source": [
    "site_bound = 500 # 1000 * 1000 m2 = 100 hectare ~= 250 acres\n",
    "y_grid = np.arange(easting - site_bound, easting + site_bound, 5.0)\n",
    "x_grid = np.arange(northing - site_bound, northing + site_bound, 5.0)\n",
    "z_grid = np.ones((x_grid.shape[0], 1)) * height\n",
    "coors_geoid = to_geoid.transform(y_grid, x_grid, z_grid)\n",
    "dh_max = np.max(np.abs(coors_geoid[2] - z_grid + geoid_shift))\n",
    "print('dh_max: ', dh_max)"
   ]
  },
  {
   "cell_type": "code",
   "execution_count": 13,
   "metadata": {},
   "outputs": [],
   "source": [
    "# GEOID18 model accuracy: source: https://geodesy.noaa.gov/GEOID/GEOID18/geoid18_tech_details.shtml\n",
    "# The relative accuracy of GEOID18 to NAVD 88 is characterized by a estimated \n",
    "# uncertainty of +/-1.27 centimeters nationwide.  These errors range from \n",
    "# 1.9 mm to 6.25 cm and are inconsistently distributed throughout the grids."
   ]
  },
  {
   "cell_type": "code",
   "execution_count": 39,
   "metadata": {},
   "outputs": [
    {
     "name": "stderr",
     "output_type": "stream",
     "text": [
      "/home/zoltan/env/uni/lib/python3.8/site-packages/pyproj/crs/crs.py:141: FutureWarning: '+init=<authority>:<code>' syntax is deprecated. '<authority>:<code>' is the preferred initialization method. When making the change, be mindful of axis order changes: https://pyproj4.github.io/pyproj/stable/gotchas.html#axis-order-changes-in-proj-6\n",
      "  in_crs_string = _prepare_from_proj_string(in_crs_string)\n",
      "/home/zoltan/env/uni/lib/python3.8/site-packages/pyproj/crs/crs.py:141: FutureWarning: '+init=<authority>:<code>' syntax is deprecated. '<authority>:<code>' is the preferred initialization method. When making the change, be mindful of axis order changes: https://pyproj4.github.io/pyproj/stable/gotchas.html#axis-order-changes-in-proj-6\n",
      "  in_crs_string = _prepare_from_proj_string(in_crs_string)\n"
     ]
    }
   ],
   "source": [
    "crs = Proj(init='EPSG:5972') # HD72 / EOV\n",
    "crs_geoid = Proj(init='EPSG:4258') \n",
    "to_geoid = Transformer.from_proj(crs, crs_geoid)"
   ]
  },
  {
   "cell_type": "code",
   "execution_count": 40,
   "metadata": {},
   "outputs": [
    {
     "name": "stdout",
     "output_type": "stream",
     "text": [
      "(13.2275390625018, 62.65396335371094, 10.0)\n"
     ]
    }
   ],
   "source": [
    "easting = 716552.654289\n",
    "northing = 6954136.681566\n",
    "height = 10 \n",
    "p_geoid = to_geoid.transform(easting, northing, height)\n",
    "print(p_geoid)"
   ]
  },
  {
   "cell_type": "code",
   "execution_count": 45,
   "metadata": {},
   "outputs": [
    {
     "name": "stdout",
     "output_type": "stream",
     "text": [
      "{'compression': 'tiff_adobe_deflate', 'dpi': (1, 1), 'resolution': (1, 1)}\n"
     ]
    }
   ],
   "source": [
    "from PIL import Image\n",
    "im = Image.open('/home/zoltan/Downloads/no_kv_HREF2018A_NN2000_EUREF89.tif')\n",
    "print(im.info)"
   ]
  },
  {
   "cell_type": "code",
   "execution_count": null,
   "metadata": {},
   "outputs": [],
   "source": []
  }
 ],
 "metadata": {
  "kernelspec": {
   "display_name": "uni",
   "language": "python",
   "name": "python3"
  },
  "language_info": {
   "codemirror_mode": {
    "name": "ipython",
    "version": 3
   },
   "file_extension": ".py",
   "mimetype": "text/x-python",
   "name": "python",
   "nbconvert_exporter": "python",
   "pygments_lexer": "ipython3",
   "version": "3.8.10"
  },
  "orig_nbformat": 4
 },
 "nbformat": 4,
 "nbformat_minor": 2
}
