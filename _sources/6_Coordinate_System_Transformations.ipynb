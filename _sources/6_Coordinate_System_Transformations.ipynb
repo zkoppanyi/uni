{
 "cells": [
  {
   "attachments": {},
   "cell_type": "markdown",
   "metadata": {},
   "source": [
    "# Geodéziai koordináta rendszer transzformációk"
   ]
  },
  {
   "cell_type": "code",
   "execution_count": 3,
   "metadata": {},
   "outputs": [
    {
     "name": "stdout",
     "output_type": "stream",
     "text": [
      "Requirement already satisfied: pyproj in /home/zoltan/env/uni/lib/python3.8/site-packages (3.5.0)\n",
      "Requirement already satisfied: certifi in /home/zoltan/env/uni/lib/python3.8/site-packages (from pyproj) (2023.5.7)\n"
     ]
    }
   ],
   "source": [
    "!pip install pyproj\n",
    "\n",
    "import numpy as np\n",
    "from pyproj import CRS, Transformer, Proj\n",
    "from geopy.distance import geodesic"
   ]
  },
  {
   "attachments": {},
   "cell_type": "markdown",
   "metadata": {},
   "source": [
    "## Bevezetés"
   ]
  },
  {
   "attachments": {},
   "cell_type": "markdown",
   "metadata": {},
   "source": [
    "\n",
    "Egy pontot a térben természetes módon megadhatunk X, Y, Z descartes-i koordinátákkal. A geodéziában a térbeli koordináta rendszert gyakran a Föld középpontjához és forgásához kötnek, ekkor geocentrikus koordináta rendszerről beszélünk, vagy külföldi szakirodalomban gyakran ([ECEF](https://en.wikipedia.org/wiki/Earth-centered,_Earth-fixed_coordinate_system)) koordináta rendszerként hivatkoznak rá. \n",
    "\n",
    "A térbeli koordináta rendszerben adott pont koordinátái viszonylag nagy számok, mely számok alapján nehéz megmondani a pont körübelüli helyzetét a Földön. Ezért a három X, Y, Z koordináta helyett, a gyakorlatban gyakran alkalmazzunk szög alapú (hosszúság és szélesség) koordináta definíciót; ezek megadásához azonban gömb vagy ellipszoid használata szükséges.\n",
    "\n",
    "A geodéziai alapfelület, vegy geodéziai dátum, az ellipszoid méretére és alakjára vonatkozó adatok, kiegészítve az ellipszoid elhelyezésével és esetlegesen a tájékozásával kapcsolatos paraméterekkel. Az ellipszoid elhelyezése lehetséges úgy, hogy az a világ minden pontján a legjobban közelítse a geoidot (pl. WGS84, ETRS89, NAD83), vagy pedig úgy is, hogy egy adott területet jobban közelít; ekkor lokális dátumról beszélünk (pl. ED50, NAD27)\n",
    "\n",
    "Egy másik nyomós érv a geodézi dátum, és így a szög alapú koordináta definiálás mellett, hogy geodéziában a vizszintes és magassági koordináták gyakran külön kezeltek azok gyakorlati különbözőségei miatt. Hasonló módon, térinformatikai rendszerkben a vizszintes és magassági dátum esetenként külön kezeltek. Ekkor a koordináta transzformációkor a transzformációt végző programok a magasság értékeket nem kerül adják meg, vagy a bemenettel megegyező érték kerül visszaadásra.\n",
    "\n",
    "Ezek alapján egy pont megadása a következő módokon történik az EPSG definíciókban:\n",
    "\n",
    "- **Térbeli koordináta**: három X, Y, Z descartes-i koordánátával adható meg egy pont. Példák [EPSG:4978](https://epsg.io/4936) (WGS84), [EPSG:4936](https://epsg.io/4936) (ETRS89)\n",
    "- **Ellipszoidi koordináta**: egy térbeli pont megadásához a hosszúság, szélesség és esetlegesen ellipszoid vagy geoid feletti magasságot használjuk. Ahhoz hogy a hosszúság és szélességet értelmezni tudjuk, egy ellipszoidot illesztenek egy adott térbeli koordináta rendszerhez. Példák [EPSG:4326](https://epsg.io/4326) (WGS84), [EPSG:4937](https://epsg.io/4937) (ETRS89)\n",
    "- **Vetületi koordináta**: "
   ]
  },
  {
   "attachments": {},
   "cell_type": "markdown",
   "metadata": {},
   "source": [
    "Irodalom:\n",
    "\n",
    "- [Koordináta rendszerek](https://pygis.io/docs/d_crs_what_is_it.html)"
   ]
  },
  {
   "attachments": {},
   "cell_type": "markdown",
   "metadata": {},
   "source": [
    "## EOV"
   ]
  },
  {
   "cell_type": "code",
   "execution_count": 2,
   "metadata": {},
   "outputs": [
    {
     "name": "stdout",
     "output_type": "stream",
     "text": [
      "EOV/HD72: \n",
      "PROJCRS[\"HD72 / EOV\",\n",
      "    BASEGEOGCRS[\"HD72\",\n",
      "        DATUM[\"Hungarian Datum 1972\",\n",
      "            ELLIPSOID[\"GRS 1967\",6378160,298.247167427,\n",
      "                LENGTHUNIT[\"metre\",1]]],\n",
      "        PRIMEM[\"Greenwich\",0,\n",
      "            ANGLEUNIT[\"degree\",0.0174532925199433]],\n",
      "        ID[\"EPSG\",4237]],\n",
      "    CONVERSION[\"Egyseges Orszagos Vetuleti\",\n",
      "        METHOD[\"Hotine Oblique Mercator (variant B)\",\n",
      "            ID[\"EPSG\",9815]],\n",
      "        PARAMETER[\"Latitude of projection centre\",47.1443937222222,\n",
      "            ANGLEUNIT[\"degree\",0.0174532925199433],\n",
      "            ID[\"EPSG\",8811]],\n",
      "        PARAMETER[\"Longitude of projection centre\",19.0485717777778,\n",
      "            ANGLEUNIT[\"degree\",0.0174532925199433],\n",
      "            ID[\"EPSG\",8812]],\n",
      "        PARAMETER[\"Azimuth of initial line\",90,\n",
      "            ANGLEUNIT[\"degree\",0.0174532925199433],\n",
      "            ID[\"EPSG\",8813]],\n",
      "        PARAMETER[\"Angle from Rectified to Skew Grid\",90,\n",
      "            ANGLEUNIT[\"degree\",0.0174532925199433],\n",
      "            ID[\"EPSG\",8814]],\n",
      "        PARAMETER[\"Scale factor on initial line\",0.99993,\n",
      "            SCALEUNIT[\"unity\",1],\n",
      "            ID[\"EPSG\",8815]],\n",
      "        PARAMETER[\"Easting at projection centre\",650000,\n",
      "            LENGTHUNIT[\"metre\",1],\n",
      "            ID[\"EPSG\",8816]],\n",
      "        PARAMETER[\"Northing at projection centre\",200000,\n",
      "            LENGTHUNIT[\"metre\",1],\n",
      "            ID[\"EPSG\",8817]]],\n",
      "    CS[Cartesian,2],\n",
      "        AXIS[\"easting (Y)\",east,\n",
      "            ORDER[1],\n",
      "            LENGTHUNIT[\"metre\",1]],\n",
      "        AXIS[\"northing (X)\",north,\n",
      "            ORDER[2],\n",
      "            LENGTHUNIT[\"metre\",1]],\n",
      "    USAGE[\n",
      "        SCOPE[\"Engineering survey, topographic mapping.\"],\n",
      "        AREA[\"Hungary.\"],\n",
      "        BBOX[45.74,16.11,48.58,22.9]],\n",
      "    ID[\"EPSG\",23700]]\n"
     ]
    }
   ],
   "source": [
    "crs_eov = CRS.from_epsg(23700) # HD72 / EOV\n",
    "crs_etrs89_llh = CRS.from_epsg(4258) # ETRS89/GRS80, lat/lon\n",
    "crs_etrs89_xyz = CRS.from_epsg(4936) # ETRS89, ECEF-XYZ\n",
    "\n",
    "print('EOV/HD72: ')\n",
    "print(crs_eov.to_wkt(pretty=True))"
   ]
  },
  {
   "cell_type": "code",
   "execution_count": 4,
   "metadata": {},
   "outputs": [],
   "source": [
    "# %%\n",
    "eov2etrs89_xyz = Transformer.from_crs(crs_eov, crs_etrs89_xyz)\n",
    "eov2etrs89_llh = Transformer.from_crs(crs_eov, crs_etrs89_llh)"
   ]
  },
  {
   "cell_type": "code",
   "execution_count": 5,
   "metadata": {},
   "outputs": [],
   "source": [
    "# %%\n",
    "# BUTE GPS Point: https://www.gnssnet.hu/pdf/BUTE.pdf\n",
    "y_eov = 650684.479 # easting\n",
    "x_eov = 237444.175 # northing\n",
    "z_eov = 137.177 # EOMA height"
   ]
  },
  {
   "cell_type": "code",
   "execution_count": 10,
   "metadata": {},
   "outputs": [],
   "source": [
    "p_etrs89_xyz = eov2etrs89_xyz.transform(y_eov, x_eov, z_eov)\n",
    "p_etrs89_llh = eov2etrs89_llh.transform(y_eov, x_eov, z_eov)"
   ]
  },
  {
   "cell_type": "code",
   "execution_count": 11,
   "metadata": {},
   "outputs": [
    {
     "name": "stdout",
     "output_type": "stream",
     "text": [
      "[-27.79323961  -9.71344038 -32.2041526 ]\n"
     ]
    }
   ],
   "source": [
    "# %% Comparison to eht2: http://eht.gnssnet.hu/index.php\n",
    "p_eht_etrs89_xyz = np.array([4081882.378, 1410011.142, 4678199.391])\n",
    "p_eht_etrs89_llh = np.array([47.4809437284, 19.0565297521, 180.811])\n",
    "\n",
    "print(p_etrs89_xyz - p_eht_etrs89_xyz)"
   ]
  },
  {
   "cell_type": "code",
   "execution_count": 12,
   "metadata": {},
   "outputs": [
    {
     "name": "stdout",
     "output_type": "stream",
     "text": [
      "Difference GRS-80 vs. WGS-84 [cm]:  0.00028607621788978577\n"
     ]
    }
   ],
   "source": [
    "# %% Geodetic distance between two points defined with lat/lon\n",
    "coords_1 = (52.2296756, 21.0122287)\n",
    "coords_2 = (52.406374, 16.9251681)\n",
    "sol_1 = geodesic(coords_1, coords_2, ellipsoid='GRS-80').m * 100\n",
    "sol_2 = geodesic(coords_1, coords_2, ellipsoid='WGS-84').m * 100\n",
    "print('Difference GRS-80 vs. WGS-84 [cm]: ', sol_1 - sol_2)"
   ]
  },
  {
   "cell_type": "code",
   "execution_count": 13,
   "metadata": {},
   "outputs": [
    {
     "name": "stdout",
     "output_type": "stream",
     "text": [
      "Difference XY [cm]:  12.471731150364025\n"
     ]
    }
   ],
   "source": [
    "# %%\n",
    "print('Difference XY [cm]: ', geodesic(p_eht_etrs89_llh[0:2], p_etrs89_llh[0:2]).m * 100)\n",
    "# Note: the Z of p_etrs89_llh[2] is the same as input, no Z coordinate transformation\n",
    "# print('Difference Z  [m]: ', (p_eht_etrs89_llh[2] - p_etrs89_llh[2]))\n"
   ]
  },
  {
   "cell_type": "code",
   "execution_count": 14,
   "metadata": {},
   "outputs": [
    {
     "name": "stdout",
     "output_type": "stream",
     "text": [
      "Original definiation:\n",
      "+proj=somerc +lat_0=47.1443937222222 +lon_0=19.0485717777778 +k_0=0.99993 +x_0=650000 +y_0=200000 +ellps=GRS67 +units=m +no_defs +type=crs\n"
     ]
    },
    {
     "name": "stderr",
     "output_type": "stream",
     "text": [
      "/home/zoltan/env/uni/lib/python3.8/site-packages/pyproj/crs/crs.py:1286: UserWarning: You will likely lose important projection information when converting to a PROJ string from another format. See: https://proj.org/faq.html#what-is-the-best-format-for-describing-coordinate-reference-systems\n",
      "  proj = self._crs.to_proj4(version=version)\n"
     ]
    }
   ],
   "source": [
    "# %% Original definiation of HD72/EOV in proj4 format\n",
    "print('Original definiation:')\n",
    "print(crs_eov.to_proj4())"
   ]
  },
  {
   "cell_type": "code",
   "execution_count": 34,
   "metadata": {},
   "outputs": [
    {
     "name": "stdout",
     "output_type": "stream",
     "text": [
      "+proj=somerc +lat_0=47.1443937222222 +lon_0=19.0485717777778 +k_0=0.99993 +x_0=650000 +y_0=200000 +ellps=GRS67 +nadgrids=/home/zoltan/Repo/uni/geoprog-lecture-notes/geoprog-lecture-notes/data/etrs2eov_notowgs.gsb +units=m +geoidgrids=/home/zoltan/Repo/uni/geoprog-lecture-notes/geoprog-lecture-notes/data/geoid_eht2014.gtx +geoid_crs=WGS84 +vunits=m +no_defs\n"
     ]
    },
    {
     "name": "stderr",
     "output_type": "stream",
     "text": [
      "/home/zoltan/env/uni/lib/python3.8/site-packages/pyproj/crs/crs.py:141: FutureWarning: '+init=<authority>:<code>' syntax is deprecated. '<authority>:<code>' is the preferred initialization method. When making the change, be mindful of axis order changes: https://pyproj4.github.io/pyproj/stable/gotchas.html#axis-order-changes-in-proj-6\n",
      "  in_crs_string = _prepare_from_proj_string(in_crs_string)\n"
     ]
    }
   ],
   "source": [
    "# %%\n",
    "# Grid letölthető: https://github.com/OSGeoLabBp/eov2etrs\n",
    "# < transzformáció 1 cm-es középhibán belül azonos az EHT-vel\n",
    "# az EHT transzformációja 10 cm-es középhibájú\n",
    "nadgrids = '/home/zoltan/Repo/uni/geoprog-lecture-notes/geoprog-lecture-notes/data/etrs2eov_notowgs.gsb'# XY grid\n",
    "geoidgrids = '/home/zoltan/Repo/uni/geoprog-lecture-notes/geoprog-lecture-notes/data/geoid_eht2014.gtx' # geoid model for Z transformation\n",
    "crs_eov_grid = Proj(init='EPSG:23700', nadgrids=nadgrids, geoidgrids=geoidgrids) # HD72 / EOV\n",
    "print(crs_eov_grid.to_proj4())"
   ]
  },
  {
   "cell_type": "code",
   "execution_count": 37,
   "metadata": {},
   "outputs": [
    {
     "name": "stdout",
     "output_type": "stream",
     "text": [
      "(4081882.3770687627, 1410011.1433535905, 4678199.3908524215)\n",
      "[4081882.378 1410011.142 4678199.391]\n",
      "Difference [cm]:  0.16496028796703496\n"
     ]
    }
   ],
   "source": [
    "# %% XYZ transformation\n",
    "eov2etrs89_xyz = Transformer.from_proj(crs_eov_grid, crs_etrs89_xyz)\n",
    "p_etrs89_xyz = eov2etrs89_xyz.transform(y_eov, x_eov, z_eov)\n",
    "print(p_etrs89_xyz)\n",
    "print(p_eht_etrs89_xyz)\n",
    "print('Difference [cm]: ', np.linalg.norm(p_etrs89_xyz - p_eht_etrs89_xyz) * 100)"
   ]
  },
  {
   "cell_type": "code",
   "execution_count": 36,
   "metadata": {},
   "outputs": [
    {
     "name": "stdout",
     "output_type": "stream",
     "text": [
      "Difference [cm]:  0.16408611991976702\n",
      "Difference Z  [cm]:  -4363.4000000000015\n"
     ]
    }
   ],
   "source": [
    "# %% LLH transformation:\n",
    "eov2etrs89_llh = Transformer.from_proj(crs_eov_grid, crs_etrs89_llh)\n",
    "p_etrs89_llh = eov2etrs89_llh.transform(y_eov, x_eov, z_eov)\n",
    "print('Difference [cm]: ', geodesic(p_etrs89_llh[0:2], p_eht_etrs89_llh[0:2]).m * 100)\n",
    "print('Difference Z  [cm]: ', (p_etrs89_llh[2] - p_eht_etrs89_llh[2])*100)"
   ]
  },
  {
   "cell_type": "code",
   "execution_count": 28,
   "metadata": {},
   "outputs": [
    {
     "name": "stdout",
     "output_type": "stream",
     "text": [
      "[ 47.48094373  19.05652975 180.811     ]\n"
     ]
    }
   ],
   "source": [
    "print(p_eht_etrs89_llh)"
   ]
  },
  {
   "cell_type": "code",
   "execution_count": null,
   "metadata": {},
   "outputs": [],
   "source": []
  }
 ],
 "metadata": {
  "kernelspec": {
   "display_name": "uni",
   "language": "python",
   "name": "python3"
  },
  "language_info": {
   "codemirror_mode": {
    "name": "ipython",
    "version": 3
   },
   "file_extension": ".py",
   "mimetype": "text/x-python",
   "name": "python",
   "nbconvert_exporter": "python",
   "pygments_lexer": "ipython3",
   "version": "3.8.10"
  },
  "orig_nbformat": 4
 },
 "nbformat": 4,
 "nbformat_minor": 2
}
