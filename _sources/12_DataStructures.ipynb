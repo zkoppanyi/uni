{
 "cells": [
  {
   "cell_type": "markdown",
   "id": "648963cf-3eec-40cb-8f04-1aba2f9824b9",
   "metadata": {},
   "source": [
    "# Adatszerkezetek"
   ]
  },
  {
   "cell_type": "markdown",
   "id": "0df9b8f5-4971-42a3-a380-c05d5ec6d6e0",
   "metadata": {},
   "source": [
    "Az **adatszerekezetek** vagy **adatstruktúrák** adattípusok tárolását teszik lehetővé. Az adatszerkezet is egy típus, így egy adatszerkezet egy vagy több további adatszerkezetet is tárolhat. Az adatszerkezetek a következő alapműveleteket mindenképpen lehetővé teszik: \n",
    "- az adatszerkezet elemeihez való **hozzáférés**,\n",
    "- új adatot hozzáadása az adatszerkezethez (**beszúrás**),\n",
    "- és onnan elemet vagy elemeket eltávolítása (**törlés**).\n",
    "\n",
    "További műveletek is természetesen lehetésgesek, például keresés vagy rendezés az adatszerkezetben. Az adatszerkezetek abban különböznek, hogy a különböző típusú műveleteket, milyen komplexitású algorimussal valósítják meg. Megfelelő adattípus választása egy adott probléma esetén a program tervezés egy fontos eleme. Az adatszerkezetek, a hozzáférést, beszúrás és törlést különböző **komlpexitás** mellett biztosítják. Komplexitáson itt a művelet végrehajtásához szükséges futási idő és memória igényt értünk első sorban.\n",
    "\n",
    "A Python nyelv számos alapértelmezett adatszerkezetet támogat; ezek közül a listát, szótárat és vektort ismertetjük."
   ]
  },
  {
   "cell_type": "markdown",
   "id": "60286f80-f129-426b-8854-f11b5b39050e",
   "metadata": {},
   "source": [
    "## Lista (`list`)"
   ]
  },
  {
   "cell_type": "markdown",
   "id": "6f99896e-a42c-4df7-b1a2-3024d59ed55f",
   "metadata": {},
   "source": [
    "A lista különböző elemeket tartalmazó gyüjtemény. Melynek elemeit az elemhez tartozó indexszel érhetjük el. A lista különböző indexeknél különböző típusokkal térhet vissza: a lista nem csak egy adott adattípusot tartalmazhat."
   ]
  },
  {
   "cell_type": "markdown",
   "id": "1872c930-ccac-49fd-a2f4-fbd305b661c5",
   "metadata": {},
   "source": [
    "```{admonition} Kiegészítő anyag\n",
    ":class: note\n",
    "A lista egy egész számú indexszhez megadja az indexszen tárolt értéket. Matematikailg ez magadható a következő leképezéssel: \n",
    "\n",
    "$\\mathbb{Z} \\rightarrow \\mathbb{D}$, \n",
    "\n",
    "ahol $\\mathbb{D}$ az összes adattípus halmaza."
   ]
  },
  {
   "cell_type": "markdown",
   "id": "c1eda33d-6050-401f-ae92-e8bf70ad7d90",
   "metadata": {},
   "source": [
    "#### Lista létrehozása"
   ]
  },
  {
   "cell_type": "markdown",
   "id": "b4306bbc-3a36-4917-a68b-bc00f0247903",
   "metadata": {},
   "source": [
    "Nézzünk egy példát egy lista típusú változó létrehozására:"
   ]
  },
  {
   "cell_type": "code",
   "execution_count": 1,
   "id": "395d01a2-1851-4952-b046-05c33fd223c5",
   "metadata": {},
   "outputs": [
    {
     "name": "stdout",
     "output_type": "stream",
     "text": [
      "[1, 2, 3, 4, 5]\n",
      "<class 'list'>\n"
     ]
    }
   ],
   "source": [
    "my_list = [1, 2, 3, 4, 5]\n",
    "print(my_list)\n",
    "print(type(my_list))"
   ]
  },
  {
   "cell_type": "markdown",
   "id": "00527e83-ca4a-47ab-99e2-c68c166c02e0",
   "metadata": {},
   "source": [
    "```{admonition} Feladat\n",
    ":class: Important\n",
    "Vizsgáljuk meg a lista létrehozásának szintaxisát. Azonosítsuk a következőeket:\n",
    "- Milyen karakterekkel jelőljük hogy egy listát hozzunk létre?\n",
    "- Milyen módon soroljuk fel a lista elemeit?\n",
    "- Mi a lista típus neve a Pythonban (`type` eredménye)?"
   ]
  },
  {
   "cell_type": "markdown",
   "id": "967a9509-8367-445d-84ac-8d1e177c28c4",
   "metadata": {},
   "source": [
    "A lista adatszerkezet a más nyelvekből megszokott tömb típusnak feleltethető meg, azzal a fontos különbséggel, hogy a lista bármilyen adatípust, bármilyen kombinációban tud tárolni:"
   ]
  },
  {
   "cell_type": "code",
   "execution_count": 2,
   "id": "aa686944-030f-414c-a421-535834f664ff",
   "metadata": {},
   "outputs": [
    {
     "name": "stdout",
     "output_type": "stream",
     "text": [
      "['I', 'am', 22, '! That is ', True]\n"
     ]
    }
   ],
   "source": [
    "my_list = [\"I\", \"am\", 22, \"! That is \", True]\n",
    "print(my_list)"
   ]
  },
  {
   "cell_type": "markdown",
   "id": "01134798-7fcf-418e-a93a-d6c665b096e2",
   "metadata": {},
   "source": [
    "Mivel a list bármit tartalmazhat ezért egy másik listát is:"
   ]
  },
  {
   "cell_type": "code",
   "execution_count": 3,
   "id": "13d19cb8-e76c-4b37-b95f-8c5fefb302ea",
   "metadata": {},
   "outputs": [
    {
     "name": "stdout",
     "output_type": "stream",
     "text": [
      "['2nd list', 'contains 1st', ['1', 2, '3', 4]]\n"
     ]
    }
   ],
   "source": [
    "list_1 = [\"1\", 2, \"3\", 4]\n",
    "list_2 = [\"2nd list\", \"contains 1st\", list_1]\n",
    "print(list_2)"
   ]
  },
  {
   "cell_type": "markdown",
   "id": "36761ca2-c6d5-4734-ab65-fe3bbb07853e",
   "metadata": {},
   "source": [
    "Az üres lista egy olyan list, mely nem tartalmaz egyetlen elemet:"
   ]
  },
  {
   "cell_type": "code",
   "execution_count": 4,
   "id": "f60927cd-c10f-4ff9-af4b-3768d3e69144",
   "metadata": {},
   "outputs": [
    {
     "name": "stdout",
     "output_type": "stream",
     "text": [
      "[]\n"
     ]
    }
   ],
   "source": [
    "empty_list = []\n",
    "print(empty_list)"
   ]
  },
  {
   "cell_type": "markdown",
   "id": "38cc8919-157b-4423-ac03-a19f4e2d3957",
   "metadata": {},
   "source": [
    "### Műveletek listán"
   ]
  },
  {
   "cell_type": "markdown",
   "id": "a637dee5-2e96-40d7-a764-1aecbded82e7",
   "metadata": {},
   "source": [
    "A lista hossza a listát tartalmazó elemek száma, melyet a `len` függvény segítségével kaphatunk meg:"
   ]
  },
  {
   "cell_type": "code",
   "execution_count": 5,
   "id": "6162cd9d-7cb3-4ef6-9025-9d30b916cf42",
   "metadata": {},
   "outputs": [
    {
     "name": "stdout",
     "output_type": "stream",
     "text": [
      "3\n"
     ]
    }
   ],
   "source": [
    "n = len(list_2)\n",
    "print(n)"
   ]
  },
  {
   "cell_type": "markdown",
   "id": "554f9973-1b17-4e53-acb2-2ef073aff3c1",
   "metadata": {},
   "source": [
    "Az üres lista hossza 0:"
   ]
  },
  {
   "cell_type": "code",
   "execution_count": 6,
   "id": "69f3f8b2-11a3-4589-80bb-91cd14b98376",
   "metadata": {},
   "outputs": [
    {
     "name": "stdout",
     "output_type": "stream",
     "text": [
      "0\n"
     ]
    }
   ],
   "source": [
    "empty_list = []\n",
    "print(len(empty_list))"
   ]
  },
  {
   "cell_type": "markdown",
   "id": "7317ce24-c4b6-46d6-a2a7-99da585581e7",
   "metadata": {},
   "source": [
    "A list egyik elemét **indexeléssel** érhetjük el:"
   ]
  },
  {
   "cell_type": "code",
   "execution_count": 7,
   "id": "1808477e-163a-4393-afb9-8a9d5179dcca",
   "metadata": {},
   "outputs": [
    {
     "name": "stdout",
     "output_type": "stream",
     "text": [
      "Programming\n",
      "is\n"
     ]
    }
   ],
   "source": [
    "fun_str = [\"Programming\", \"is\", \"fun\", \"!\"]\n",
    "print(fun_str[0])    # lista első eleme, vegyük észre 0-tól indexelünk\n",
    "print(fun_str[1])    # lista második eleme"
   ]
  },
  {
   "cell_type": "markdown",
   "id": "40ec1870-4135-4911-98c0-4bb2f4db2f13",
   "metadata": {},
   "source": [
    "```{admonition} Figyelem\n",
    ":class: warning\n",
    "Vegyük észre, hogy a Pythonban az indexszelés 0-tól kezdődik."
   ]
  },
  {
   "cell_type": "markdown",
   "id": "087cda2e-294c-470c-a40c-80e4485ebf75",
   "metadata": {},
   "source": [
    "Lehetőség az utolsó elemtől visszafele történő indexelésre, amennyibe negatív indexszet adunk meg:"
   ]
  },
  {
   "cell_type": "code",
   "execution_count": 8,
   "id": "740bf12b-e8c6-4d5b-aae7-073955d7f64e",
   "metadata": {},
   "outputs": [
    {
     "name": "stdout",
     "output_type": "stream",
     "text": [
      "!\n",
      "fun\n"
     ]
    }
   ],
   "source": [
    "fun_str = [\"Programming\", \"is\", \"fun\", \"!\"]\n",
    "print(fun_str[-1])   # lista utolsó eleme\n",
    "print(fun_str[-2])   # lista utolsó előtti eleme"
   ]
  },
  {
   "cell_type": "markdown",
   "id": "4493ae70-2e6c-487e-84a8-7c72a74bc153",
   "metadata": {},
   "source": [
    "A fenti kód kifejezhető a `len` függvény segítségével következő módon:"
   ]
  },
  {
   "cell_type": "code",
   "execution_count": 9,
   "id": "612be64c-4ea9-4fc9-8665-cf4e9221cf36",
   "metadata": {},
   "outputs": [
    {
     "name": "stdout",
     "output_type": "stream",
     "text": [
      "!\n",
      "fun\n"
     ]
    }
   ],
   "source": [
    "fun_str = [\"Programming\", \"is\", \"fun\", \"!\"]\n",
    "print(fun_str[len(fun_str)-1])\n",
    "print(fun_str[len(fun_str)-2])"
   ]
  },
  {
   "cell_type": "markdown",
   "id": "d4330681-99d5-4141-9c6a-d90c53b09638",
   "metadata": {},
   "source": [
    "A fenti kifejezés teljesen ekvivalens a negatív indexszeléssel, ezért a negatív indexszelés egyszerűsíti a kódot. Az ilyen nyelvi megoldásokat az angol irodalom \"**syntax sugar**\"-nek, vagy magyarul szinatkszis cukornak nevezni."
   ]
  },
  {
   "cell_type": "markdown",
   "id": "9edb1e73-ea0f-4e87-84fd-5452e18e0ca6",
   "metadata": {},
   "source": [
    "Matlabhoz hasonlóan használhatunk tartományt is a lista egyik részhalmazának lekérdezéséhez; ezt **slicing**-nak vagy **szeletelésnek** hívjuk. A tartományt a `:` operátor segítéségvel definiálhatjuk:"
   ]
  },
  {
   "cell_type": "code",
   "execution_count": 10,
   "id": "e6f1ecec-4a9d-4df4-8648-743a5429277a",
   "metadata": {},
   "outputs": [
    {
     "name": "stdout",
     "output_type": "stream",
     "text": [
      "['Programming', 'is']\n",
      "['is', 'fun']\n",
      "['is', 'fun', '!']\n",
      "['Programming', 'is', 'fun']\n",
      "['Programming', 'is', 'fun']\n"
     ]
    }
   ],
   "source": [
    "fun_str = [\"Programming\", \"is\", \"fun\", \"!\"]\n",
    "print(fun_str[0:2])   # 0 és 2 indeszek közötti elemek (a 2-es indexű elem nem tartozik bele)\n",
    "print(fun_str[1:3])   # 1 és 3 indeszek közötti elemek (a 2-es indexű elem nem tartozik bele)\n",
    "print(fun_str[1:])    # elemek az egyes indexű elemtől az utolsó elemig\n",
    "print(fun_str[0:-1])  # elemek 0-tól az utolsó indeszig (az utolsó elem nem tartozik bele)\n",
    "print(fun_str[:-1])   # ha nem adunk meg kezdő ideszeket, akkor az automatikusan 0. eredmény ugyanaz mint az előző sorban`"
   ]
  },
  {
   "cell_type": "markdown",
   "id": "5b9de9c8-8c0c-4013-81ce-f6afdd45e878",
   "metadata": {},
   "source": [
    "```{admonition} Figyelem\n",
    ":class: warning\n",
    "Figyeljünk rá, hogy az `a:b` tartományba a `b` indexű elem nem tartozik bele, így a matematikában megszokott jelölésmóddal a tartomány: `[a, b)`. Ez a konvenció azonos a `range` függvénynél ismertettel.\n"
   ]
  },
  {
   "cell_type": "markdown",
   "id": "5c707d67-d4b2-435d-b226-f9c101fa6714",
   "metadata": {},
   "source": [
    "Lehetőség bizonyos lépésközzel végighaladni a tartományon:"
   ]
  },
  {
   "cell_type": "code",
   "execution_count": 11,
   "id": "c7d5ca03-afdc-4108-88cf-a8ddcfae5cfa",
   "metadata": {},
   "outputs": [
    {
     "name": "stdout",
     "output_type": "stream",
     "text": [
      "['Programming', 'is', 'always', 'fun']\n",
      "['Programming', 'is', 'always', 'fun', '!']\n",
      "['Programming', 'is', 'always', 'fun', '!']\n",
      "['Programming', 'is', 'fun']\n"
     ]
    }
   ],
   "source": [
    "fun_str = [\"Programming\", \"Programming\", \"is\", \"is\", \"always\", \"not\", \"fun\", \"!\", \"!\"]\n",
    "print(fun_str[0:-1:2])   # minden második elem a 0 és az utolsó indeszek közötti (az utolsó elem nem tartozik bele)\n",
    "print(fun_str[0::2])     # minden második elem a 0 és az utolsó indeszek közötti (az utolsó elem beletartozik)\n",
    "print(fun_str[::2])      # ha nem adunk meg kezdő ideszeket, akkor az automatikusan 0. eredmény ugyanaz mint az előző sorban\n",
    "print(fun_str[::3])      # minden harmadik elem a 0 és az utolsó indeszek között (az utolsó elem beletartozik)"
   ]
  },
  {
   "cell_type": "markdown",
   "id": "d458ec02-79f6-45c2-94d9-d139ccdf8bef",
   "metadata": {},
   "source": [
    "Az indeszek a slicing kifejezésben lehetnek változók is:"
   ]
  },
  {
   "cell_type": "code",
   "execution_count": 12,
   "id": "4585ebda-76d8-4b54-b0fb-d93aeced5576",
   "metadata": {},
   "outputs": [
    {
     "name": "stdout",
     "output_type": "stream",
     "text": [
      "['Programming', 'is', 'fun', '!']\n"
     ]
    }
   ],
   "source": [
    "fun_str = [\"Programming\", \"is\", \"fun\", \"!\"]\n",
    "from_idx = 0\n",
    "to_idx = len(fun_str)\n",
    "print(fun_str[from_idx:to_idx])"
   ]
  },
  {
   "cell_type": "markdown",
   "id": "22ab871a-ef23-4492-b5ba-d7e40b43b791",
   "metadata": {},
   "source": [
    "`append` paranccsal új elemet tudunk hozzáfűzni a listához:"
   ]
  },
  {
   "cell_type": "code",
   "execution_count": 13,
   "id": "a3537e37-caa1-4115-ad99-4f8c51b6626c",
   "metadata": {},
   "outputs": [
    {
     "name": "stdout",
     "output_type": "stream",
     "text": [
      "['apple', 'banana', 'cherry', 'orange']\n"
     ]
    }
   ],
   "source": [
    "fruits = [\"apple\", \"banana\", \"cherry\"]\n",
    "fruits.append(\"orange\")\n",
    "print(fruits)"
   ]
  },
  {
   "cell_type": "markdown",
   "id": "794cca4c-ae3f-4601-9c44-011c8b1ad63f",
   "metadata": {},
   "source": [
    "```{admonition} Figyelem\n",
    ":class: warning\n",
    "Vegyük észre, hogy az `append` függvény a listát helyben (magát a lista tartalmát) változtatja meg. Magának az `append` függvénynek nincs visszatérési értéke, ezért az alábbi kód `None`-t for kiírni:\n",
    "\n",
    "```python\n",
    "fruits = [\"apple\", \"banana\", \"cherry\"]\n",
    "fruits = fruits.append(\"orange\")\n",
    "print(fruits) # Eredmény: None"
   ]
  },
  {
   "cell_type": "markdown",
   "id": "f5eb82d3-c4b4-4808-8e77-2618258e004b",
   "metadata": {},
   "source": [
    "`extend` paranccsal két listát tudunk összefűzni:"
   ]
  },
  {
   "cell_type": "code",
   "execution_count": 14,
   "id": "2e2f3b53-68fb-44c5-b354-9e53e9313df9",
   "metadata": {},
   "outputs": [
    {
     "name": "stdout",
     "output_type": "stream",
     "text": [
      "['apple', 'banana', 'cherry', 'orange', 'lime']\n"
     ]
    }
   ],
   "source": [
    "fruits = [\"apple\", \"banana\", \"cherry\"]\n",
    "fruits.extend([\"orange\", \"lime\"])\n",
    "print(fruits)"
   ]
  },
  {
   "cell_type": "markdown",
   "id": "be1e6f3b-ff92-44b1-ad58-6aa2a786af15",
   "metadata": {},
   "source": [
    "Ahogy korábban láttuk, az összeadás műveletét általánosíthatjuk, és nem csak számok között értelmezhetjük. Példát a szövegek esetén láttunk egy példát, ahol az összeadás két szöveg összefűzését (konkatenációját) jelentette. Hasonlóan, itt is, két lista között is értelmezhetjük az összeadást; ekkor azok összefűzését jelenti. Ez egy egyszerűsítés (syntax sugar) az `extend` függvény használata helyett: "
   ]
  },
  {
   "cell_type": "code",
   "execution_count": 15,
   "id": "ce9f3d11-43be-4baa-b03e-c9bdd80f4226",
   "metadata": {},
   "outputs": [
    {
     "name": "stdout",
     "output_type": "stream",
     "text": [
      "['apple', 'banana', 'cherry', 'orange', 'lime']\n"
     ]
    }
   ],
   "source": [
    "fruits = [\"apple\", \"banana\", \"cherry\"] + [\"orange\", \"lime\"]\n",
    "print(fruits)"
   ]
  },
  {
   "cell_type": "markdown",
   "id": "004fe9a5-b934-4947-9e90-214a8906d776",
   "metadata": {},
   "source": [
    "További az összeadással össefűzött elemek egy új listába kerülnek, és az eredeti listák nem változnak meg:"
   ]
  },
  {
   "cell_type": "code",
   "execution_count": 16,
   "id": "f1e7f92d-7332-4c25-922c-31f4e9fe5a08",
   "metadata": {},
   "outputs": [
    {
     "name": "stdout",
     "output_type": "stream",
     "text": [
      "('apple', 'banana', 'cherry')\n",
      "('carrot', 'broccoli')\n",
      "('apple', 'banana', 'cherry', 'carrot', 'broccoli')\n"
     ]
    }
   ],
   "source": [
    "fruits = \"apple\", \"banana\", \"cherry\"\n",
    "veggies = \"carrot\", \"broccoli\", \n",
    "\n",
    "healthy = fruits + veggies\n",
    "\n",
    "print(fruits)\n",
    "print(veggies)\n",
    "print(healthy)"
   ]
  },
  {
   "cell_type": "markdown",
   "id": "3c1208e5-d7ff-47b8-8692-b8827b308dac",
   "metadata": {},
   "source": [
    "```{admonition} Feladat\n",
    ":class: Important\n",
    "Mit ír ki a következő program?\n",
    "\n",
    "```python\n",
    "fruits = [\"apple\", \"banana\", \"cherry\"]\n",
    "veggies = [\"carrot\", \"broccoli\"]\n",
    "\n",
    "healthy = fruits.extend(veggies)\n",
    "\n",
    "print(fruits)\n",
    "print(veggies)\n",
    "print(healthy)"
   ]
  },
  {
   "cell_type": "markdown",
   "id": "80329336-4f7a-40cf-a54c-4a25a436402e",
   "metadata": {},
   "source": [
    "Vigyázzunk arra, hogy ne keverjük az `append` és `extend` parancsokat:"
   ]
  },
  {
   "cell_type": "code",
   "execution_count": 17,
   "id": "d16d4647-29ee-452b-88b0-f2c3319cdef8",
   "metadata": {},
   "outputs": [
    {
     "name": "stdout",
     "output_type": "stream",
     "text": [
      "['apple', 'banana', 'cherry', 'o', 'r', 'a', 'n', 'g', 'e']\n"
     ]
    }
   ],
   "source": [
    "fruits = [\"apple\", \"banana\", \"cherry\"]\n",
    "fruits.extend(\"orange\")\n",
    "print(fruits)"
   ]
  },
  {
   "cell_type": "markdown",
   "id": "c6043514-8512-499a-8cfe-f05204e0caa1",
   "metadata": {},
   "source": [
    "```{admonition} Feladat\n",
    ":class: Important\n",
    "Próbáljuk megmagyarázni mi történik a fenti kódban! Gondoljunk vissza az automatikus típuskonverzióra, illetve hogy a hogyan konvertálódna egy szöveg listává!"
   ]
  },
  {
   "cell_type": "markdown",
   "id": "15c95983-d700-45ec-9173-b48bc387d60b",
   "metadata": {},
   "source": [
    "Egy példa arra amikor valószínűsíthetően az `append` függvény van használva extend helyett: "
   ]
  },
  {
   "cell_type": "code",
   "execution_count": 18,
   "id": "57b2653c-f682-4079-901a-9afa9337bed8",
   "metadata": {},
   "outputs": [
    {
     "name": "stdout",
     "output_type": "stream",
     "text": [
      "['apple', 'banana', 'cherry', ['orange']]\n"
     ]
    }
   ],
   "source": [
    "fruits = [\"apple\", \"banana\", \"cherry\"]\n",
    "fruits.append([\"orange\"])\n",
    "print(fruits)"
   ]
  },
  {
   "cell_type": "markdown",
   "id": "f019c8fe-53de-43ac-ab54-0f70d9891784",
   "metadata": {},
   "source": [
    "### Lista logikai kifejezésben"
   ]
  },
  {
   "cell_type": "markdown",
   "id": "2d869a0a-08a7-4751-826c-c530ce2c2e9b",
   "metadata": {},
   "source": [
    "Nem üres list `True` értékként értelmezett:"
   ]
  },
  {
   "cell_type": "code",
   "execution_count": 19,
   "id": "a95503c7-bf70-478a-83d1-5d0bc2e0b88b",
   "metadata": {},
   "outputs": [
    {
     "name": "stdout",
     "output_type": "stream",
     "text": [
      "True\n"
     ]
    }
   ],
   "source": [
    "example_list = ['a', 'b']\n",
    "if example_list:\n",
    "   print(\"True\")\n",
    "else:\n",
    "  print(\"False\")"
   ]
  },
  {
   "cell_type": "markdown",
   "id": "1dcb0186-3b8c-4855-9094-64188c25414c",
   "metadata": {},
   "source": [
    "... és ennek fordítottja; üres lista hamisként értelmezett:"
   ]
  },
  {
   "cell_type": "code",
   "execution_count": 20,
   "id": "c5df04e6-fdc2-490f-9986-1640033ddadd",
   "metadata": {},
   "outputs": [
    {
     "name": "stdout",
     "output_type": "stream",
     "text": [
      "False\n"
     ]
    }
   ],
   "source": [
    "example_list = []\n",
    "if example_list:\n",
    "   print(\"True\")\n",
    "else:\n",
    "  print(\"False\")"
   ]
  },
  {
   "cell_type": "markdown",
   "id": "66cfa3e3-e8a4-4481-a781-0656b868b4dd",
   "metadata": {},
   "source": [
    "```{admonition} Feladat\n",
    ":class: Important\n",
    "Mi az eredménye az alábbi kódnak?\n",
    "\n",
    "```python\n",
    "example_list = [False]\n",
    "if example_list:\n",
    "    print(\"True\")\n",
    "else:\n",
    "    print(\"False\")"
   ]
  },
  {
   "cell_type": "markdown",
   "id": "caa99438-5423-4cd6-8033-f059728ba359",
   "metadata": {},
   "source": [
    "## Szótár (`dict`)"
   ]
  },
  {
   "cell_type": "markdown",
   "id": "88031e2c-5f3f-4f1f-92d4-35808c7d9c38",
   "metadata": {},
   "source": [
    "A **szótár**, vagy más néven asszociatív tömb, különböző elemeket tartalmazó gyüjtemény, melynek elemeit az elemhez tartozó kulccsal érhetjük el. A szótár így **kulcs-érték** párokat tartalmaz. A szótár különböző kulcsoknál különböző típusokot adhat: az érték adattípusai kulcsonként változhatnak. Megkötés viszont, hogy a kulcsoknak megfelelő adattípusúaknak kell lennie: mi egyelőre azzal a szabállyal élünk, hogy egyszerű típusnak kell lennie."
   ]
  },
  {
   "cell_type": "markdown",
   "id": "5ac08dd4-413d-4cf9-ad9a-ad6b3a99a4ec",
   "metadata": {},
   "source": [
    "### Szótár létrehozása"
   ]
  },
  {
   "cell_type": "markdown",
   "id": "60c015a0-033b-4033-aba3-146df6174a59",
   "metadata": {},
   "source": [
    "Egy példa szótár létrehozására, ahol a kulcs szöveg:"
   ]
  },
  {
   "cell_type": "code",
   "execution_count": 21,
   "id": "4e09e775-b9d2-4cb8-b030-179595fc96fb",
   "metadata": {},
   "outputs": [
    {
     "name": "stdout",
     "output_type": "stream",
     "text": [
      "{'brand': 'Ford', 'model': 'Mustang', 'year': 1964}\n",
      "<class 'dict'>\n"
     ]
    }
   ],
   "source": [
    "car = {\n",
    "  \"brand\": \"Ford\",\n",
    "  \"model\": \"Mustang\",\n",
    "  \"year\": 1964,\n",
    "}\n",
    "print(car)\n",
    "print(type(car))"
   ]
  },
  {
   "cell_type": "markdown",
   "id": "1518faee-5138-4145-a508-f11c2cdc690f",
   "metadata": {},
   "source": [
    "A szótár tehát hasonlóképpen működik mint a hagyományos szótárak. Például egy angol-magyar szótár esetén, egy adott angol szóhoz megkapható a magyar megfelelője."
   ]
  },
  {
   "cell_type": "markdown",
   "id": "7c499321-08f4-46ef-b545-6ab276970812",
   "metadata": {},
   "source": [
    "```{admonition} Feladat\n",
    ":class: Important\n",
    "Vizsgáljuk meg a szótár létrehozásának szintaxisát. Azonosítsuk a következőeket:\n",
    "- Milyen karakterekkel jelőljük hogy egy listát hozzunk létre?\n",
    "- Milyen módon adjuk meg a kulcsot?\n",
    "- Milyen módon adjuk meg a kulcshoz tartozó értéket?\n",
    "- Mi a szótár típus neve a Pythonban (`type` eredménye)?"
   ]
  },
  {
   "cell_type": "markdown",
   "id": "1ab8616a-88fd-4400-9b98-395dcb0f1235",
   "metadata": {},
   "source": [
    "Többszörös kulcs esetén az utolsó előfordulás lesz használva:"
   ]
  },
  {
   "cell_type": "code",
   "execution_count": 22,
   "id": "72a17073-5ccb-49ec-a8f4-b3062ee863e1",
   "metadata": {},
   "outputs": [
    {
     "name": "stdout",
     "output_type": "stream",
     "text": [
      "{'brand': 'Ford', 'model': 'Mustang', 'year': 2020}\n"
     ]
    }
   ],
   "source": [
    "car = {\n",
    "  \"brand\": \"Ford\",\n",
    "  \"model\": \"Mustang\",\n",
    "  \"year\": 1964,\n",
    "  \"year\": 2020\n",
    "}\n",
    "print(car)"
   ]
  },
  {
   "cell_type": "markdown",
   "id": "fe53e408-6a87-455f-855b-056c233974ef",
   "metadata": {},
   "source": [
    "Nem csak szöveg, hanem más típus is szerepelhet kulcsként:"
   ]
  },
  {
   "cell_type": "code",
   "execution_count": 23,
   "id": "6174fc85-c857-464b-a2c2-6b196aafee2d",
   "metadata": {},
   "outputs": [
    {
     "name": "stdout",
     "output_type": "stream",
     "text": [
      "{0: 'nulla', 1: 'egy', 2: 'kettő'}\n"
     ]
    }
   ],
   "source": [
    "numbers = {\n",
    "  0: \"nulla\",\n",
    "  1: \"egy\",\n",
    "  2: \"kettő\",\n",
    "}\n",
    "print(numbers)"
   ]
  },
  {
   "cell_type": "markdown",
   "id": "31db8c60-f726-4be4-a44d-9d678f277bcf",
   "metadata": {},
   "source": [
    "A kulcsoknak nem kell azonos típusúaknak lennie (de úgynevezett hashable típusúnak kell lennie, mellyel most nem foglalkozunk, és elfogadjuk, hogy egyszerű típusnak kell lennie):"
   ]
  },
  {
   "cell_type": "code",
   "execution_count": 24,
   "id": "348abe2f-ab61-4dd3-8dda-1ebd07acad67",
   "metadata": {},
   "outputs": [
    {
     "name": "stdout",
     "output_type": "stream",
     "text": [
      "{0: 'nulla', 'one': 'egy', 2: 'kettő'}\n"
     ]
    }
   ],
   "source": [
    "numbers = {\n",
    "  0: \"nulla\",\n",
    "  \"one\": \"egy\",\n",
    "  2: \"kettő\",\n",
    "}\n",
    "print(numbers)"
   ]
  },
  {
   "cell_type": "markdown",
   "id": "e2a628ed-f79e-4b84-89ef-7c05d4022aef",
   "metadata": {},
   "source": []
  },
  {
   "cell_type": "markdown",
   "id": "8f9fe4dc-1fdb-472d-9b5e-bbb265e922c7",
   "metadata": {},
   "source": [
    "Végül nézzük meg az üres szótárat, melynek nincs egyetlen kulcs-érték párja sem:"
   ]
  },
  {
   "cell_type": "code",
   "execution_count": 25,
   "id": "d2dd998e-b873-422f-871a-c187c6a7d66d",
   "metadata": {},
   "outputs": [
    {
     "name": "stdout",
     "output_type": "stream",
     "text": [
      "{}\n"
     ]
    }
   ],
   "source": [
    "empty_dict = {}\n",
    "print(empty_dict)"
   ]
  },
  {
   "cell_type": "markdown",
   "id": "63d00b91-7288-4ca2-8e2c-f217a0826f13",
   "metadata": {},
   "source": [
    "### Műveletek szótáron"
   ]
  },
  {
   "cell_type": "markdown",
   "id": "aa721385-17ac-48d2-93bc-4696320ad7ee",
   "metadata": {},
   "source": [
    "Elemhez való hozzáférés a kulcson keresztül lehetséges a `[` és `]` használatával hasonlóan a lista szintaxisához:"
   ]
  },
  {
   "cell_type": "code",
   "execution_count": 26,
   "id": "fb6f7cad-6d3a-4768-b4a9-9fb7326d7236",
   "metadata": {},
   "outputs": [
    {
     "name": "stdout",
     "output_type": "stream",
     "text": [
      "Ford\n"
     ]
    }
   ],
   "source": [
    "car = {\n",
    "  \"brand\": \"Ford\",\n",
    "  \"model\": \"Mustang\",\n",
    "  \"year\": 1964,\n",
    "}\n",
    "print(car['brand'])"
   ]
  },
  {
   "cell_type": "markdown",
   "id": "df87ccb9-4873-4248-9741-893a17408516",
   "metadata": {},
   "source": [
    "Az elem hozzáférése után az értéket is módosíthatjuk:"
   ]
  },
  {
   "cell_type": "code",
   "execution_count": 27,
   "id": "0fbb3e52-644f-483b-b2a7-deb7b729a78f",
   "metadata": {},
   "outputs": [
    {
     "name": "stdout",
     "output_type": "stream",
     "text": [
      "{'brand': 'Ford', 'model': 'Focus', 'year': 1964}\n"
     ]
    }
   ],
   "source": [
    "car = {\n",
    "  \"brand\": \"Ford\",\n",
    "  \"model\": \"Mustang\",\n",
    "  \"year\": 1964,\n",
    "}\n",
    "\n",
    "car[\"model\"] = \"Focus\"\n",
    "print(car)"
   ]
  },
  {
   "cell_type": "markdown",
   "id": "24016ef1-3c2e-4d3a-af28-878beb8e8642",
   "metadata": {},
   "source": [
    "```{admonition} Kiegészítő anyag\n",
    ":class: note\n",
    "A list esetén a matemtaikai leképzést a következő alakban adtuk meg korábban: \n",
    "\n",
    "$\\mathbb{Z} \\rightarrow \\mathbb{D}$.\n",
    "\n",
    "A szótár esetén az index szerepét, mely csak egész számot vehet fel, a szöveg veheti át, így a szótár a következő leképezéssel megadható:\n",
    "\n",
    "$\\mathbb{S} \\rightarrow \\mathbb{D}$,\n",
    "\n",
    "ahol $\\mathbb{S}$ a szövegek halmaza. Valójában bármilyen típus szerepelhet kulcsként, így pontosabb az alábbi kifejezés:\n",
    "\n",
    "$\\mathbb{H} \\rightarrow \\mathbb{D}$,\n",
    "\n",
    "ahol $\\mathbb{H} \\subset \\mathbb{D}$ úgynevezett _hashable_ adattípusok halmaza. Tehát a szótárra a lista általánosításaként is tekinthetünk. Bizonyítandó, az alábbi kódban egész számokat használunk kulcsként, majd egy elemére hivatkozunk. Vegyük észre, hogy az elem elérése szintaktikailag ugyanúgy nézz ki mint a lista esetén:\n",
    "\n",
    "```python\n",
    "car = {\n",
    "  0: \"Ford\",\n",
    "  1: \"Mustang\",\n",
    "  2: 1964,\n",
    "}\n",
    "print(car[0])"
   ]
  },
  {
   "cell_type": "markdown",
   "id": "4a87d797-d485-447e-b39d-9c8e4fdf7829",
   "metadata": {},
   "source": [
    "Új elemet a szótárhoz, vagyis új kulcs-érték párt, az új kulcsra való hivatkozással tudjuk megtenni:"
   ]
  },
  {
   "cell_type": "code",
   "execution_count": 28,
   "id": "61ca90f3-0150-4560-afd1-812024df6cf7",
   "metadata": {},
   "outputs": [
    {
     "name": "stdout",
     "output_type": "stream",
     "text": [
      "{'brand': 'Ford', 'model': 'Mustang', 'year': 1964, 'owner': 'Anna'}\n"
     ]
    }
   ],
   "source": [
    "car = {\n",
    "  \"brand\": \"Ford\",\n",
    "  \"model\": \"Mustang\",\n",
    "  \"year\": 1964,\n",
    "}\n",
    "car['owner'] = \"Anna\"\n",
    "print(car)"
   ]
  },
  {
   "cell_type": "markdown",
   "id": "34c06d4a-7a9d-4f42-bb1c-75959ae255f8",
   "metadata": {},
   "source": [
    "Ez azt jelenti, hogy új szótárat szintaktikailag üres szótárból is feltölthetünk. Például az alábbi kód ugyanazt a szótárt hozza létre, mint feljebb:"
   ]
  },
  {
   "cell_type": "code",
   "execution_count": 29,
   "id": "a1abf872-263c-463f-8c15-a0da31837151",
   "metadata": {},
   "outputs": [
    {
     "name": "stdout",
     "output_type": "stream",
     "text": [
      "{'brand': 'Ford', 'model': 'Mustang', 'year': '1964', 'owner': 'Anna'}\n"
     ]
    }
   ],
   "source": [
    "car = {}\n",
    "car[\"brand\"] = \"Ford\"\n",
    "car[\"model\"] = \"Mustang\"\n",
    "car[\"year\"] = \"1964\"\n",
    "car[\"owner\"] = \"Anna\"\n",
    "\n",
    "print(car)"
   ]
  },
  {
   "cell_type": "markdown",
   "id": "465bbdba-a69f-4b30-ab46-1fae85ed431f",
   "metadata": {},
   "source": [
    "A szótár típuson lévő `pop` függvény segítségével törölhető egy kulcs-érték pár:"
   ]
  },
  {
   "cell_type": "code",
   "execution_count": 30,
   "id": "3ea3a571-b065-4b37-a88c-299f7d0e50a6",
   "metadata": {},
   "outputs": [
    {
     "name": "stdout",
     "output_type": "stream",
     "text": [
      "{'brand': 'Ford', 'model': 'Mustang'}\n"
     ]
    }
   ],
   "source": [
    "car = {\n",
    "  \"brand\": \"Ford\",\n",
    "  \"model\": \"Mustang\",\n",
    "  \"year\": 1964,\n",
    "}\n",
    "\n",
    "car.pop('year')\n",
    "print(car)"
   ]
  },
  {
   "cell_type": "markdown",
   "id": "2c281f59-3589-47a7-9a9d-1adb03e1db31",
   "metadata": {},
   "source": [
    "A fenti példában a `year` kulcsot töröltük."
   ]
  },
  {
   "cell_type": "markdown",
   "id": "708aae8a-7734-493e-81c1-79595f0fcd4f",
   "metadata": {},
   "source": [
    "```{admonition} Figyelem\n",
    ":class: warning\n",
    "Ha nem létező elemet próbálunk törölni hibát kapunk, például:\n",
    "\n",
    "```python\n",
    "car = {\n",
    "  \"brand\": \"Ford\",\n",
    "  \"model\": \"Mustang\",\n",
    "  \"year\": 1964,\n",
    "}\n",
    "\n",
    "car.pop('owner')"
   ]
  },
  {
   "cell_type": "markdown",
   "id": "9740d53a-f961-4047-ba0c-67344a5ee7a2",
   "metadata": {},
   "source": [
    "### Szótár logikai kifejezésben"
   ]
  },
  {
   "cell_type": "markdown",
   "id": "f6cd3547-7918-4f33-922a-eab927f92585",
   "metadata": {},
   "source": [
    "Nem üres szótár True értéként értelmezett:"
   ]
  },
  {
   "cell_type": "code",
   "execution_count": 31,
   "id": "51eab8bb-0383-4b20-aeb3-99397056b958",
   "metadata": {},
   "outputs": [
    {
     "name": "stdout",
     "output_type": "stream",
     "text": [
      "True\n"
     ]
    }
   ],
   "source": [
    "example_list = {'a': 1, 'b': 2}\n",
    "if example_list:\n",
    "   print(\"True\")\n",
    "else:\n",
    "  print(\"False\")"
   ]
  },
  {
   "cell_type": "markdown",
   "id": "41a4c93b-3163-460a-9f3b-aa471e0dfdc5",
   "metadata": {},
   "source": [
    "Üres szótár pedig hamis:"
   ]
  },
  {
   "cell_type": "code",
   "execution_count": 32,
   "id": "a08b6d1a-ff31-477d-8aac-3a52847f317e",
   "metadata": {},
   "outputs": [
    {
     "name": "stdout",
     "output_type": "stream",
     "text": [
      "False\n"
     ]
    }
   ],
   "source": [
    "example_list = {}\n",
    "if example_list:\n",
    "   print(\"True\")\n",
    "else:\n",
    "  print(\"False\")"
   ]
  },
  {
   "cell_type": "markdown",
   "id": "55c19dba-445a-4212-b90d-3dfaa46134be",
   "metadata": {},
   "source": [
    "## Listák és szótárak egymásba ágyazva"
   ]
  },
  {
   "cell_type": "markdown",
   "id": "8ceadce3-63bd-49db-aaf3-dabd8d6e4565",
   "metadata": {},
   "source": [
    "Mivel a szótár egy típus szerepelhet mint a lista egy eleme. Nézzük meg az alábbi példát, ahol egy listába tettünk két szótárat. A lista elemére hivatkozva a megfelelő szótárt kapjuk vissza:"
   ]
  },
  {
   "cell_type": "code",
   "execution_count": 33,
   "id": "e8881373-7c9e-4345-8113-7f54f1de6486",
   "metadata": {},
   "outputs": [
    {
     "name": "stdout",
     "output_type": "stream",
     "text": [
      "[{'brand': 'Ford', 'model': 'Mustang', 'year': 1964}, {'brand': 'Ford', 'model': 'Focus', 'year': 2018}]\n",
      "{'brand': 'Ford', 'model': 'Mustang', 'year': 1964}\n",
      "{'brand': 'Ford', 'model': 'Focus', 'year': 2018}\n"
     ]
    }
   ],
   "source": [
    "cars = [{\n",
    "  \"brand\": \"Ford\",\n",
    "  \"model\": \"Mustang\",\n",
    "  \"year\": 1964,\n",
    "}, {\n",
    "  \"brand\": \"Ford\",\n",
    "  \"model\": \"Focus\",\n",
    "  \"year\": 2018,\n",
    "}]\n",
    "\n",
    "print(cars)    # a list kiírása\n",
    "print(cars[0]) # a lista első szótárának kiírása\n",
    "print(cars[1]) # a lista második szótárának kiírása"
   ]
  },
  {
   "cell_type": "markdown",
   "id": "14940847-3108-47b4-9da7-4a6e0e056c0c",
   "metadata": {},
   "source": [
    "Kérdés, hogy hogyan tudunk a listában lévő szótár egyik kulcsára hivatkozni. Először lekérdezhejtük a szótárat, és beletehetjük azt egy változóba. Ezt a változót használhatjuk ezután, hogy a szótár egyik kulcsára hivatkozzunk:"
   ]
  },
  {
   "cell_type": "code",
   "execution_count": 34,
   "id": "42e153e9-820e-49a7-a083-c99bf30905b7",
   "metadata": {},
   "outputs": [
    {
     "name": "stdout",
     "output_type": "stream",
     "text": [
      "1964\n"
     ]
    }
   ],
   "source": [
    "cars = [{\n",
    "  \"brand\": \"Ford\",\n",
    "  \"model\": \"Mustang\",\n",
    "  \"year\": 1964,\n",
    "}, {\n",
    "  \"brand\": \"Ford\",\n",
    "  \"model\": \"Focus\",\n",
    "  \"year\": 2018,\n",
    "}]\n",
    "\n",
    "mustang = cars[0]\n",
    "\n",
    "print(mustang[\"year\"])"
   ]
  },
  {
   "cell_type": "markdown",
   "id": "88bf72ec-c699-4345-ab67-f2c3e25528b3",
   "metadata": {},
   "source": [
    "A kód azonban egyszerűsíthető: a `mustang` változó elhagyható az alábbi módon: "
   ]
  },
  {
   "cell_type": "code",
   "execution_count": 35,
   "id": "dff9a2c7-5607-4189-9702-8053e48052bf",
   "metadata": {},
   "outputs": [
    {
     "name": "stdout",
     "output_type": "stream",
     "text": [
      "1964\n"
     ]
    }
   ],
   "source": [
    "cars = [{\n",
    "  \"brand\": \"Ford\",\n",
    "  \"model\": \"Mustang\",\n",
    "  \"year\": 1964,\n",
    "}, {\n",
    "  \"brand\": \"Ford\",\n",
    "  \"model\": \"Focus\",\n",
    "  \"year\": 2018,\n",
    "}]\n",
    "\n",
    "print(cars[0][\"year\"])"
   ]
  },
  {
   "cell_type": "markdown",
   "id": "5dc84fdd-4679-4542-821f-81b86a3cf0e2",
   "metadata": {},
   "source": [
    "A fenti kód utolsó sorának `cars[0][\"year\"]` kifejezésében a következő történik:\n",
    "\n",
    "1. `cars[0]` visszaadja a lista első szótárát,\n",
    "2. ezután ezen a szótáron a `year` kulcsot lekérdezzük,\n",
    "3. és az eredmény kiírásra kerül.\n",
    "\n",
    "Úgy is elképzelhetjük, hogy a `cars[0]` eredménye egy ideiglenes változóba kerül, melyre a `[\"year\"]` hivatkozik."
   ]
  },
  {
   "cell_type": "markdown",
   "id": "1b5c8edb-06c7-46dc-889a-bf143e8dab5f",
   "metadata": {},
   "source": [
    "Mivel a lista is egy típus, ezért lehet érték egy szótárban, például:"
   ]
  },
  {
   "cell_type": "code",
   "execution_count": 36,
   "id": "22656d59-637f-4aad-b7aa-bb43a8cfd8e8",
   "metadata": {},
   "outputs": [
    {
     "name": "stdout",
     "output_type": "stream",
     "text": [
      "{'brand': 'Ford', 'model': 'Mustang', 'year': 1964, 'exam': [1992, 1998, 2005, 2009]}\n"
     ]
    }
   ],
   "source": [
    "car = {\n",
    "  \"brand\": \"Ford\",\n",
    "  \"model\": \"Mustang\",\n",
    "  \"year\": 1964,\n",
    "  \"exam\": [1992, 1998, 2005, 2009]\n",
    "}\n",
    "\n",
    "print(car)"
   ]
  },
  {
   "cell_type": "markdown",
   "id": "58adec52-2641-427a-a45b-4288d0293ac5",
   "metadata": {},
   "source": [
    "Hasonlóan a fentiekhez, a car szótár exam kulcsához tartozó lista második elemének a lekérdezése megfogalmazható a következőképpen:"
   ]
  },
  {
   "cell_type": "code",
   "execution_count": 37,
   "id": "0ad8d28c-b39e-49be-b5dc-7b18a2654fb7",
   "metadata": {},
   "outputs": [
    {
     "name": "stdout",
     "output_type": "stream",
     "text": [
      "1998\n"
     ]
    }
   ],
   "source": [
    "print(car[\"exam\"][1])"
   ]
  },
  {
   "cell_type": "markdown",
   "id": "a047e90f-9f53-46bb-8126-12be69081326",
   "metadata": {},
   "source": [
    "```{admonition} Feladat\n",
    ":class: Important\n",
    "Az alábbi kódrészletben a `students` lista három szótárat tartalmaz. A szótárak a tanulók neveit a `name` kulcsban, valamint a zh-n elért eredményeiket a `tests` kulcsban tárolja. A `tests` kulcshoz tartozó lista a zh-k érdemjegyei a zh-k sorrendjében. Adjunk kódot ami választ ad a következő kérdésekre:\n",
    "\n",
    "- Mi a `students` lista első szótárában található diák neve?\n",
    "- Mi a `students` lista utolsó szótárában található diák neve?\n",
    "- Mi Béla második zh-jának az eredménye?\n",
    "- Mi Anna utolsó zh-jának az eredménye?\n",
    "\n",
    "\n",
    "```python\n",
    "students = [\n",
    "    {\"name\": \"Anna\", \"tests\": [4, 4, 5]},\n",
    "    {\"name\": \"Béla\", \"tests\": [3, 2, 4]},\n",
    "    {\"name\": \"Cecíllia\", \"tests\": [3, 2, 5]}\n",
    "]"
   ]
  },
  {
   "cell_type": "markdown",
   "id": "08490034-e5b2-4fe4-8dfb-7b3dfd4b11d4",
   "metadata": {},
   "source": [
    "## Vektor (`tuple`)"
   ]
  },
  {
   "cell_type": "markdown",
   "id": "17616c72-18c9-4127-8d25-873ea50a4953",
   "metadata": {},
   "source": [
    "A `tuple` véges elemű rendezett elemek listája. Nagyon hasonló a listához, a legfontosabb különbség, hogy a `tuple` elemei nem változtathatóak meg. Így ez az adatszerkezet valamilyen elemek statikus gyüjteménye. Akkor használatos, amikor előre ismert hány és milyen elemet akarunk tárolni; ilyen eset például amikor egy függvénynek több visszatérési értéke van."
   ]
  },
  {
   "cell_type": "markdown",
   "id": "a73ce5e3-10c6-4c6c-99d4-7d1d52eca754",
   "metadata": {},
   "source": [
    "### `tuple` létrehozása"
   ]
  },
  {
   "cell_type": "markdown",
   "id": "de89da45-9211-41a1-a4ce-9ced5e60b2a8",
   "metadata": {},
   "source": [
    "Példa egy tuple létrehozására:"
   ]
  },
  {
   "cell_type": "code",
   "execution_count": 38,
   "id": "e8f7f210-eae7-4598-bb6a-0191f9095c8f",
   "metadata": {},
   "outputs": [
    {
     "name": "stdout",
     "output_type": "stream",
     "text": [
      "<class 'tuple'>\n"
     ]
    }
   ],
   "source": [
    "fruits = (\"apple\", \"banana\", \"cherry\")\n",
    "print(type(fruits))"
   ]
  },
  {
   "cell_type": "markdown",
   "id": "e3428226-d71d-47d1-8902-b42bfcfff154",
   "metadata": {},
   "source": [
    "```{admonition} Feladat\n",
    ":class: Important\n",
    "Vizsgáljuk meg a `tuple` létrehozásának szintaxisát. Azonosítsuk a következőeket:\n",
    "- Milyen karakterekkel jelőljük hogy egy `tuple`t hozzunk létre?\n",
    "- Milyen módon soroljuk fel a tuple elemeit?"
   ]
  },
  {
   "cell_type": "markdown",
   "id": "1e8ce1ca-1b82-469c-8860-2c37b3ff31e3",
   "metadata": {},
   "source": [
    "A tuple a listához hasonlóan bármilyen más típust tárolhat, így listát, vagy szótárat is:"
   ]
  },
  {
   "cell_type": "code",
   "execution_count": 39,
   "id": "f599f8c4-7376-4c44-bc12-c5b660f67723",
   "metadata": {},
   "outputs": [
    {
     "name": "stdout",
     "output_type": "stream",
     "text": [
      "(1, 'two', ['three', 'four'])\n"
     ]
    }
   ],
   "source": [
    "numbers = (1, \"two\", [\"three\", \"four\"])\n",
    "print(numbers)"
   ]
  },
  {
   "cell_type": "markdown",
   "id": "1c4c36bd-9717-46ac-9063-62515514cb94",
   "metadata": {},
   "source": [
    "Korábban tárgyaltuk a többszörös értékadást, mely így nézett ki:"
   ]
  },
  {
   "cell_type": "code",
   "execution_count": 40,
   "id": "de2243bc-f4dd-4bdd-a91a-e61e3e11e172",
   "metadata": {},
   "outputs": [
    {
     "name": "stdout",
     "output_type": "stream",
     "text": [
      "apple banana cherry\n"
     ]
    }
   ],
   "source": [
    "fruit1, fruit2, fruit3 = \"apple\", \"banana\", \"cherry\"\n",
    "print(fruit1, fruit2, fruit3)"
   ]
  },
  {
   "cell_type": "markdown",
   "id": "c46f9ed3-bbaa-40d9-bc06-fa3dd7d3cb55",
   "metadata": {},
   "source": [
    "Ha az `\"apple\", \"banana\", \"cherry\"` oldalt egy változóba irányítjuk, akkor annak típusa `tuple` lesz:"
   ]
  },
  {
   "cell_type": "code",
   "execution_count": 41,
   "id": "2fbac550-a984-47ea-913d-76a5727a9a47",
   "metadata": {},
   "outputs": [
    {
     "name": "stdout",
     "output_type": "stream",
     "text": [
      "('apple', 'banana', 'cherry')\n",
      "<class 'tuple'>\n"
     ]
    }
   ],
   "source": [
    "fruits = \"apple\", \"banana\", \"cherry\"\n",
    "print(fruits)\n",
    "print(type(fruits))"
   ]
  },
  {
   "cell_type": "markdown",
   "id": "fb415f2c-c409-4bee-ac20-7b48fe7f8b0f",
   "metadata": {},
   "source": [
    "Hasonlóan, korábban láttunk példát arra, hogy egy függvénye több visszatérési értékkel rendelkezik, például:"
   ]
  },
  {
   "cell_type": "code",
   "execution_count": 42,
   "id": "bb9c6f26-500e-4eaa-9669-cb64a4b50a5e",
   "metadata": {},
   "outputs": [],
   "source": [
    "def circle_params(r):\n",
    "  K = 2*r*3.14145\n",
    "  T = r**2*3.14145\n",
    "  return K, T\n",
    "\n",
    "K, T = circle_params(10)"
   ]
  },
  {
   "cell_type": "markdown",
   "id": "2d945c7a-90be-45bb-858b-9a8e41fd7528",
   "metadata": {},
   "source": [
    "Ezekután nem meglepő, hogy a visszatérsi típus, ha nincs tagonként kifejtve, akkor `tuple`t kapunk:"
   ]
  },
  {
   "cell_type": "code",
   "execution_count": 43,
   "id": "1094d74c-0ede-448d-b7e5-bf5f0877be7a",
   "metadata": {},
   "outputs": [
    {
     "name": "stdout",
     "output_type": "stream",
     "text": [
      "(62.82899999999999, 314.145)\n",
      "<class 'tuple'>\n"
     ]
    }
   ],
   "source": [
    "def circle_params(r):\n",
    "  K = 2*r*3.14145\n",
    "  T = r**2*3.14145\n",
    "  return K, T\n",
    "\n",
    "result = circle_params(10)\n",
    "\n",
    "print(result)\n",
    "print(type(result))"
   ]
  },
  {
   "cell_type": "markdown",
   "id": "1db024b9-0944-4b86-b0a4-996844a5d657",
   "metadata": {},
   "source": [
    "```{admonition} Figyelem\n",
    ":class: warning\n",
    "Ha a függvénynek több visszatérési értéke van, akkor a függvény hívásakor, vagy nem adunk meg visszatérési értéket, vagy egyet adunk meg, ami tuple típusú lesz, vagy mindegyiket meg kell adni. Nincs lehetőség csak részben megadni bal oldali változót, ezért az alábbi kód utolsó sorában hibát fogunk kapni.\n",
    "\n",
    "```python\n",
    "def circle_params(r):\n",
    "  K = 2*r*3.14145\n",
    "  T = r**2*3.14145\n",
    "  d = 2*r\n",
    "  return K, T, d\n",
    "\n",
    "circle_params(5) # ok\n",
    "K, T, d = circle_params(5) # ok\n",
    "result = circle_params(5) # ok\n",
    "K, result = circle_params(5) # hiba: ValueError: too many values to unpack (expected 2)"
   ]
  },
  {
   "cell_type": "markdown",
   "id": "d1e712fa-92ca-4290-b9fc-e59a6425e3f1",
   "metadata": {},
   "source": [
    "### Műveletek `tuple`n"
   ]
  },
  {
   "cell_type": "markdown",
   "id": "c5109daf-520d-4077-b95e-5e9a7effe80b",
   "metadata": {},
   "source": [
    "A `tuple` hosszát a szokásos módon tudjuk lekérdezni:"
   ]
  },
  {
   "cell_type": "code",
   "execution_count": 44,
   "id": "04e84c95-e878-4ba4-8f0a-c2f6273021c6",
   "metadata": {},
   "outputs": [
    {
     "name": "stdout",
     "output_type": "stream",
     "text": [
      "('apple', 'banana', 'cherry')\n",
      "3\n"
     ]
    }
   ],
   "source": [
    "fruits = \"apple\", \"banana\", \"cherry\"\n",
    "\n",
    "print(fruits)\n",
    "print(len(fruits))"
   ]
  },
  {
   "cell_type": "markdown",
   "id": "f0cc7eb8-cd42-489b-8611-8d81dc88fc1b",
   "metadata": {},
   "source": [
    "A tuple egy elemét a listához megszokott módon tudjuk elérni: "
   ]
  },
  {
   "cell_type": "code",
   "execution_count": 45,
   "id": "fb807ce5-3c19-447f-853e-0b03f4c410e7",
   "metadata": {},
   "outputs": [
    {
     "name": "stdout",
     "output_type": "stream",
     "text": [
      "apple\n",
      "cherry\n"
     ]
    }
   ],
   "source": [
    "fruits = \"apple\", \"banana\", \"cherry\"\n",
    "\n",
    "print(fruits[0])\n",
    "print(fruits[-1])"
   ]
  },
  {
   "cell_type": "markdown",
   "id": "f06d39e8-f90a-4e3e-a8e3-237822def112",
   "metadata": {},
   "source": [
    "```{admonition} Figyelem\n",
    ":class: warning\n",
    "Ahogy korábban említettük a list elemei nem megváltoztathatóak, így egy elemének hivatkozása az értékadás bal oldalán nem szerepelhet. Például az alábbi kód futtatása esetén hibát kapunk:\n",
    "\n",
    "```python\n",
    "fruits = \"apple\", \"banana\", \"cherry\"\n",
    "fruits[0] = \"apricot\" # hiba: TypeError: 'tuple' object does not support item assignment"
   ]
  },
  {
   "cell_type": "markdown",
   "id": "277d1bc3-1dc0-4835-94a6-7266a1b9cfec",
   "metadata": {},
   "source": [
    "Lehetőség van slicing típusú elérésre is ugynolyan módon, ahogy a lista esetén már láttuk:"
   ]
  },
  {
   "cell_type": "code",
   "execution_count": 46,
   "id": "ff70e742-8212-4c43-a620-4b32a3ddc690",
   "metadata": {},
   "outputs": [
    {
     "name": "stdout",
     "output_type": "stream",
     "text": [
      "Típus: <class 'tuple'>\n",
      "('Programming', 'is')\n",
      "('is', 'fun')\n",
      "('is', 'fun', '!')\n",
      "('Programming', 'is', 'fun')\n",
      "('Programming', 'is', 'fun')\n"
     ]
    }
   ],
   "source": [
    "fun_str = (\"Programming\", \"is\", \"fun\", \"!\")\n",
    "print('Típus:', type(fun_str))\n",
    "print(fun_str[0:2])   # 0 és 2 indeszek közötti elemek (a 2-es indexű elem nem tartozik bele)\n",
    "print(fun_str[1:3])   # 1 és 3 indeszek közötti elemek (a 2-es indexű elem nem tartozik bele)\n",
    "print(fun_str[1:])    # elemek az egyes indexű elemtől az utolsó elemig\n",
    "print(fun_str[0:-1])  # elemek 0-tól az utolsó indeszig (az utolsó elem nem tartozik bele)\n",
    "print(fun_str[:-1])   # ha nem adunk meg kezdő ideszeket, akkor az automatikusan 0. eredmény ugyanaz mint az előző sorban`"
   ]
  },
  {
   "cell_type": "markdown",
   "id": "256532a2-0454-4200-ad32-c6cd027e759a",
   "metadata": {},
   "source": [
    "`tuple`ket az összeadással tudjuk összefűzni, hasonlóan a listához: "
   ]
  },
  {
   "cell_type": "code",
   "execution_count": 47,
   "id": "3b4cc91f-7d15-4606-aa37-c0ff3040e296",
   "metadata": {},
   "outputs": [
    {
     "name": "stdout",
     "output_type": "stream",
     "text": [
      "('apple', 'banana', 'cherry', 'apple', 'banana', 'cherry')\n"
     ]
    }
   ],
   "source": [
    "fruits = \"apple\", \"banana\", \"cherry\"\n",
    "veggies = \"apple\", \"banana\", \"cherry\"\n",
    "\n",
    "healthy = fruits + veggies\n",
    "print(healthy)"
   ]
  },
  {
   "cell_type": "markdown",
   "id": "76b3b1ad-91b8-4c56-bf83-8b4b8f8c0006",
   "metadata": {},
   "source": [
    "```{admonition} Figyelem\n",
    ":class: warning\n",
    "A list esetén használt `extend` vagy `append` nem elérhető, ezért a következő kód hibát fog adni. Ennek fő oka, hogy ezek a függvények a listát magát változtatják meg, és mint már említettük, a `tuple` megváltoztathatatlan.\n",
    "\n",
    "```python\n",
    "fruits = \"apple\", \"banana\", \"cherry\"\n",
    "veggies = \"apple\", \"banana\", \"cherry\"\n",
    "\n",
    "fruits.append(veggies) # hiba: AttributeError: 'tuple' object has no attribute 'append'"
   ]
  },
  {
   "cell_type": "markdown",
   "id": "cd77a86f-b92d-4af6-97cd-35b62f35ac31",
   "metadata": {},
   "source": [
    "## _Mutable_ és _immutable_ típusok"
   ]
  },
  {
   "cell_type": "markdown",
   "id": "43f54b72-427b-4069-a8af-bdab1b481552",
   "metadata": {},
   "source": [
    "Nézzük meg a következő példát:"
   ]
  },
  {
   "cell_type": "code",
   "execution_count": 48,
   "id": "1c848100-35e5-4931-a3ea-3b7b1c7a4944",
   "metadata": {},
   "outputs": [
    {
     "name": "stdout",
     "output_type": "stream",
     "text": [
      "Programming is fun!\n",
      "Programming is fun!\n",
      "Programming is fun!\n",
      "Programming is not fun\n"
     ]
    }
   ],
   "source": [
    "fun = 'Programming is fun!'\n",
    "not_fun = fun\n",
    "\n",
    "print(fun)\n",
    "print(not_fun)\n",
    "\n",
    "not_fun = 'Programming is not fun'\n",
    "\n",
    "print(fun)\n",
    "print(not_fun)"
   ]
  },
  {
   "cell_type": "markdown",
   "id": "d70bdb18-773a-40b6-a5b8-4b9431931916",
   "metadata": {},
   "source": [
    "Minden a megszokottak szerint történik: lértehozunk a `fun` változót, majd annak értékét odaadjuk a `not_fun` változónak. Ezután a `not_fun` változót felülírjuk. Ezután nézzük meg ugyanezt a kódot listákkal:"
   ]
  },
  {
   "cell_type": "code",
   "execution_count": 49,
   "id": "0f08caf4-7bac-4c4b-b99e-0812ca2b65a9",
   "metadata": {},
   "outputs": [
    {
     "name": "stdout",
     "output_type": "stream",
     "text": [
      "['Programming', 'is', 'fun', '!']\n",
      "['Programming', 'is', 'fun', '!']\n",
      "['Programming', 'is not', 'fun', '!']\n",
      "['Programming', 'is not', 'fun', '!']\n"
     ]
    }
   ],
   "source": [
    "fun = ['Programming', 'is', 'fun', '!']\n",
    "not_fun = fun\n",
    "print(fun)\n",
    "print(not_fun)\n",
    "\n",
    "not_fun[1] = 'is not' # változtatás\n",
    "\n",
    "print(fun)\n",
    "print(not_fun)"
   ]
  },
  {
   "cell_type": "markdown",
   "id": "52e3082f-5a76-439e-8a7d-a4a8f265dab7",
   "metadata": {},
   "source": [
    "Meglepő módon azt tapasztaljuk, hogy a `not_fun` változón végzett változtatás, lásd `not_fun[1] = 'is not'`, hatással van a `fun` változóra is."
   ]
  },
  {
   "cell_type": "markdown",
   "id": "36e9ae36-40a1-4e1c-9181-edc54f63f776",
   "metadata": {},
   "source": [
    "Mi történik? A megoldás, hogy a `fun` változó nem magát a listát, hanem a listára mutató referenciát tartalmazza. Mit jelent ez? A lista valamilyen memóriaterületen foglal helyet. Ennek a memóriaterületnek van valamilyen címe. Amikor egy lista definíció az értékadás jobb oldalán szerepel, a lista a memóriában létrejön, és ennek a memóriának a címe kerül az értékadás bal oldalán található változóban értékadásra. Ez a cím nem látható: a Python elrejti előlünk, és a listát úgy használjuk, mintha a változó maga lenne a lista. Azonban a `not_fun = fun` értékadáskor a `fun` változóban található referencia kerül a `not_fun` változóba, így a `fun` és `not_fun` változók tulajdonképpen ugyanarra a listára mutatnak. Ezért az egyiken történő változtatás hatással van a másikra is!"
   ]
  },
  {
   "cell_type": "markdown",
   "id": "9429113b-f8bc-449a-bbc8-c5bc45031cc9",
   "metadata": {},
   "source": [
    "Egyik következménye a fentieknek, hogy a `not_fun` változón végzett egyéb műveletek is hatással vannak a `fun` változóra, így például konkatencáiónál:"
   ]
  },
  {
   "cell_type": "code",
   "execution_count": 50,
   "id": "130216bb-24d9-4f25-ad36-f50e3135715c",
   "metadata": {},
   "outputs": [
    {
     "name": "stdout",
     "output_type": "stream",
     "text": [
      "['Programming', 'is', 'fun', '!']\n",
      "['Programming', 'is', 'fun', '!']\n",
      "['Programming', 'is', 'fun', '!', 'Not really...']\n",
      "['Programming', 'is', 'fun', '!', 'Not really...']\n"
     ]
    }
   ],
   "source": [
    "fun = ['Programming', 'is', 'fun', '!']\n",
    "not_fun = fun\n",
    "print(fun)\n",
    "print(not_fun)\n",
    "\n",
    "not_fun.append('Not really...')\n",
    "\n",
    "print(fun)\n",
    "print(not_fun)"
   ]
  },
  {
   "cell_type": "markdown",
   "id": "c04e1172-65ae-4bda-9910-54f4f34370e9",
   "metadata": {},
   "source": [
    "Pythonban minden változó referencia. De az első példában láthattuk, hogy a szöveg esetén nem volt a fenti példához hasonló problémánk. Ez hogy lehetséges? Ha belegondolunk, a szám típusok, vagy például a szöveg típus esetén nem tudjuk a változó mögött lévő objektumot (memória tartalmat) olyan módon megváltoztatni, mint azt a lista `append` vagy `extend` függvényeinek segítségével tettük. Minden olyan esetben, amikor úgy tűnik egy szám, vagy szöveg változásra került, igazából a változó feltűnik egy értékadás jobb oldalán, így új objektum jön létre a memóriában. Az ilyen adattípusokat, melyek értékei nem megváltoztathatóak **megváltoztathatatlan** (_**immutable**_) típusoknak nevezzük; ezzel szemben az olyan típusokat amelyek **megváltozthatóak** (_**mutable**_) típusnak hívjuk. Az eddig tanul típusok esetén az osztályozás a kövekező:\n",
    "- _Immutable_ típusok: `int`, `float`, `boolean`, `string`, `tuple`\n",
    "- _Mutable_ típusok: `list`, `dict`"
   ]
  },
  {
   "cell_type": "markdown",
   "id": "02e1587a-eeda-41ed-85da-510433138d02",
   "metadata": {},
   "source": [
    "### Sekély és mélymásolás"
   ]
  },
  {
   "cell_type": "markdown",
   "id": "de58f78e-e9a8-4d2a-82a2-2dc522369c4e",
   "metadata": {},
   "source": [
    "_mutable_ típusok esetén tehát problémába ütközünk, amikor egy másolatot szeretnénk készíteni. Ebben a példában két változót szeretnénk, amely két különböző szöveget tárolna:"
   ]
  },
  {
   "cell_type": "code",
   "execution_count": 51,
   "id": "9b952e65-53a2-42af-a850-fc36cc66f6d4",
   "metadata": {},
   "outputs": [
    {
     "name": "stdout",
     "output_type": "stream",
     "text": [
      "['Programming', 'is not', 'fun', '!']\n",
      "['Programming', 'is not', 'fun', '!']\n"
     ]
    }
   ],
   "source": [
    "fun = ['Programming', 'is', 'fun', '!']\n",
    "not_fun = fun\n",
    "not_fun[1] = 'is not'\n",
    "\n",
    "print(fun)\n",
    "print(not_fun)"
   ]
  },
  {
   "cell_type": "markdown",
   "id": "21f930e2-688c-4df4-80e0-b70dbaa2cceb",
   "metadata": {},
   "source": [
    "Tehát a `not_fun` listát nem tudjuk megváltoztatni anélkül, hogy a `fun` változó ne változzon. Ezt úgy mondjuk, hogy a `not_fun = fun` egy **sekély másolás**, mivel csak referenciát másol. Ha egy teljes másolatot akarunk készíteni egy `mutable` típus mögött lévő objektumról, akkor a `copy()` függvényt kell meghívnunk a változón. Ezt hívjuk **mély másolásnak**:"
   ]
  },
  {
   "cell_type": "code",
   "execution_count": 52,
   "id": "15881d5b-9f1b-4c0d-b763-1deef16d60dd",
   "metadata": {},
   "outputs": [
    {
     "name": "stdout",
     "output_type": "stream",
     "text": [
      "['Programming', 'is', 'fun', '!']\n",
      "['Programming', 'is not', 'fun', '!']\n"
     ]
    }
   ],
   "source": [
    "fun = ['Programming', 'is', 'fun', '!']\n",
    "not_fun = fun.copy()\n",
    "not_fun[1] = 'is not'\n",
    "\n",
    "print(fun)\n",
    "print(not_fun)"
   ]
  },
  {
   "cell_type": "markdown",
   "id": "9bf6680c-10ad-4561-b321-38e23facdb88",
   "metadata": {},
   "source": [
    "```{admonition} Feladat\n",
    ":class: Important\n",
    "A fentiek szótárakra is igazak. Mutassuk meg a fenti _mutable_ tulajdonságokat szótárral!"
   ]
  },
  {
   "cell_type": "markdown",
   "id": "2e3478fb-f621-470a-97ef-4b9074d3535f",
   "metadata": {},
   "source": [
    "### _Mutable_ típusok függvényekben"
   ]
  },
  {
   "cell_type": "markdown",
   "id": "25946816-4284-4301-84ce-9a8ca3fd39cf",
   "metadata": {},
   "source": [
    "Nézzük meg az alábbi kódot, amely egy nagy számra cseréli a bemeneti változót:"
   ]
  },
  {
   "cell_type": "code",
   "execution_count": 53,
   "id": "c1bab5ca-c782-4e80-89a7-f04478a09878",
   "metadata": {},
   "outputs": [
    {
     "name": "stdout",
     "output_type": "stream",
     "text": [
      "100000\n",
      "0\n"
     ]
    }
   ],
   "source": [
    "def make_big(x):\n",
    "    x = 100000\n",
    "    print(x)\n",
    "\n",
    "a = 0\n",
    "make_big(a)\n",
    "print(a)"
   ]
  },
  {
   "cell_type": "markdown",
   "id": "124de728-9aca-4ce6-aed6-e578dc7d28ce",
   "metadata": {},
   "source": [
    "Semmi meglepő nem történt, mivel az `x` változó hatásköre csak a függvényen belül érvényesül, ezért a globális névtérben létrehozott `a` változót nem írja felül."
   ]
  },
  {
   "cell_type": "markdown",
   "id": "6279f469-3352-4cb6-9f44-82ced4d67186",
   "metadata": {},
   "source": [
    "Ezzel szemben nézzük meg az alábbi kódot:"
   ]
  },
  {
   "cell_type": "code",
   "execution_count": 54,
   "id": "000ff164-caa8-49f2-ae6c-545b879bc60c",
   "metadata": {},
   "outputs": [
    {
     "name": "stdout",
     "output_type": "stream",
     "text": [
      "[100000]\n",
      "[100000]\n"
     ]
    }
   ],
   "source": [
    "def make_big(x):\n",
    "    x[0] = 100000\n",
    "    print(x)\n",
    "    \n",
    "a = [0]\n",
    "make_big(a)\n",
    "print(a)"
   ]
  },
  {
   "cell_type": "markdown",
   "id": "bd68e450-9782-4ba5-a031-483e4a42e6ab",
   "metadata": {},
   "source": [
    "Meglepő módon azt tapasztaljuk, hogy a globális változó értéke megváltozott."
   ]
  },
  {
   "cell_type": "markdown",
   "id": "9f639b2f-af31-4cda-afa5-b697a58b816a",
   "metadata": {},
   "source": [
    "Mi történik? Mindkét esetben úgy képzelhetjük, hogy a `make_big` függvény `x` paramétere, egy, a függvény látókörébe tartozó változó, amelynek értéke a függvény hívásakor felveszi az `a` változó értékét, oly módon hogy az `a` mögötti referencia bemásolásra kerül az `x` változóba. Az első esetben a `x = 100000` sornál az `x` változó felvesz egy új referenciát ami az új `10000` értékre mutat. Ez egy új referencia, ezért a globális `a` nem változik meg. Ezzel szemben a lista esetén az `a` és `x` változók ugyanarra a listára mutató referenciák, ezért az `x` lista elemein történő változások hatással vannnak a globális névtérben létrehozott listára is."
   ]
  },
  {
   "cell_type": "markdown",
   "id": "592d2927-ac66-4934-9c21-6d1045e36722",
   "metadata": {},
   "source": [
    "Ez azt is jelenti, hogy nem csak az elemeken, hanem magán a listán végzett változtatás is hatással van a globális névtérben található `a` változóra:"
   ]
  },
  {
   "cell_type": "code",
   "execution_count": 55,
   "id": "b9f19265-be00-46ce-8449-08423bb07f58",
   "metadata": {},
   "outputs": [
    {
     "name": "stdout",
     "output_type": "stream",
     "text": [
      "[0, 100000]\n",
      "[0, 100000]\n"
     ]
    }
   ],
   "source": [
    "def make_big(x):\n",
    "    x.append(100000)\n",
    "    print(x)\n",
    "    \n",
    "a = [0]\n",
    "make_big(a)\n",
    "print(a)"
   ]
  },
  {
   "cell_type": "markdown",
   "id": "57d399c4-50f5-4990-8b62-95fea172b7ef",
   "metadata": {},
   "source": [
    "A fentiek további következménye, hogyha az `x` változót, amely egy listára mutató referenciát táról, egy értékadással felülírjuk, azaz egy új listára mutató referenciát hozunk létre, akkor az már nem fog változást okozni a globális névtérben található `a` változóra:"
   ]
  },
  {
   "cell_type": "code",
   "execution_count": 56,
   "id": "579bc491-6ba8-45fc-a3ef-78007de76e87",
   "metadata": {},
   "outputs": [
    {
     "name": "stdout",
     "output_type": "stream",
     "text": [
      "[100000]\n",
      "[0]\n"
     ]
    }
   ],
   "source": [
    "def make_big(x):\n",
    "    x = [100000]\n",
    "    print(x)\n",
    "    \n",
    "a = [0]\n",
    "make_big(a)\n",
    "print(a)"
   ]
  },
  {
   "cell_type": "markdown",
   "id": "67fad774-7b2f-405e-8f46-82d8c8cd99a7",
   "metadata": {},
   "source": [
    "A `x = [100000]` művelet ugyanaz, mint a `x = 100000` sor az első példánkban."
   ]
  },
  {
   "cell_type": "markdown",
   "id": "252dd013-1c6e-4d6d-9e2f-b164b19a451b",
   "metadata": {},
   "source": [
    "### Az `is` kulcsszó"
   ]
  },
  {
   "cell_type": "markdown",
   "id": "125ae7c9-ef41-4024-87b1-44cd56246dae",
   "metadata": {},
   "source": [
    "Az `is` kulcszóval ellenőrízhetjük, hogy két változó mögötti referenciák ugyanarra az objektumra mutat-e. Ez immutable típus esetén ugyan az mint a `==` összehasonlító operátor:"
   ]
  },
  {
   "cell_type": "code",
   "execution_count": 57,
   "id": "c62080e6-b8ef-4cc3-b4f8-21f25d8c8351",
   "metadata": {},
   "outputs": [
    {
     "name": "stdout",
     "output_type": "stream",
     "text": [
      "True\n"
     ]
    }
   ],
   "source": [
    "if (not False or True) is True:\n",
    "  print('True')"
   ]
  },
  {
   "cell_type": "markdown",
   "id": "aa83eb67-fdb4-45fe-80be-c9b40460dd1e",
   "metadata": {},
   "source": [
    "_mutable_ típusok esetén viszont különböző, nézzünk két példát. A két lista megegyezik az alábbi példában:"
   ]
  },
  {
   "cell_type": "code",
   "execution_count": 58,
   "id": "656900f5-f624-4b26-8b43-5d12c29c2618",
   "metadata": {},
   "outputs": [
    {
     "name": "stdout",
     "output_type": "stream",
     "text": [
      "It is true, so they are married!\n"
     ]
    }
   ],
   "source": [
    "shopping_list_jane = ['bread', 'milk']\n",
    "shopping_list_joe = ['bread', 'milk']\n",
    "\n",
    "if shopping_list_jane == shopping_list_joe:\n",
    "  print('It is true, so they are married!')\n",
    "else:\n",
    "  print('It is false, so they are not married!')"
   ]
  },
  {
   "cell_type": "markdown",
   "id": "e4dea293-191a-479b-a102-d0fa6a268829",
   "metadata": {},
   "source": [
    "Azonban a két változó mögötti referencia különbözik:"
   ]
  },
  {
   "cell_type": "code",
   "execution_count": 59,
   "id": "ddb6386e-a4ea-4766-9787-5e66a28acf57",
   "metadata": {},
   "outputs": [
    {
     "name": "stdout",
     "output_type": "stream",
     "text": [
      "It is false, so they are not married!\n"
     ]
    }
   ],
   "source": [
    "shopping_list_jane = ['bread', 'milk']\n",
    "shopping_list_joe = ['bread', 'milk']\n",
    "\n",
    "if shopping_list_jane is shopping_list_joe:\n",
    "  print('It is true, so they are married!')\n",
    "else:\n",
    "  print('It is false, so they are not married!')"
   ]
  }
 ],
 "metadata": {
  "kernelspec": {
   "display_name": "Python 3 (ipykernel)",
   "language": "python",
   "name": "python3"
  },
  "language_info": {
   "codemirror_mode": {
    "name": "ipython",
    "version": 3
   },
   "file_extension": ".py",
   "mimetype": "text/x-python",
   "name": "python",
   "nbconvert_exporter": "python",
   "pygments_lexer": "ipython3",
   "version": "3.8.10"
  }
 },
 "nbformat": 4,
 "nbformat_minor": 5
}
