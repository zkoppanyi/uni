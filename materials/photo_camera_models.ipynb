{
 "cells": [
  {
   "cell_type": "code",
   "execution_count": 1,
   "id": "551ffcf1",
   "metadata": {},
   "outputs": [],
   "source": [
    "%matplotlib widget\n",
    "import os, sys\n",
    "import numpy as np"
   ]
  },
  {
   "cell_type": "code",
   "execution_count": 2,
   "id": "4aa71676",
   "metadata": {},
   "outputs": [],
   "source": [
    "f = 7471\n",
    "x_c = 19.5\n",
    "y_c = -6\n",
    "width = 7952\n",
    "height = 5304\n",
    "k1 = 0.09\n",
    "k2 = 0.04629766820693931\n",
    "k3 = -0.07699880304345112\n",
    "t1 = 0.00043476760052012665\n",
    "t2 = 0.00023383541355524783"
   ]
  },
  {
   "cell_type": "code",
   "execution_count": 3,
   "id": "c82dc13d",
   "metadata": {},
   "outputs": [],
   "source": [
    "def image2pixel(p, f, x_c, y_c, width, height):\n",
    "    # output: coordinates in the image pixels crs which origin is upper left corner (cv standard axis directions)\n",
    "    K = np.array([[f, 0, x_c + width/2.0], [0, -f, height/2.0 - y_c]])\n",
    "    p_n = K.dot([p[0], p[1], 1])\n",
    "    return True, p_n\n",
    "\n",
    "def distort(p, f, x_c, y_c, k1, k2, k3, t1, t2):\n",
    "    # p is the image point's normalized coordinates\n",
    "    # f is the focal length\n",
    "    # x_c, y_c are the principle point from the image center\n",
    "    \n",
    "    r2 = p[0] * p[0] + p[1] * p[1]    \n",
    "    rp = 1 + k1*r2 + k2*r2*r2 + k3*r2*r2*r2\n",
    "\n",
    "    rx = p[0] * rp\n",
    "    ry = p[1] * rp\n",
    "\n",
    "    tx = t2 * (r2 + 2 * p[0] * p[0]) - 2 * t1 * p[0] * p[1];\n",
    "    ty = - t1 * (r2 + 2 * p[1] * p[1]) + 2 * t2 * p[0] * p[1];\n",
    "    \n",
    "    x = rx + tx;\n",
    "    y = ry + ty;\n",
    "    \n",
    "    return True, np.array([x, y])\n"
   ]
  },
  {
   "cell_type": "code",
   "execution_count": 4,
   "id": "5515400e",
   "metadata": {},
   "outputs": [
    {
     "name": "stdout",
     "output_type": "stream",
     "text": [
      "[5759.55115266 4128.20892124]\n"
     ]
    }
   ],
   "source": [
    "p_gt = [0.234, -0.195]\n",
    "\n",
    "# note: this model defines the radial and tangential distortions with normalized coordinates\n",
    "distort_fn = lambda p: distort(p, f, x_c, y_c, k1, k2, k3, t1, t2)\n",
    "result, p_d = distort_fn(p_gt)\n",
    "result, p_d = image2pixel(p_d, f, x_c, y_c, width, height)\n",
    "print(p_d)"
   ]
  },
  {
   "cell_type": "code",
   "execution_count": 5,
   "id": "89f801d5",
   "metadata": {},
   "outputs": [],
   "source": [
    "def pixel2image(p_d, x_c, y_c, width, height):\n",
    "    K = np.array([[f, 0, x_c + width/2.0], [0, -f, height/2.0 - y_c], [0, 0, 1]])\n",
    "    p_u = np.linalg.inv(K).dot([p_d[0], p_d[1], 1])\n",
    "    return True, p_u[:2]\n",
    "\n",
    "def undistort(p, distort_fn, epsilon=1e-10, max_iter_num=10, verbose=False):\n",
    "    \n",
    "    p_u = p.copy()\n",
    "    \n",
    "    result, p_d_i = distort_fn(p_u);\n",
    "    if result == False:\n",
    "        print('Distortion is unsucessful!')\n",
    "        return False, np.one((2, 1)) * np.nan\n",
    "    delta_p = p_d_i - p_u\n",
    "    \n",
    "    epsilon = 1e-10\n",
    "    iter_num = 0\n",
    "    while np.max(np.abs(p_u - (p - delta_p))) > epsilon and iter_num < max_iter_num:\n",
    "        p_u = p - delta_p\n",
    "        result, p_d_i = distort_fn(p_u)\n",
    "        if result == False:\n",
    "            print('Distortion is unsucessful!')\n",
    "            return False, np.one((2, 1)) * np.nan\n",
    "        delta_p = p_d_i - p_u\n",
    "        iter_num += 1\n",
    "        \n",
    "        if verbose:\n",
    "            num2str = lambda x: str(round(x, 10))\n",
    "            print('#' + num2str(iter_num) + \" x=\" + num2str(p_u[0]) + \n",
    "                  \" y=\" + num2str(p_u[0]) + \" delta=\" + num2str(np.max(np.abs(p_u - (p - delta_p)))))\n",
    "    \n",
    "    if iter_num == max_iter_num:\n",
    "        print('Did not converge!')\n",
    "        return False, p_u\n",
    "    \n",
    "    return True, p_u"
   ]
  },
  {
   "cell_type": "code",
   "execution_count": 6,
   "id": "acebb853",
   "metadata": {},
   "outputs": [
    {
     "name": "stdout",
     "output_type": "stream",
     "text": [
      "#1 x=0.2339412609 y=0.2339412609 delta=6.03512e-05\n",
      "#2 x=0.234001612 y=0.234001612 delta=1.6563e-06\n",
      "#3 x=0.2339999557 y=0.2339999557 delta=4.55e-08\n",
      "#4 x=0.2340000012 y=0.2340000012 delta=1.2e-09\n",
      "#5 x=0.234 y=0.234 delta=0.0\n"
     ]
    }
   ],
   "source": [
    "result, p_c = pixel2image(p_d, x_c, y_c, width, height)\n",
    "result, p_u = undistort(p_c, distort_fn, verbose=True)"
   ]
  },
  {
   "cell_type": "code",
   "execution_count": null,
   "id": "7fd0f5fc",
   "metadata": {},
   "outputs": [],
   "source": []
  }
 ],
 "metadata": {
  "kernelspec": {
   "display_name": "Python 3 (ipykernel)",
   "language": "python",
   "name": "python3"
  },
  "language_info": {
   "codemirror_mode": {
    "name": "ipython",
    "version": 3
   },
   "file_extension": ".py",
   "mimetype": "text/x-python",
   "name": "python",
   "nbconvert_exporter": "python",
   "pygments_lexer": "ipython3",
   "version": "3.8.10"
  }
 },
 "nbformat": 4,
 "nbformat_minor": 5
}
