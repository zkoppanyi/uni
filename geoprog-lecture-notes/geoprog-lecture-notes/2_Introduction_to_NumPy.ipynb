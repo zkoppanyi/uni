{
 "cells": [
  {
   "cell_type": "markdown",
   "metadata": {
    "id": "1yxi-muF1e6M",
    "user_expressions": []
   },
   "source": [
    "# Bevezetés a `numpy` könyvtárba"
   ]
  },
  {
   "cell_type": "markdown",
   "metadata": {
    "id": "YPMCc0EG4D_e",
    "user_expressions": []
   },
   "source": [
    "`numpy` könyvtár importálása:"
   ]
  },
  {
   "cell_type": "code",
   "execution_count": 179,
   "metadata": {
    "id": "7iEcmD291ggD"
   },
   "outputs": [],
   "source": [
    "import numpy as np"
   ]
  },
  {
   "cell_type": "markdown",
   "metadata": {
    "id": "xOQyg6Hl4NSU",
    "user_expressions": []
   },
   "source": [
    "### Tömbök létrehozása"
   ]
  },
  {
   "cell_type": "markdown",
   "metadata": {
    "user_expressions": []
   },
   "source": [
    "Nézzük meg hogy hozzunk létre egy tömböt:"
   ]
  },
  {
   "cell_type": "code",
   "execution_count": 180,
   "metadata": {
    "colab": {
     "base_uri": "https://localhost:8080/"
    },
    "id": "E9eH_BZ70IA0",
    "outputId": "67264cb7-7454-4ec0-a987-a2bae1505f59"
   },
   "outputs": [
    {
     "name": "stdout",
     "output_type": "stream",
     "text": [
      "[1 2 3 4 5]\n",
      "<class 'numpy.ndarray'>\n"
     ]
    }
   ],
   "source": [
    "arr = np.array([1, 2, 3, 4, 5])\n",
    "print(arr)\n",
    "print(type(arr))"
   ]
  },
  {
   "cell_type": "markdown",
   "metadata": {
    "user_expressions": []
   },
   "source": [
    "Emlékeztetőül, a lista bármilyen típusú elemt tartalmazhat. Ezzel szemben a `numpy` tömb csak azonos típusú elemeket tárolhat. A következő képpen tudjuk megnézni, hogy a tömb milyen típusú elemeket tárol:"
   ]
  },
  {
   "cell_type": "code",
   "execution_count": 181,
   "metadata": {
    "colab": {
     "base_uri": "https://localhost:8080/"
    },
    "id": "pLE-qsdQa96r",
    "outputId": "3fd94136-bbb6-401a-b2a5-bac9f0bc2e00"
   },
   "outputs": [
    {
     "name": "stdout",
     "output_type": "stream",
     "text": [
      "int64\n"
     ]
    }
   ],
   "source": [
    "arr = np.array([1, 2, 3, 4, 5])\n",
    "print(arr.dtype)"
   ]
  },
  {
   "cell_type": "markdown",
   "metadata": {
    "user_expressions": []
   },
   "source": [
    "```{admonition} Kiegészítő anyag\n",
    ":class: note\n",
    "A listával szemben, mely láncolt listaként van megvalósítva, a `numpy` tömb folytonos memória területet használ. Mivel az elemek azonosak, így a tömb egy elemét annak indexe alapján könnyen meg lehet határozni a memóriában: például a 10-ik elem memóriában elfolgalt helyét úgy kapjuk meg, hogy a tömb típusának méretét 10-zel felszorozzuk. Ennek az adattárolésnak vannak előnyei és hátrányai is. Hasonlítsuk össze a tömböt a listával, hogy melyik előnyösebb a következő műveletek szempontjából: elem törlése, elem beszúrása, új elem hozzáadása.\n",
    "```"
   ]
  },
  {
   "cell_type": "markdown",
   "metadata": {
    "user_expressions": []
   },
   "source": [
    "Nézzünk egy példát, amikor szöveget tárolunk egy listában:"
   ]
  },
  {
   "cell_type": "code",
   "execution_count": 182,
   "metadata": {
    "colab": {
     "base_uri": "https://localhost:8080/"
    },
    "id": "ZyBsfjBZbFfO",
    "outputId": "be1708f4-e13e-41a6-f4a9-016d5a4e9e40"
   },
   "outputs": [
    {
     "name": "stdout",
     "output_type": "stream",
     "text": [
      "<U5\n"
     ]
    }
   ],
   "source": [
    "arr = np.array(['one', 'two', 'three', 'four', 'five'])\n",
    "print(arr.dtype)"
   ]
  },
  {
   "cell_type": "markdown",
   "metadata": {
    "user_expressions": []
   },
   "source": [
    "Egy másik példa `float` értékekkel:"
   ]
  },
  {
   "cell_type": "code",
   "execution_count": 183,
   "metadata": {
    "colab": {
     "base_uri": "https://localhost:8080/"
    },
    "id": "r6vQ_FbNbRWV",
    "outputId": "ab756d87-da46-4960-f8a9-849b19eb478b"
   },
   "outputs": [
    {
     "name": "stdout",
     "output_type": "stream",
     "text": [
      "float64\n"
     ]
    }
   ],
   "source": [
    "arr = np.array([1.2, 2.1, 3.4, 4.1, 5.1])\n",
    "print(arr.dtype)"
   ]
  },
  {
   "cell_type": "markdown",
   "metadata": {
    "id": "oo8_u-Gh4WGH",
    "user_expressions": []
   },
   "source": [
    "### Tömbök és dimenzióik"
   ]
  },
  {
   "cell_type": "markdown",
   "metadata": {
    "user_expressions": []
   },
   "source": [
    "A tömbök sok szemponból hasonlítanak a matematikában tanult mátrixszokra. A tömböknek van dimenziója. Nézzünk példákat a különböző lehetőségekre:"
   ]
  },
  {
   "cell_type": "markdown",
   "metadata": {
    "id": "7XGZKLk30fbA",
    "user_expressions": []
   },
   "source": [
    "Így hozzunk létre egy 0 dimenziós tömböt:"
   ]
  },
  {
   "cell_type": "code",
   "execution_count": 184,
   "metadata": {
    "colab": {
     "base_uri": "https://localhost:8080/"
    },
    "id": "g5ym3w3f0MYa",
    "outputId": "4edf3da2-7d09-4a30-91e1-9d71e650035a"
   },
   "outputs": [
    {
     "name": "stdout",
     "output_type": "stream",
     "text": [
      "5\n"
     ]
    }
   ],
   "source": [
    "arr = np.array(5)\n",
    "print(arr)"
   ]
  },
  {
   "cell_type": "markdown",
   "metadata": {
    "id": "HsAd8ahb0j2J",
    "user_expressions": []
   },
   "source": [
    "Vegyük észre, hogy nem használtunk `[]` zárójeleket. Ezzel szemben az 1 dimenziós tömb:"
   ]
  },
  {
   "cell_type": "code",
   "execution_count": 185,
   "metadata": {
    "colab": {
     "base_uri": "https://localhost:8080/"
    },
    "id": "3I0M8rpr0aSh",
    "outputId": "477f30b5-bc80-4ffa-df23-6114b39244db"
   },
   "outputs": [
    {
     "name": "stdout",
     "output_type": "stream",
     "text": [
      "[1 2 3 4 5]\n",
      "<class 'numpy.ndarray'>\n"
     ]
    }
   ],
   "source": [
    "arr = np.array([1, 2, 3, 4, 5])\n",
    "print(arr)\n",
    "print(type(arr))"
   ]
  },
  {
   "cell_type": "markdown",
   "metadata": {
    "id": "-AdFlOp00uql",
    "user_expressions": []
   },
   "source": [
    "A 2 dimenziós tömbhöz két `[]` kapcsos zárójelet használunk:"
   ]
  },
  {
   "cell_type": "code",
   "execution_count": 186,
   "metadata": {
    "colab": {
     "base_uri": "https://localhost:8080/"
    },
    "id": "uHa0CMo30tAu",
    "outputId": "86692a64-414f-459f-8860-5ef2b8185fe0"
   },
   "outputs": [
    {
     "name": "stdout",
     "output_type": "stream",
     "text": [
      "[[1 2 3]\n",
      " [4 5 6]]\n",
      "<class 'numpy.ndarray'>\n"
     ]
    }
   ],
   "source": [
    "arr = np.array([[1, 2, 3], [4, 5, 6]])\n",
    "print(arr)\n",
    "print(type(arr))"
   ]
  },
  {
   "cell_type": "markdown",
   "metadata": {
    "id": "1JbT2ag-1RaG",
    "user_expressions": []
   },
   "source": [
    "Nüzzük meg, hogy tudjuk a dimenziót és a méretet lekérdezni:"
   ]
  },
  {
   "cell_type": "code",
   "execution_count": 187,
   "metadata": {
    "colab": {
     "base_uri": "https://localhost:8080/"
    },
    "id": "AE-C9ka302B9",
    "outputId": "b12296a6-e88d-4189-854f-2d228b584958"
   },
   "outputs": [
    {
     "name": "stdout",
     "output_type": "stream",
     "text": [
      "0\n",
      "()\n",
      "1\n",
      "(5,)\n",
      "2\n",
      "(2, 3)\n"
     ]
    }
   ],
   "source": [
    "import numpy as np\n",
    "\n",
    "a = np.array(42)\n",
    "print(a.ndim)\n",
    "print(a.shape)\n",
    "\n",
    "b = np.array([1, 2, 3, 4, 5])\n",
    "print(b.ndim)\n",
    "print(b.shape)\n",
    "\n",
    "c = np.array([[1, 2, 3], [4, 5, 6]])\n",
    "print(c.ndim)\n",
    "print(c.shape)"
   ]
  },
  {
   "cell_type": "markdown",
   "metadata": {
    "id": "w1DSxjT-4Zu4",
    "user_expressions": []
   },
   "source": [
    "### Tömbök indexszelése"
   ]
  },
  {
   "cell_type": "markdown",
   "metadata": {
    "id": "HqaWtH0_1Yil",
    "user_expressions": []
   },
   "source": [
    "`numpy` tömböket a következő képpen indexszelhetünk:"
   ]
  },
  {
   "cell_type": "code",
   "execution_count": 188,
   "metadata": {
    "colab": {
     "base_uri": "https://localhost:8080/"
    },
    "id": "VuoMId3S06Rl",
    "outputId": "f5771d2d-04da-4efe-aa85-84cece5600e8"
   },
   "outputs": [
    {
     "name": "stdout",
     "output_type": "stream",
     "text": [
      "42\n",
      "1\n",
      "2\n"
     ]
    }
   ],
   "source": [
    "a = np.array(42)\n",
    "print(a)\n",
    "\n",
    "b = np.array([1, 2, 3, 4, 5])\n",
    "print(b[0])\n",
    "\n",
    "c = np.array([[1, 2, 3], [4, 5, 6]])\n",
    "print(c[0, 1]) \n"
   ]
  },
  {
   "cell_type": "markdown",
   "metadata": {
    "id": "7t3P7q5G2wwW",
    "user_expressions": []
   },
   "source": [
    "Ez nagyon hasonlít a lista indexeléshez. De a tömb indexszelés szintaktikája különzik egy dimenziónál nagyobb tömbök esetén:"
   ]
  },
  {
   "cell_type": "code",
   "execution_count": 189,
   "metadata": {
    "colab": {
     "base_uri": "https://localhost:8080/"
    },
    "id": "otuCmS1C2wWY",
    "outputId": "ce194bb8-c011-4e35-9801-aaac846e458a"
   },
   "outputs": [
    {
     "name": "stdout",
     "output_type": "stream",
     "text": [
      "2\n",
      "2\n"
     ]
    }
   ],
   "source": [
    "numbers = [[1, 2, 3], [4, 5, 6]]\n",
    "print(numbers[0][1]) # lista indexszelése\n",
    "\n",
    "numpy_array = np.array(numbers) \n",
    "print(numpy_array[0, 1]) # tömb indexszelése"
   ]
  },
  {
   "cell_type": "markdown",
   "metadata": {
    "id": "zG6WBj4s4fWa",
    "user_expressions": []
   },
   "source": [
    "### Iterálás tömbökön"
   ]
  },
  {
   "cell_type": "markdown",
   "metadata": {
    "id": "NwTvkSnJ3cbg",
    "user_expressions": []
   },
   "source": [
    "Iterálás 1D listán:"
   ]
  },
  {
   "cell_type": "code",
   "execution_count": 190,
   "metadata": {
    "colab": {
     "base_uri": "https://localhost:8080/"
    },
    "id": "fEijAmmy3b7K",
    "outputId": "e40cae17-0fcb-48f6-82cb-a4ada7ceeb98"
   },
   "outputs": [
    {
     "name": "stdout",
     "output_type": "stream",
     "text": [
      "1\n",
      "2\n",
      "3\n",
      "4\n",
      "5\n"
     ]
    }
   ],
   "source": [
    "b = np.array([1, 2, 3, 4, 5])\n",
    "for k in range(b.shape[0]):\n",
    "  print(b[k])"
   ]
  },
  {
   "cell_type": "code",
   "execution_count": 191,
   "metadata": {
    "colab": {
     "base_uri": "https://localhost:8080/"
    },
    "id": "w9IcEBBDW6o0",
    "outputId": "fa2c0fb1-4add-43a6-aa2a-2c7f3934807a"
   },
   "outputs": [
    {
     "name": "stdout",
     "output_type": "stream",
     "text": [
      "1\n",
      "2\n",
      "3\n",
      "4\n",
      "5\n"
     ]
    }
   ],
   "source": [
    "b = np.array([1, 2, 3, 4, 5])\n",
    "for elem in b:\n",
    "  print(elem)"
   ]
  },
  {
   "cell_type": "markdown",
   "metadata": {
    "id": "4MkIEaLp3Qge",
    "user_expressions": []
   },
   "source": [
    "Iteráljunk végig egy 2D tömbön:"
   ]
  },
  {
   "cell_type": "code",
   "execution_count": 192,
   "metadata": {
    "colab": {
     "base_uri": "https://localhost:8080/"
    },
    "id": "nFbgKlhf2lQ3",
    "outputId": "b02ace4a-3d59-4a31-c4ca-22406c1abef7"
   },
   "outputs": [
    {
     "name": "stdout",
     "output_type": "stream",
     "text": [
      "1\n",
      "2\n",
      "3\n",
      "4\n",
      "5\n",
      "6\n"
     ]
    }
   ],
   "source": [
    "numbers = np.array([[1, 2, 3], [4, 5, 6]])\n",
    "for i in range(0, numbers.shape[0]):\n",
    "  for j in range(0, numbers.shape[1]):\n",
    "    print(numbers[i, j])"
   ]
  },
  {
   "cell_type": "code",
   "execution_count": 193,
   "metadata": {
    "colab": {
     "base_uri": "https://localhost:8080/"
    },
    "id": "_IrSSZBj2NVi",
    "outputId": "ea461c22-632c-4c99-f3ac-7d05db713b96"
   },
   "outputs": [
    {
     "name": "stdout",
     "output_type": "stream",
     "text": [
      "[1 2 3]\n",
      "1\n",
      "2\n",
      "3\n",
      "[4 5 6]\n",
      "4\n",
      "5\n",
      "6\n"
     ]
    }
   ],
   "source": [
    "arr_2d = np.array([[1, 2, 3], [4, 5, 6]])\n",
    "for row in arr_2d:\n",
    "  print(row)\n",
    "  for elem in row:\n",
    "    print(elem)"
   ]
  },
  {
   "cell_type": "markdown",
   "metadata": {
    "id": "eg--cO7TYMpa",
    "user_expressions": []
   },
   "source": [
    "### Szeletelés (slicing) tömbökön "
   ]
  },
  {
   "cell_type": "code",
   "execution_count": 194,
   "metadata": {
    "id": "9xq--KUHXfdM"
   },
   "outputs": [
    {
     "name": "stdout",
     "output_type": "stream",
     "text": [
      "[3 4]\n",
      "[1 2 3 4]\n",
      "[1 2 3 4]\n",
      "5\n",
      "4\n",
      "[3 4]\n",
      "[3 4 5]\n",
      "[1 3 5]\n",
      "[1 3 5]\n",
      "[1 3 5]\n"
     ]
    }
   ],
   "source": [
    "arr_1d = np.array([1, 2, 3, 4, 5])\n",
    "print(arr_1d[2:4])\n",
    "print(arr_1d[0:4])\n",
    "print(arr_1d[:4]) # simplification of previous\n",
    "\n",
    "print(arr_1d[-1]) # [-5, -4, -3, -2, -1]\n",
    "print(arr_1d[-2])\n",
    "print(arr_1d[-3:-1]) \n",
    "print(arr_1d[-3:]) \n",
    "\n",
    "print(arr_1d[0:5:2]) # start_index:end_index:step\n",
    "print(arr_1d[0::2]) # automatically to the end, end_index=arr_1d.shape[0]\n",
    "print(arr_1d[::2]) # automatically from start to the end, start_index=0, end_index=arr_1d.shape[0]"
   ]
  },
  {
   "cell_type": "code",
   "execution_count": 195,
   "metadata": {
    "id": "9dq1lcZdYZBJ"
   },
   "outputs": [
    {
     "name": "stdout",
     "output_type": "stream",
     "text": [
      "[[2 3]\n",
      " [5 6]]\n"
     ]
    }
   ],
   "source": [
    "arr_2d = np.array([[1, 2, 3], [4, 5, 6]])\n",
    "print(arr_2d[0:2, 1:3]) "
   ]
  },
  {
   "cell_type": "code",
   "execution_count": 196,
   "metadata": {
    "id": "78-MTQ43cSU9"
   },
   "outputs": [
    {
     "name": "stdout",
     "output_type": "stream",
     "text": [
      "[[1 2 3]\n",
      " [4 5 6]]\n",
      "\n",
      "[[1 2]\n",
      " [3 4]\n",
      " [5 6]]\n",
      "\n",
      "[[1 2 3 4 5 6]]\n",
      "\n",
      "[[1 2]\n",
      " [3 4]\n",
      " [5 6]]\n",
      "[[1 2 3]\n",
      " [4 5 6]]\n"
     ]
    }
   ],
   "source": [
    "arr_2d = np.array([[1, 2, 3], [4, 5, 6]]) # 2 x 3\n",
    "print(arr_2d) \n",
    "print()\n",
    "\n",
    "print(arr_2d.reshape(3, 2)) \n",
    "print()\n",
    "\n",
    "print(arr_2d.reshape(1, 6)) \n",
    "print()\n",
    "\n",
    "print(arr_2d.reshape(3, -1)) \n",
    "print(arr_2d.reshape(-1, 3)) "
   ]
  },
  {
   "cell_type": "code",
   "execution_count": 197,
   "metadata": {
    "id": "N52tSGzydNS2"
   },
   "outputs": [
    {
     "name": "stdout",
     "output_type": "stream",
     "text": [
      "2\n",
      "2\n",
      "3\n",
      "2\n"
     ]
    }
   ],
   "source": [
    "arr_2d = np.array([[1, 2, 3], [4, 5, 6]])\n",
    "print(arr_2d.ndim)\n",
    "print(arr_2d[0, 1])\n",
    "\n",
    "arr_3d = arr_2d.reshape(2, -1, 3)\n",
    "print(arr_3d.ndim) \n",
    "print(arr_3d[0, 0, 1])"
   ]
  },
  {
   "cell_type": "markdown",
   "metadata": {
    "id": "Ee0ACIj7beBc",
    "user_expressions": []
   },
   "source": [
    "### Sekély és mély másolás tömbökön"
   ]
  },
  {
   "cell_type": "code",
   "execution_count": 198,
   "metadata": {
    "id": "x-YsP2OgZotd"
   },
   "outputs": [
    {
     "name": "stdout",
     "output_type": "stream",
     "text": [
      "[  1 100   3   4   5]\n",
      "[  1 100   3   4   5]\n"
     ]
    }
   ],
   "source": [
    "a = np.array([1, 2, 3, 4, 5])\n",
    "b = a\n",
    "\n",
    "a[1] = 100\n",
    "\n",
    "print(a)\n",
    "print(b)"
   ]
  },
  {
   "cell_type": "code",
   "execution_count": 199,
   "metadata": {
    "id": "kkp79nUjbx_u"
   },
   "outputs": [
    {
     "name": "stdout",
     "output_type": "stream",
     "text": [
      "[  1 100   3   4   5]\n",
      "[1 2 3 4 5]\n",
      "[  1 100   3   4   5]\n"
     ]
    }
   ],
   "source": [
    "a = np.array([1, 2, 3, 4, 5])\n",
    "\n",
    "a_copy = a.copy() # mély másolás\n",
    "a_view = a.view() # sekély másolás\n",
    "\n",
    "a[1] = 100\n",
    "\n",
    "print(a)\n",
    "print(a_copy)\n",
    "print(a_view)"
   ]
  },
  {
   "cell_type": "markdown",
   "metadata": {
    "id": "Pz2uGXUver65",
    "user_expressions": []
   },
   "source": [
    "### Tömbök összefűzése"
   ]
  },
  {
   "cell_type": "markdown",
   "metadata": {
    "id": "XauDaW_95cKd",
    "user_expressions": []
   },
   "source": [
    "Összefűzés `concatenate` segítségével:"
   ]
  },
  {
   "cell_type": "code",
   "execution_count": 200,
   "metadata": {
    "id": "qF4bsyaUcDG9"
   },
   "outputs": [
    {
     "name": "stdout",
     "output_type": "stream",
     "text": [
      "[[1 2 3]\n",
      " [4 5 6]]\n",
      "2\n",
      "[1 2 3 4 5 6]\n",
      "1\n"
     ]
    }
   ],
   "source": [
    "arr1 = np.array([1, 2, 3])\n",
    "arr2 = np.array([4, 5, 6])\n",
    "\n",
    "con_arr = np.array([arr1, arr2])\n",
    "print(con_arr)\n",
    "print(con_arr.ndim)\n",
    "\n",
    "conn_arr_2 = np.concatenate((arr1, arr2))\n",
    "print(conn_arr_2)\n",
    "print(conn_arr_2.ndim)"
   ]
  },
  {
   "cell_type": "code",
   "execution_count": 201,
   "metadata": {
    "id": "grAczkQGfFhG"
   },
   "outputs": [
    {
     "name": "stdout",
     "output_type": "stream",
     "text": [
      "[1 2 3 4 5 6 1 2 3]\n"
     ]
    }
   ],
   "source": [
    "arr1 = np.array([1, 2, 3])\n",
    "arr2 = np.array([4, 5, 6])\n",
    "conn_arr_2 = np.concatenate((arr1, arr2, arr1))\n",
    "print(conn_arr_2)\n"
   ]
  },
  {
   "cell_type": "code",
   "execution_count": 202,
   "metadata": {
    "id": "68nUE-daf7-x"
   },
   "outputs": [
    {
     "name": "stdout",
     "output_type": "stream",
     "text": [
      "[[1 2 3]\n",
      " [4 5 6]\n",
      " [1 2 3]\n",
      " [4 5 6]]\n"
     ]
    }
   ],
   "source": [
    "arr_2d = np.array([[1, 2, 3], [4, 5, 6]]) # 2 x 3\n",
    "print(np.concatenate((arr_2d, arr_2d))) # 4 x 3"
   ]
  },
  {
   "cell_type": "markdown",
   "metadata": {
    "id": "DK04jrPX4_cJ",
    "user_expressions": []
   },
   "source": [
    "Összefűzés adott dimenzió (tengely) mentén:"
   ]
  },
  {
   "cell_type": "code",
   "execution_count": 203,
   "metadata": {
    "id": "d9dQbP5i48z7"
   },
   "outputs": [
    {
     "name": "stdout",
     "output_type": "stream",
     "text": [
      "[[1 2 3 1 2 3]\n",
      " [4 5 6 4 5 6]]\n",
      "[[1 2 3]\n",
      " [4 5 6]\n",
      " [1 2 3]\n",
      " [4 5 6]]\n"
     ]
    }
   ],
   "source": [
    "arr_2d = np.array([[1, 2, 3], [4, 5, 6]]) # 2 x 3\n",
    "print(np.concatenate((arr_2d, arr_2d), axis=1)) # 2 x 6\n",
    "print(np.concatenate((arr_2d, arr_2d), axis=0)) # 4 x 3"
   ]
  },
  {
   "cell_type": "code",
   "execution_count": 204,
   "metadata": {
    "id": "LBMvTlhigecr"
   },
   "outputs": [
    {
     "name": "stdout",
     "output_type": "stream",
     "text": [
      "[[[1 2 3]\n",
      "  [1 2 3]]\n",
      "\n",
      " [[4 5 6]\n",
      "  [4 5 6]]]\n",
      "2\n",
      "2\n"
     ]
    }
   ],
   "source": [
    "arr_3d = np.array([[1, 2, 3], [4, 5, 6]]).reshape(2, -1, 3) # 2 x 1 x 3\n",
    "con_arr = np.concatenate((arr_3d, arr_3d), axis=1) # 2 x 2 x 3\n",
    "print(con_arr)\n",
    "print(con_arr[0, 0, 1])\n",
    "print(con_arr[0, 1, 1])"
   ]
  },
  {
   "cell_type": "markdown",
   "metadata": {
    "id": "co4FAt5Y5pM8",
    "user_expressions": []
   },
   "source": [
    "Horizontális és vertikális összefűzés `vstack` és `hstack` segítségével:"
   ]
  },
  {
   "cell_type": "code",
   "execution_count": 205,
   "metadata": {
    "id": "YzNsF9W5heT5"
   },
   "outputs": [
    {
     "name": "stdout",
     "output_type": "stream",
     "text": [
      "[[1 2 3]\n",
      " [4 5 6]\n",
      " [1 2 3]\n",
      " [4 5 6]]\n",
      "[[1 2 3 1 2 3]\n",
      " [4 5 6 4 5 6]]\n"
     ]
    }
   ],
   "source": [
    "arr_2d = np.array([[1, 2, 3], [4, 5, 6]]) # 2 x 3\n",
    "print(np.vstack((arr_2d, arr_2d)))  # 4 x 3\n",
    "print(np.hstack((arr_2d, arr_2d)))  # 2 x 6"
   ]
  },
  {
   "cell_type": "markdown",
   "metadata": {
    "id": "t8alrkMbt7a7",
    "user_expressions": []
   },
   "source": [
    "## Matematikai függvények `numpy` könyvtárral"
   ]
  },
  {
   "cell_type": "code",
   "execution_count": 206,
   "metadata": {
    "id": "Sh5GNzkLvdxf"
   },
   "outputs": [],
   "source": [
    "import numpy as np"
   ]
  },
  {
   "cell_type": "markdown",
   "metadata": {
    "id": "LWVMn1E8vjui",
    "user_expressions": []
   },
   "source": [
    "Néhány hasznos függvény a könyvtárból"
   ]
  },
  {
   "cell_type": "code",
   "execution_count": 207,
   "metadata": {
    "id": "s7W3Iaqvvm1q"
   },
   "outputs": [
    {
     "name": "stdout",
     "output_type": "stream",
     "text": [
      "[0.09983342 0.47942554 0.71735609]\n",
      "[0. 0. 1.]\n",
      "1.4\n",
      "[0.4 0.3]\n",
      "[ 5.72957795 28.64788976 45.83662361]\n",
      "[0.00174533 0.00872665 0.01396263]\n"
     ]
    }
   ],
   "source": [
    "v = np.array([0.1, 0.5, 0.8])\n",
    "print(np.sin(v))\n",
    "print(np.round(v))\n",
    "print(np.sum(v))\n",
    "print(np.diff(v))\n",
    "print(np.degrees(v))\n",
    "print(np.radians(v))"
   ]
  },
  {
   "cell_type": "markdown",
   "metadata": {
    "id": "afcTrReXvgea",
    "user_expressions": []
   },
   "source": [
    "Mátrixok létrehozása"
   ]
  },
  {
   "cell_type": "code",
   "execution_count": 208,
   "metadata": {
    "id": "Y743ysShuBlI"
   },
   "outputs": [
    {
     "name": "stdout",
     "output_type": "stream",
     "text": [
      "[[1. 0. 0.]\n",
      " [0. 1. 0.]\n",
      " [0. 0. 1.]]\n"
     ]
    }
   ],
   "source": [
    "I = np.eye(3)\n",
    "print(I)"
   ]
  },
  {
   "cell_type": "code",
   "execution_count": 209,
   "metadata": {
    "id": "hDr4ytRduOSn"
   },
   "outputs": [
    {
     "name": "stdout",
     "output_type": "stream",
     "text": [
      "[[1. 0. 0.]]\n"
     ]
    }
   ],
   "source": [
    "i = np.eye(1,3)\n",
    "print(i)"
   ]
  },
  {
   "cell_type": "code",
   "execution_count": 210,
   "metadata": {
    "id": "m2c-QGiTuKWZ"
   },
   "outputs": [
    {
     "name": "stdout",
     "output_type": "stream",
     "text": [
      "[0. 0. 0.]\n"
     ]
    }
   ],
   "source": [
    "Z = np.zeros(3)\n",
    "print(Z)"
   ]
  },
  {
   "cell_type": "code",
   "execution_count": 211,
   "metadata": {
    "id": "neUxhpn9uY9u"
   },
   "outputs": [
    {
     "name": "stdout",
     "output_type": "stream",
     "text": [
      "[[0. 0. 0.]\n",
      " [0. 0. 0.]\n",
      " [0. 0. 0.]]\n"
     ]
    }
   ],
   "source": [
    "z = np.zeros((3,3))\n",
    "print(z)"
   ]
  },
  {
   "cell_type": "code",
   "execution_count": 212,
   "metadata": {
    "id": "Yx1fSrDEuedu"
   },
   "outputs": [
    {
     "name": "stdout",
     "output_type": "stream",
     "text": [
      "[14 32 50]\n"
     ]
    }
   ],
   "source": [
    "v = np.array([1, 2, 3])\n",
    "M = np.array([[1, 2, 3], [4, 5, 6], [7, 8, 9]])\n",
    "r = M @ v\n",
    "print(r)"
   ]
  },
  {
   "cell_type": "code",
   "execution_count": 213,
   "metadata": {
    "id": "UWCz6Dh9uvSL"
   },
   "outputs": [
    {
     "name": "stdout",
     "output_type": "stream",
     "text": [
      "[30 36 42]\n"
     ]
    }
   ],
   "source": [
    "v = np.array([1, 2, 3])\n",
    "M = np.array([[1, 2, 3], [4, 5, 6], [7, 8, 9]])\n",
    "r = M.T @ v\n",
    "print(r)"
   ]
  },
  {
   "cell_type": "markdown",
   "metadata": {
    "id": "brwBgTcwvMAf",
    "user_expressions": []
   },
   "source": [
    "Skalár szorzat:"
   ]
  },
  {
   "cell_type": "code",
   "execution_count": 214,
   "metadata": {
    "id": "iaiHGaeDuzQk"
   },
   "outputs": [
    {
     "name": "stdout",
     "output_type": "stream",
     "text": [
      "14\n"
     ]
    }
   ],
   "source": [
    "v = np.array([1, 2, 3])\n",
    "r = v.T @ v\n",
    "print(r)"
   ]
  },
  {
   "cell_type": "markdown",
   "metadata": {
    "id": "ef6_CCXyvOhi",
    "user_expressions": []
   },
   "source": [
    "Diadikus szorzat:"
   ]
  },
  {
   "cell_type": "code",
   "execution_count": 215,
   "metadata": {
    "id": "DjDTBbjgu7xX"
   },
   "outputs": [
    {
     "name": "stdout",
     "output_type": "stream",
     "text": [
      "14\n"
     ]
    }
   ],
   "source": [
    "v = np.array([1, 2, 3])\n",
    "r = v @ v.T\n",
    "print(r)"
   ]
  },
  {
   "cell_type": "markdown",
   "metadata": {
    "id": "XD05nIv8vRMS",
    "user_expressions": []
   },
   "source": [
    "... ez így nem működik! Miért? "
   ]
  },
  {
   "cell_type": "code",
   "execution_count": 216,
   "metadata": {
    "id": "ZGoQdPllvABy"
   },
   "outputs": [
    {
     "name": "stdout",
     "output_type": "stream",
     "text": [
      "[[1 2 3]\n",
      " [2 4 6]\n",
      " [3 6 9]]\n"
     ]
    }
   ],
   "source": [
    "v = np.array([[1, 2, 3]])\n",
    "r = v.T @ v\n",
    "print(r)"
   ]
  },
  {
   "cell_type": "markdown",
   "metadata": {
    "id": "7FbO-py5Wm5Z",
    "user_expressions": []
   },
   "source": [
    "## Numerikus adatok beolvasása/írása szöveges fájból"
   ]
  },
  {
   "cell_type": "code",
   "execution_count": 217,
   "metadata": {
    "id": "_gW9XsovWrBA"
   },
   "outputs": [],
   "source": [
    "data = np.loadtxt('./data/reg_interp/path.txt')"
   ]
  },
  {
   "cell_type": "code",
   "execution_count": 218,
   "metadata": {
    "id": "91y6iWpKXVRW"
   },
   "outputs": [],
   "source": [
    "np.savetxt('output/path_comma.txt', data, delimiter=';')"
   ]
  },
  {
   "cell_type": "code",
   "execution_count": 219,
   "metadata": {
    "id": "J0kO9haZXkUc"
   },
   "outputs": [],
   "source": [
    "np.savetxt('output/path_semicolon.txt', data, fmt='%.2f', delimiter=';')"
   ]
  },
  {
   "cell_type": "markdown",
   "metadata": {
    "id": "dWLhSMPcYcCr",
    "user_expressions": []
   },
   "source": [
    "Adjunk fejlécet a fájlhoz:"
   ]
  },
  {
   "cell_type": "code",
   "execution_count": 220,
   "metadata": {
    "id": "ZJqeAT9ZYbYS"
   },
   "outputs": [],
   "source": [
    "np.savetxt('output/path_header.txt', data, fmt='%.2f', delimiter=';', header='x [m];y [m]', comments='')"
   ]
  },
  {
   "cell_type": "code",
   "execution_count": 221,
   "metadata": {
    "id": "2-FXpJbcWvdf"
   },
   "outputs": [],
   "source": [
    "data = np.loadtxt('output/path_semicolon.txt', delimiter=';')"
   ]
  },
  {
   "cell_type": "code",
   "execution_count": 222,
   "metadata": {
    "id": "F_L6S4MeXBSK"
   },
   "outputs": [
    {
     "name": "stdout",
     "output_type": "stream",
     "text": [
      "(25, 2)\n",
      "(25, 2)\n"
     ]
    }
   ],
   "source": [
    "data_no_header = np.loadtxt('output/path_header.txt', delimiter=';', skiprows=1)\n",
    "print(data.shape)\n",
    "print(data_no_header.shape)"
   ]
  },
  {
   "cell_type": "code",
   "execution_count": null,
   "metadata": {
    "id": "JkM3yudJgI0X"
   },
   "outputs": [],
   "source": []
  }
 ],
 "metadata": {
  "colab": {
   "provenance": [],
   "toc_visible": true
  },
  "kernelspec": {
   "display_name": "Python 3 (ipykernel)",
   "language": "python",
   "name": "python3"
  },
  "language_info": {
   "codemirror_mode": {
    "name": "ipython",
    "version": 3
   },
   "file_extension": ".py",
   "mimetype": "text/x-python",
   "name": "python",
   "nbconvert_exporter": "python",
   "pygments_lexer": "ipython3",
   "version": "3.8.10"
  }
 },
 "nbformat": 4,
 "nbformat_minor": 4
}
